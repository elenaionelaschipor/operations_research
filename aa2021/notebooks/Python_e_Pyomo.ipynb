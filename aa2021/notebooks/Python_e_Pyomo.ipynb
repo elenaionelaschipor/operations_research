{
 "cells": [
  {
   "cell_type": "markdown",
   "id": "familiar-registration",
   "metadata": {},
   "source": [
    "<a rel=\"license\" href=\"http://creativecommons.org/licenses/by/4.0/\"><img alt=\"Creative Commons License\" style=\"border-width:0\" src=\"https://i.creativecommons.org/l/by/4.0/88x31.png\" /></a><br /><span xmlns:dct=\"http://purl.org/dc/terms/\" property=\"dct:title\"><b>Misc exercises</b></span> by <a xmlns:cc=\"http://creativecommons.org/ns#\" href=\"http://mate.unipv.it/gualandi\" property=\"cc:attributionName\" rel=\"cc:attributionURL\">Stefano Gualandi</a> is licensed under a <a rel=\"license\" href=\"http://creativecommons.org/licenses/by/4.0/\">Creative Commons Attribution 4.0 International License</a>.<br />Based on a work at <a xmlns:dct=\"http://purl.org/dc/terms/\" href=\"https://github.com/mathcoding/opt4ds\" rel=\"dct:source\">https://github.com/mathcoding/opt4ds</a>."
   ]
  },
  {
   "cell_type": "markdown",
   "id": "mental-hundred",
   "metadata": {},
   "source": [
    "**NOTE:** Run the following script whenever running this script on a Google Colab."
   ]
  },
  {
   "cell_type": "code",
   "execution_count": null,
   "id": "loving-spanking",
   "metadata": {},
   "outputs": [],
   "source": [
    "import shutil\n",
    "import sys\n",
    "import os.path\n",
    "\n",
    "if not shutil.which(\"pyomo\"):\n",
    "    !pip install -q pyomo\n",
    "    assert(shutil.which(\"pyomo\"))\n",
    "\n",
    "if not (shutil.which(\"glpk\") or os.path.isfile(\"glpk\")):\n",
    "    if \"google.colab\" in sys.modules:\n",
    "        !apt-get install -y -qq glpk-utils\n",
    "    else:\n",
    "        try:\n",
    "            !conda install -c conda-forge glpk \n",
    "        except:\n",
    "            pass"
   ]
  },
  {
   "cell_type": "markdown",
   "id": "guided-ordinance",
   "metadata": {},
   "source": [
    "# Domande di Python, esempi di modelli in Pyomo"
   ]
  },
  {
   "cell_type": "markdown",
   "id": "latin-montgomery",
   "metadata": {},
   "source": [
    "## 1. Domande ricevute\n",
    "### Domanda 1: Il problema di *aliasing* nelle liste\n",
    "Le liste in Python sono delle strutture dati *mutable*, ovvero che possono essere modificate, a differenze delle tuple che sono una struttura dati *read only*, ovvero che una volta che sono inizializzate non possono essere più modificate.\n",
    "\n",
    "Quando si usano le liste, insieme all'operatore di assegnamento `=` (da non confondere con l'operatore logico di confronto `==`), quello che succedde è che non viene copiata la lista in una nuova variabile, ma viene creato un *handle* (un puntatore) alla stessa lista. Vediamo un esempio concreto di seguito."
   ]
  },
  {
   "cell_type": "code",
   "execution_count": 1,
   "id": "forward-section",
   "metadata": {},
   "outputs": [
    {
     "name": "stdout",
     "output_type": "stream",
     "text": [
      "As: [1, 2, 4]\n",
      "Bs: [1, 2, 4]\n"
     ]
    }
   ],
   "source": [
    "As = [1, 2, 3, 4]\n",
    "Bs = As\n",
    "\n",
    "Bs.pop(2)\n",
    "\n",
    "print(\"As:\", As)\n",
    "print(\"Bs:\", Bs)"
   ]
  },
  {
   "cell_type": "markdown",
   "id": "coated-coffee",
   "metadata": {},
   "source": [
    "Si noti che a tutti gli effetti, `Bs` reindrezza l'operazione `pop` alla struttura dati a cui si riferesce `As`. Usando una notazione **box-and-pointer**, quello che succede dovrebbe essere subito chiaro.\n",
    "\n",
    "Per maggiori dettagli, si veda il paragrafo 4.4.1 del notebook seguente:\n",
    "[Link al corso di Python](http://www-dimat.unipv.it/gualandi/programming/notebooks/Lab11_TupleListeDizionari.html)"
   ]
  },
  {
   "cell_type": "markdown",
   "id": "alternate-blame",
   "metadata": {},
   "source": [
    "Se uno avesse veramente voluto creare una copia della lista `As` in `Bs`, avrebbe potuto usare il costruttore delle list, o semplicemente un operatore di slicing, come nell'esempio seguente."
   ]
  },
  {
   "cell_type": "code",
   "execution_count": 2,
   "id": "partial-defendant",
   "metadata": {},
   "outputs": [
    {
     "name": "stdout",
     "output_type": "stream",
     "text": [
      "As: [1, 2, 3, 4, 5]\n",
      "Bs: [1, 2, 4, 5]\n",
      "Cs: [1, 2, 3, 5]\n"
     ]
    }
   ],
   "source": [
    "As = [1, 2, 3, 4, 5]\n",
    "Bs = list(As)\n",
    "Cs = Bs[0:len(As)]\n",
    "\n",
    "Bs.pop(2)\n",
    "Cs.pop(3)\n",
    "\n",
    "print(\"As:\", As)\n",
    "print(\"Bs:\", Bs)\n",
    "print(\"Cs:\", Cs)"
   ]
  },
  {
   "cell_type": "markdown",
   "id": "written-france",
   "metadata": {},
   "source": [
    "### Domanda 2: Differenza tra modello e programma\n",
    "Domanda ricevuta:\n",
    "\n",
    "> [...] l'idea che mi sono fatto è che, in questo caso, sia sbagliato il modello di partenza, l'idea con cui intendo risolvere il problema. Ma poi mi chiedo: siccome non è la prima volta che riscontro un problema di questo tipo con pyomo, io non posso in alcun modo definire nuove variabili a partire dal valore che altre variabili assumono? \n",
    "\n",
    "La difficoltà principale nell'esercitazione sul CVRP è riuscire a mettere a fuoco la differenza tra l'implementare un **algoritmo** che risolve un problema, e invece tra troverro un **modello di programmazione lineare intera** che formalizza un problema usando solo\n",
    "\n",
    "1. Variabili decisionali continue o intere\n",
    "2. Funzione obiettivo lineare\n",
    "3. Vincoli lineari\n",
    "\n",
    "In particolare, sulla parte di domanda:\n",
    "\n",
    "> non posso in alcun modo definire nuove variabili a partire dal valore che altre variabili assumono? \n",
    "\n",
    "La risposta è *yes, you can!*, ma devi riuscire a scrivere la relazione che vuoi esprimere tra le variabili in termini di vincoli lineari. Non devi implementare un algoritmo che calcola quella relazione.\n",
    "\n",
    "Una volta scritto il modello, sarà un risolutore generico di programmazione lineare intera ad eseguire i suoi algoritmi, per cercare di risolvere il problema, e dichiarare il problema come (e dovete controllare lo status):\n",
    "\n",
    "1. Non ammissibile\n",
    "2. Illimitato\n",
    "3. Risolto all'ottimo. \n",
    "4. Oppure: *raggiunto un time limit, o un raggiunto iteration limit, o esaurita le memoria...)"
   ]
  },
  {
   "cell_type": "markdown",
   "id": "quiet-literacy",
   "metadata": {},
   "source": [
    "### Domanda 3: Variabili, parametri, assegnamento iniziale\n",
    "Consideriamo il codice seguente:"
   ]
  },
  {
   "cell_type": "code",
   "execution_count": 3,
   "id": "lesser-delicious",
   "metadata": {},
   "outputs": [],
   "source": [
    "# Dati letti dal file:\n",
    "Xs = [(266, 235), (295, 272), (301, 258), (309, 260), (217, 274), (218, 278), (282, 267), (242, 249), (230, 262), (249, 268), (256, 267), (265, 257), (267, 242), (259, 265), (315, 233), (329, 252), (318, 252), (329, 224), (267, 213), (275, 192), (303, 201), (208, 217), (326, 181)]\n",
    "Ws = [0, 125, 84, 60, 500, 300, 175, 350, 150, 1100, 4100, 225, 300, 250, 500, 150, 100, 250, 120, 600, 500, 175, 75]\n",
    "\n",
    "# Funzione distanza\n",
    "from math import sqrt\n",
    "def Distance(A, B):\n",
    "    return sqrt((A[0]-B[0])**2 + (A[1] - B[1])**2)"
   ]
  },
  {
   "cell_type": "code",
   "execution_count": 13,
   "id": "extended-brook",
   "metadata": {},
   "outputs": [],
   "source": [
    "from pyomo.environ import ConcreteModel, Var, Objective, Constraint, SolverFactory, ConstraintList\n",
    "from pyomo.environ import Binary, RangeSet, NonNegativeReals, NonNegativeIntegers, Reals\n",
    "\n",
    "n = len(Xs)\n",
    "C = np.zeros((n,n))\n",
    "for i in range(n):\n",
    "    for j in range(n):\n",
    "        C[i,j] = Distance(Xs[i],Xs[j])\n",
    "        \n",
    "        \n",
    "model = ConcreteModel()\n",
    "\n",
    "model.I = RangeSet(len(Xs))\n",
    "model.J = RangeSet(len(Ws))\n",
    "  \n",
    "model.x = Var(model.I, model.J, within=Binary)\n",
    "\n",
    "#model.c = Var(model.I, model.J, within=NonNegativeReals)\n",
    "\n",
    "model.vincoli = ConstraintList()\n",
    "for i in model.I:\n",
    "    for j in model.J:\n",
    "        if j is not i:\n",
    "            model.vincoli.add(expr = model.x[i,j] == 0)\n",
    "            #model.x[i,j]() = 0\n",
    "            #model.c[i,j]() = Distance(Xs[i-1],Xs[j-1]) \n",
    "            \n",
    "model.obj = Objective(expr = sum(C[i-1,j-1]*model.x[i,j] for i in model.I for j in model.J) )"
   ]
  },
  {
   "cell_type": "code",
   "execution_count": 11,
   "id": "479514df",
   "metadata": {},
   "outputs": [
    {
     "name": "stdout",
     "output_type": "stream",
     "text": [
      "15.231546211727817 15.231546211727817 0.0\n"
     ]
    }
   ],
   "source": [
    "import numpy as np\n",
    "\n",
    "n = len(Xs)\n",
    "C = np.zeros((n,n))\n",
    "for i in range(n):\n",
    "    for j in range(n):\n",
    "        C[i,j] = Distance(Xs[i],Xs[j])\n",
    "        \n",
    "print(C[2,3], C[3,2], C[3,3])"
   ]
  },
  {
   "cell_type": "markdown",
   "id": "opening-practice",
   "metadata": {},
   "source": [
    "## 2. Modelli in Pyomo\n",
    "Di seguito vediamo come sia possibile scrivere alcuni modelli visti a lezione in Pyomo."
   ]
  },
  {
   "cell_type": "markdown",
   "id": "negative-smart",
   "metadata": {},
   "source": [
    "### 2.1 Problema di programmazione lineare casuale\n",
    "Consideriamo la funzione seguente che crea un problema di Programmazione Lineare Intera (PLI) casuale.\n",
    "\n",
    "Un problema di PLI è definito dai due vettori $c$ e $b$ e dalla matrice $A$:\n",
    "\n",
    "$$\n",
    "    z = \\min \\,\\{ c x \\mid Ax \\geq b, x \\geq 0 \\,\\}\n",
    "$$\n",
    "\n",
    "Scriviamo prima una funzione per generare i dati in modo casuale."
   ]
  },
  {
   "cell_type": "code",
   "execution_count": 14,
   "id": "ready-astronomy",
   "metadata": {},
   "outputs": [
    {
     "name": "stdout",
     "output_type": "stream",
     "text": [
      "(array([3, 1]), array([0.23754122, 0.82427853, 0.9657492 ]), array([[4, 5],\n",
      "       [3, 7],\n",
      "       [6, 5]]))\n"
     ]
    }
   ],
   "source": [
    "from numpy import random\n",
    "def RandomILP(n, m, seed=13):\n",
    "    random.seed(seed)\n",
    "    c = random.randint(1, 10, size=n)\n",
    "    b = random.random(m)\n",
    "    A = random.randint(1, 10, size=(m,n))\n",
    "    \n",
    "    return c, b, A\n",
    "    \n",
    "print(RandomILP(2,3))"
   ]
  },
  {
   "cell_type": "markdown",
   "id": "adequate-florist",
   "metadata": {},
   "source": [
    "Scriviamo ora una funzione che presi in input i dati di un'istanza, costruisce il modello, lo risolve, controlla lo status, e restituisce un eventuale soluzione."
   ]
  },
  {
   "cell_type": "code",
   "execution_count": 33,
   "id": "impossible-macedonia",
   "metadata": {},
   "outputs": [],
   "source": [
    "from pyomo.environ import maximize\n",
    "\n",
    "def SolveILP(c, b, A):\n",
    "    m = len(b)\n",
    "    n = len(c)\n",
    "    \n",
    "    model = ConcreteModel()\n",
    "    \n",
    "    model.I = RangeSet(n)\n",
    "    model.J = RangeSet(m)\n",
    "    \n",
    "    model.x = Var(model.I, within=NonNegativeIntegers)\n",
    "    \n",
    "    model.obj = Objective(expr = sum(c[i-1]*model.x[i] for i in model.I))\n",
    "#                          sense = maximize)\n",
    "    \n",
    "    model.vincoli = ConstraintList()\n",
    "    for j in model.J:\n",
    "        model.vincoli.add(expr = sum(A[j-1, i-1]*model.x[i] for i in model.I) >= b[j-1])\n",
    "    \n",
    "    sol = SolverFactory('glpk').solve(model, tee=False)\n",
    "    \n",
    "    for info in sol['Solver']:\n",
    "        print(info)\n",
    "        \n",
    "    xbar = [model.x[i]() for i in model.I]\n",
    "    \n",
    "    return 'optimal', model.obj(), xbar"
   ]
  },
  {
   "cell_type": "code",
   "execution_count": 34,
   "id": "statutory-density",
   "metadata": {},
   "outputs": [
    {
     "name": "stdout",
     "output_type": "stream",
     "text": [
      "[2 1] [0.61339435 0.86048185 0.72666267] [[2 1]\n",
      " [3 9]\n",
      " [9 6]]\n",
      "\n",
      "Status: ok\n",
      "Termination condition: optimal\n",
      "Statistics: \n",
      "  Branch and bound: \n",
      "    Number of bounded subproblems: 3\n",
      "    Number of created subproblems: 3\n",
      "Error rc: 0\n",
      "Time: 0.15018582344055176\n",
      "\n",
      "('optimal', 1.0, [0.0, 1.0])\n"
     ]
    }
   ],
   "source": [
    "c, b, A = RandomILP(2, 3, 1717)\n",
    "print(c,b,A)\n",
    "print(SolveILP(c, b, A))"
   ]
  },
  {
   "cell_type": "markdown",
   "id": "cubic-elimination",
   "metadata": {},
   "source": [
    "### 2.2 Turnistica infermieri\n",
    "Vediamo ora come possiamo scrivere il modello che rappresenta i turni settimanali degli infermieri del San Matteo di Pavia.\n",
    "\n",
    "Per la descrizione del modello si vedano le slides del corso.\n"
   ]
  },
  {
   "cell_type": "code",
   "execution_count": 48,
   "id": "comfortable-prayer",
   "metadata": {},
   "outputs": [],
   "source": [
    "def StaffScheduling():\n",
    "    # Data\n",
    "    d = 7\n",
    "    w = 5\n",
    "    demand = [5,6,7,3,3,2,2]\n",
    "    cost = [1.0, 1.0, 1.01, 1.02, 1.03, 1.07, 1.05]\n",
    "    \n",
    "    A = np.zeros( (d,d) )\n",
    "    for i in range(d):\n",
    "        for j in range(w):\n",
    "            A[(i+j)%d, i] = 1\n",
    "    \n",
    "    model = ConcreteModel()\n",
    "    \n",
    "    model.Day = RangeSet(d)\n",
    "    \n",
    "    model.x = Var(model.Day, within = NonNegativeIntegers)\n",
    "    \n",
    "    model.obj = Objective(expr=sum(cost[i-1]*model.x[i] for i in model.Day))\n",
    "    \n",
    "    model.cover = ConstraintList()\n",
    "    for day in model.Day:\n",
    "        model.cover.add(expr=sum(A[day-1, i-1]*model.x[i] for i in model.Day) >= demand[day-1])\n",
    "    \n",
    "    model.write(\"staff.lp\")\n",
    "   \n",
    "    sol = SolverFactory('glpk').solve(model, tee=True)\n",
    "    \n",
    "    for info in sol['Solver']:\n",
    "        print(info)\n",
    "        \n",
    "    xbar = [model.x[i]() for i in model.Day]\n",
    "    \n",
    "    return 'optimal', model.obj(), xbar\n",
    " "
   ]
  },
  {
   "cell_type": "code",
   "execution_count": 49,
   "id": "unlike-uzbekistan",
   "metadata": {},
   "outputs": [
    {
     "name": "stdout",
     "output_type": "stream",
     "text": [
      "GLPSOL: GLPK LP/MIP Solver, v4.65\n",
      "Parameter(s) specified in the command line:\n",
      " --write C:\\Users\\gualandi\\AppData\\Local\\Temp\\tmpucro1uz6.glpk.raw --wglp\n",
      " C:\\Users\\gualandi\\AppData\\Local\\Temp\\tmpg34qvej1.glpk.glp --cpxlp C:\\Users\\gualandi\\AppData\\Local\\Temp\\tmp_6iny12i.pyomo.lp\n",
      "Reading problem data from 'C:\\Users\\gualandi\\AppData\\Local\\Temp\\tmp_6iny12i.pyomo.lp'...\n",
      "8 rows, 8 columns, 36 non-zeros\n",
      "7 integer variables, none of which are binary\n",
      "90 lines were read\n",
      "Writing problem data to 'C:\\Users\\gualandi\\AppData\\Local\\Temp\\tmpg34qvej1.glpk.glp'...\n",
      "78 lines were written\n",
      "GLPK Integer Optimizer, v4.65\n",
      "8 rows, 8 columns, 36 non-zeros\n",
      "7 integer variables, none of which are binary\n",
      "Preprocessing...\n",
      "7 rows, 7 columns, 35 non-zeros\n",
      "7 integer variables, none of which are binary\n",
      "Scaling...\n",
      " A: min|aij| =  1.000e+00  max|aij| =  1.000e+00  ratio =  1.000e+00\n",
      "Problem data seem to be well scaled\n",
      "Constructing initial basis...\n",
      "Size of triangular part is 7\n",
      "Solving LP relaxation...\n",
      "GLPK Simplex Optimizer, v4.65\n",
      "7 rows, 7 columns, 35 non-zeros\n",
      "      0: obj =   0.000000000e+00 inf =   2.800e+01 (7)\n",
      "      4: obj =   7.280000000e+00 inf =   0.000e+00 (0)\n",
      "*     8: obj =   7.060000000e+00 inf =   0.000e+00 (0)\n",
      "OPTIMAL LP SOLUTION FOUND\n",
      "Integer optimization begins...\n",
      "Long-step dual simplex will be used\n",
      "+     8: mip =     not found yet >=              -inf        (1; 0)\n",
      "+     8: >>>>>   7.060000000e+00 >=   7.060000000e+00   0.0% (1; 0)\n",
      "+     8: mip =   7.060000000e+00 >=     tree is empty   0.0% (0; 1)\n",
      "INTEGER OPTIMAL SOLUTION FOUND\n",
      "Time used:   0.0 secs\n",
      "Memory used: 0.1 Mb (64121 bytes)\n",
      "Writing MIP solution to 'C:\\Users\\gualandi\\AppData\\Local\\Temp\\tmpucro1uz6.glpk.raw'...\n",
      "25 lines were written\n",
      "\n",
      "Status: ok\n",
      "Termination condition: optimal\n",
      "Statistics: \n",
      "  Branch and bound: \n",
      "    Number of bounded subproblems: 1\n",
      "    Number of created subproblems: 1\n",
      "Error rc: 0\n",
      "Time: 0.22467279434204102\n",
      "\n",
      "('optimal', 7.06, [4.0, 1.0, 1.0, 0.0, 0.0, 0.0, 1.0])\n"
     ]
    }
   ],
   "source": [
    "print(StaffScheduling())"
   ]
  },
  {
   "cell_type": "code",
   "execution_count": 43,
   "id": "17053663",
   "metadata": {},
   "outputs": [
    {
     "name": "stdout",
     "output_type": "stream",
     "text": [
      "\\* Source Pyomo model name=unknown *\\\n",
      "\n",
      "min \n",
      "x8:\n",
      "+1 x1\n",
      "+1 x2\n",
      "+1 x3\n",
      "+1 x4\n",
      "+1 x5\n",
      "+1 x6\n",
      "+1 x7\n",
      "\n",
      "s.t.\n",
      "\n",
      "c_l_x9_:\n",
      "+1 x1\n",
      "+1 x4\n",
      "+1 x5\n",
      "+1 x6\n",
      "+1 x7\n",
      ">= 5\n",
      "\n",
      "c_l_x10_:\n",
      "+1 x1\n",
      "+1 x2\n",
      "+1 x5\n",
      "+1 x6\n",
      "+1 x7\n",
      ">= 6\n",
      "\n",
      "c_l_x11_:\n",
      "+1 x1\n",
      "+1 x2\n",
      "+1 x3\n",
      "+1 x6\n",
      "+1 x7\n",
      ">= 7\n",
      "\n",
      "c_l_x12_:\n",
      "+1 x1\n",
      "+1 x2\n",
      "+1 x3\n",
      "+1 x4\n",
      "+1 x7\n",
      ">= 3\n",
      "\n",
      "c_l_x13_:\n",
      "+1 x1\n",
      "+1 x2\n",
      "+1 x3\n",
      "+1 x4\n",
      "+1 x5\n",
      ">= 3\n",
      "\n",
      "c_l_x14_:\n",
      "+1 x2\n",
      "+1 x3\n",
      "+1 x4\n",
      "+1 x5\n",
      "+1 x6\n",
      ">= 2\n",
      "\n",
      "c_l_x15_:\n",
      "+1 x3\n",
      "+1 x4\n",
      "+1 x5\n",
      "+1 x6\n",
      "+1 x7\n",
      ">= 2\n",
      "\n",
      "c_e_ONE_VAR_CONSTANT: \n",
      "ONE_VAR_CONSTANT = 1.0\n",
      "\n",
      "bounds\n",
      "   0 <= x1 <= +inf\n",
      "   0 <= x2 <= +inf\n",
      "   0 <= x3 <= +inf\n",
      "   0 <= x4 <= +inf\n",
      "   0 <= x5 <= +inf\n",
      "   0 <= x6 <= +inf\n",
      "   0 <= x7 <= +inf\n",
      "general\n",
      "  x1\n",
      "  x2\n",
      "  x3\n",
      "  x4\n",
      "  x5\n",
      "  x6\n",
      "  x7\n",
      "end\n"
     ]
    }
   ],
   "source": [
    "!more staff.lp"
   ]
  },
  {
   "cell_type": "markdown",
   "id": "indie-conclusion",
   "metadata": {},
   "source": [
    "### 2.3 RNA folding\n",
    "Si consideri il modello visto a lezione nelle slides `RNA folding`, vediamo come implementare quel modello in Pyomo."
   ]
  },
  {
   "cell_type": "code",
   "execution_count": 57,
   "id": "relative-relations",
   "metadata": {},
   "outputs": [],
   "source": [
    "from pyomo.environ import maximize\n",
    "\n",
    "def RNAfold(s):\n",
    "    C1 = ('A','U')\n",
    "    C2 = ('C','G')\n",
    "    \n",
    "    ns = len(s)\n",
    "    \n",
    "    E = []\n",
    "    for i in range(ns):\n",
    "        for j in range(ns):\n",
    "            if i < j:\n",
    "                E.append( (i,j) )\n",
    "                \n",
    "    n = len(E)\n",
    "    \n",
    "    # Model\n",
    "    model = ConcreteModel()\n",
    "    model.P = RangeSet(n)\n",
    "    model.x = Var(model.P, within=Binary)\n",
    "    \n",
    "    model.obj = Objective(expr = sum(model.x[p] for p in model.P),\n",
    "                          sense = maximize)\n",
    "    \n",
    "    # Vincoli\n",
    "    model.setzero = ConstraintList()\n",
    "    for p in model.P:\n",
    "        i,j = E[p-1]\n",
    "        if not((s[i],s[j]) == C1 or (s[j],s[i]) == C1 or (s[i],s[j]) == C2 or (s[j],s[i]) == C2):\n",
    "            model.setzero.add(expr = model.x[p] == 0)\n",
    "    \n",
    "    model.atmost = ConstraintList()\n",
    "    for j in range(ns):\n",
    "        L1 = []\n",
    "        L2 = []\n",
    "        for p in model.P:\n",
    "            v,w = E[p-1]\n",
    "            if j == w:\n",
    "                L1.append( p )\n",
    "            if j == v:\n",
    "                L2.append( p )\n",
    "        Ls = L1 + L2\n",
    "        model.atmost.add(expr=sum(model.x[p] for p in Ls) <= 1)\n",
    "    \n",
    "    model.conf = ConstraintList()\n",
    "    for p in model.P:\n",
    "        i, j = E[p-1]\n",
    "        for q in model.P:\n",
    "            v, w = E[q-1]\n",
    "            if i < v < j < w:\n",
    "                model.conf.add(expr= model.x[p] + model.x[q] <= 1)\n",
    "    \n",
    "    sol = SolverFactory('glpk').solve(model, tee=True)\n",
    "    \n",
    "    for info in sol['Solver']:\n",
    "        print(info)\n",
    "        \n",
    "    xbar = [model.x[i]() for i in model.P]\n",
    "    \n",
    "    return 'optimal', model.obj(), xbar"
   ]
  },
  {
   "cell_type": "code",
   "execution_count": 58,
   "id": "military-valuation",
   "metadata": {},
   "outputs": [
    {
     "name": "stdout",
     "output_type": "stream",
     "text": [
      "GLPSOL: GLPK LP/MIP Solver, v4.65\n",
      "Parameter(s) specified in the command line:\n",
      " --write C:\\Users\\gualandi\\AppData\\Local\\Temp\\tmptnyy8yso.glpk.raw --wglp\n",
      " C:\\Users\\gualandi\\AppData\\Local\\Temp\\tmprbk2d_jz.glpk.glp --cpxlp C:\\Users\\gualandi\\AppData\\Local\\Temp\\tmpqqjmjyy4.pyomo.lp\n",
      "Reading problem data from 'C:\\Users\\gualandi\\AppData\\Local\\Temp\\tmpqqjmjyy4.pyomo.lp'...\n",
      "C:\\Users\\gualandi\\AppData\\Local\\Temp\\tmpqqjmjyy4.pyomo.lp:2072: warning: lower bound of variable 'x1' redefined\n",
      "C:\\Users\\gualandi\\AppData\\Local\\Temp\\tmpqqjmjyy4.pyomo.lp:2072: warning: upper bound of variable 'x1' redefined\n",
      "381 rows, 56 columns, 810 non-zeros\n",
      "55 integer variables, all of which are binary\n",
      "2127 lines were read\n",
      "Writing problem data to 'C:\\Users\\gualandi\\AppData\\Local\\Temp\\tmprbk2d_jz.glpk.glp'...\n",
      "1648 lines were written\n",
      "GLPK Integer Optimizer, v4.65\n",
      "381 rows, 56 columns, 810 non-zeros\n",
      "55 integer variables, all of which are binary\n",
      "Preprocessing...\n",
      "33 rows, 16 columns, 76 non-zeros\n",
      "16 integer variables, all of which are binary\n",
      "Scaling...\n",
      " A: min|aij| =  1.000e+00  max|aij| =  1.000e+00  ratio =  1.000e+00\n",
      "Problem data seem to be well scaled\n",
      "Constructing initial basis...\n",
      "Size of triangular part is 33\n",
      "Solving LP relaxation...\n",
      "GLPK Simplex Optimizer, v4.65\n",
      "33 rows, 16 columns, 76 non-zeros\n",
      "*     0: obj =  -0.000000000e+00 inf =   0.000e+00 (16)\n",
      "*    12: obj =   5.000000000e+00 inf =   0.000e+00 (0)\n",
      "OPTIMAL LP SOLUTION FOUND\n",
      "Integer optimization begins...\n",
      "Long-step dual simplex will be used\n",
      "+    12: mip =     not found yet <=              +inf        (1; 0)\n",
      "+    12: >>>>>   5.000000000e+00 <=   5.000000000e+00   0.0% (1; 0)\n",
      "+    12: mip =   5.000000000e+00 <=     tree is empty   0.0% (0; 1)\n",
      "INTEGER OPTIMAL SOLUTION FOUND\n",
      "Time used:   0.0 secs\n",
      "Memory used: 0.2 Mb (237152 bytes)\n",
      "Writing MIP solution to 'C:\\Users\\gualandi\\AppData\\Local\\Temp\\tmptnyy8yso.glpk.raw'...\n",
      "446 lines were written\n",
      "\n",
      "Status: ok\n",
      "Termination condition: optimal\n",
      "Statistics: \n",
      "  Branch and bound: \n",
      "    Number of bounded subproblems: 1\n",
      "    Number of created subproblems: 1\n",
      "Error rc: 0\n",
      "Time: 0.20402216911315918\n",
      "\n",
      "('optimal', 5.0, [0.0, 0.0, 0.0, 0.0, 0.0, 0.0, 0.0, 0.0, 0.0, 1.0, 1.0, 0.0, 0.0, 0.0, 0.0, 0.0, 0.0, 0.0, 0.0, 0.0, 0.0, 0.0, 0.0, 0.0, 0.0, 0.0, 0.0, 0.0, 0.0, 0.0, 0.0, 0.0, 1.0, 0.0, 1.0, 0.0, 0.0, 0.0, 0.0, 0.0, 0.0, 0.0, 0.0, 0.0, 0.0, 0.0, 1.0, 0.0, 0.0, 0.0, 0.0, 0.0, 0.0, 0.0, 0.0])\n"
     ]
    }
   ],
   "source": [
    "s = 'ACGUGCCCGAU'\n",
    "print(RNAfold(s))"
   ]
  },
  {
   "cell_type": "code",
   "execution_count": null,
   "id": "fd940712",
   "metadata": {},
   "outputs": [],
   "source": []
  }
 ],
 "metadata": {
  "@webio": {
   "lastCommId": null,
   "lastKernelId": null
  },
  "kernelspec": {
   "display_name": "Python 3",
   "language": "python",
   "name": "python3"
  },
  "language_info": {
   "codemirror_mode": {
    "name": "ipython",
    "version": 3
   },
   "file_extension": ".py",
   "mimetype": "text/x-python",
   "name": "python",
   "nbconvert_exporter": "python",
   "pygments_lexer": "ipython3",
   "version": "3.8.5"
  }
 },
 "nbformat": 4,
 "nbformat_minor": 5
}

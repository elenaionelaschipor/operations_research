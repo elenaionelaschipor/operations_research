{
 "cells": [
  {
   "cell_type": "markdown",
   "metadata": {},
   "source": [
    "<a rel=\"license\" href=\"http://creativecommons.org/licenses/by/4.0/\"><img alt=\"Creative Commons License\" style=\"border-width:0\" src=\"https://i.creativecommons.org/l/by/4.0/88x31.png\" /></a><br /><span xmlns:dct=\"http://purl.org/dc/terms/\" property=\"dct:title\"><b>The Knapsack Problem</b></span> by <a xmlns:cc=\"http://creativecommons.org/ns#\" href=\"http://mate.unipv.it/gualandi\" property=\"cc:attributionName\" rel=\"cc:attributionURL\">Stefano Gualandi</a> is licensed under a <a rel=\"license\" href=\"http://creativecommons.org/licenses/by/4.0/\">Creative Commons Attribution 4.0 International License</a>.<br />Based on a work at <a xmlns:dct=\"http://purl.org/dc/terms/\" href=\"https://github.com/mathcoding/opt4ds\" rel=\"dct:source\">https://github.com/mathcoding/opt4ds</a>."
   ]
  },
  {
   "cell_type": "markdown",
   "metadata": {},
   "source": [
    "# 3. The Knapsack Problem\n",
    "In this first notebook, we show how to solve the Knapsack Problem using Integer Linear Programming."
   ]
  },
  {
   "cell_type": "markdown",
   "metadata": {},
   "source": [
    "## 3.1 Software Installation\n",
    "If you are running this notebook in a Colab, you don't need to install anything else on your computer.\n",
    "\n",
    "Otherwise, if you have installed the recommended Anaconda Python distribution, you have to run the following two commands:\n",
    "\n",
    "1. To install the [Pyomo](http://www.pyomo.org/) optimization modeling language:\n",
    "\n",
    "```\n",
    "conda install -c conda-forge pyomo\n",
    "```\n",
    "\n",
    "2. To install the open source [GLPK](https://www.gnu.org/software/glpk/) solver:\n",
    "\n",
    "```\n",
    "conda install -c conda-forge glpk\n",
    "```\n",
    "\n",
    "3. (Optional) You can install some extra packages of Pyomo using the following command:\n",
    "\n",
    "```\n",
    "conda install -c conda-forge pyomo.extras\n",
    "```\n",
    "\n",
    "For details about the Pyomo installation, we refer to the official [Pyomo Documentation](https://pyomo.readthedocs.io/en/stable/)."
   ]
  },
  {
   "cell_type": "markdown",
   "metadata": {},
   "source": [
    "The following lines are for running this notebook in a COLAB:"
   ]
  },
  {
   "cell_type": "code",
   "execution_count": null,
   "metadata": {},
   "outputs": [],
   "source": [
    "import shutil\n",
    "import sys\n",
    "import os.path\n",
    "\n",
    "if not shutil.which(\"pyomo\"):\n",
    "    !pip install -q pyomo\n",
    "    assert(shutil.which(\"pyomo\"))\n",
    "\n",
    "if not (shutil.which(\"glpk\") or os.path.isfile(\"glpk\")):\n",
    "    if \"google.colab\" in sys.modules:\n",
    "        !apt-get install -y -qq glpk-utils\n",
    "    else:\n",
    "        try:\n",
    "            !conda install -c conda-forge glpk \n",
    "        except:\n",
    "            pass"
   ]
  },
  {
   "cell_type": "markdown",
   "metadata": {},
   "source": [
    "## 3.2 Mixed Integer Programming model\n",
    "The Knapsack problem can be formulated as follows.\n",
    "\n",
    "The input data are: \n",
    "\n",
    "* The index set $I$ referring to the items\n",
    "* The profit vector $c$\n",
    "* The weight vector $A$\n",
    "* The budget value $B$\n",
    "\n",
    "For each item $i\\in I$, we introduce a binary decision variables $x_i \\in \\{0,1\\}$, which is used to define the following **Integer Linear Programming (ILP)**\n",
    "problem:\n",
    "\n",
    "\\begin{align}\\label{eq:1}\n",
    "\\max \\;\\; & c^T x \\\\\n",
    "\\mbox{s.t.} \\;\\; & \\sum_{i \\in I} A_i x_i \\leq B & \\\\\n",
    "& x_i \\in \\{0,1\\},& \\forall i \\in I.\n",
    "\\end{align}\n"
   ]
  },
  {
   "cell_type": "markdown",
   "metadata": {},
   "source": [
    "Since $x_i=1$ represents the decision of selecting item the $i$-th item, it is clear that the objective function (1) consists of maximizing the dot product $c^T\\,x$. The single constraint (2) limits the number of selected item in such a way that the sum of the weights $A_i$ of the selected items does not exceed the available capacity $B$. The constraints (3) impose the domain on the decision variables $x_i$. "
   ]
  },
  {
   "cell_type": "markdown",
   "metadata": {},
   "source": [
    "## 3.3 Pyomo Knapsack Model\n",
    "The ILP model (1)-(3) can be expressed using the Pyomo optimization modeling language as shown next.\n",
    "\n",
    "As a first step, we need to define the input data using the standard Python data structure. The simplest method to define the data is as follows:"
   ]
  },
  {
   "cell_type": "code",
   "execution_count": null,
   "metadata": {},
   "outputs": [],
   "source": [
    "I = range(5)        # Items\n",
    "C = [2, 3, 1, 4, 3] # Profits\n",
    "A = [3, 4, 2, 1, 6] # Weights\n",
    "B = 9               # Budget"
   ]
  },
  {
   "cell_type": "markdown",
   "metadata": {},
   "source": [
    "This snippet of code is defining the following input data:\n",
    "\n",
    "* The set $I$ as the range of number from 0 to 4, using the [range](https://docs.python.org/3/library/functions.html#func-range) builtin class. You can think of the range as a generator function for the list $[0,1,2,3,4]$.\n",
    "* The cost vector $C$ and the weight vector $A$ are defined as two lists, using the standard [list()](https://docs.python.org/3/library/functions.html#func-list) builtin class.\n",
    "* The budget parameter is defined as a given integer.\n",
    "\n",
    "So far, we have not used any **Pyomo** construct. Before we start, we need to import the Pyomo library:"
   ]
  },
  {
   "cell_type": "code",
   "execution_count": null,
   "metadata": {},
   "outputs": [],
   "source": [
    "from pyomo.environ import *"
   ]
  },
  {
   "cell_type": "code",
   "execution_count": null,
   "metadata": {},
   "outputs": [],
   "source": [
    "# If you want to check all the elements imported from the library uncomment the following line\n",
    "# who"
   ]
  },
  {
   "cell_type": "markdown",
   "metadata": {},
   "source": [
    "### 3.3.1 Model and Variables\n",
    "The first step in defining the model consists in choosing the type of Model we want to use. In Pyomo there are two options, the [ConcreteModel](https://pyomo.readthedocs.io/en/stable/library_reference/aml/index.html#pyomo.environ.ConcreteModel) and the [AbstractModel](https://pyomo.readthedocs.io/en/stable/library_reference/aml/index.html#pyomo.environ.AbstractModel). In this first example, we use the simpler ConcreteModel as follows:"
   ]
  },
  {
   "cell_type": "code",
   "execution_count": null,
   "metadata": {},
   "outputs": [],
   "source": [
    "# Create concrete model\n",
    "model = ConcreteModel()"
   ]
  },
  {
   "cell_type": "markdown",
   "metadata": {},
   "source": [
    "The choice of the `model` name is recommended if you are planning to use the Pyomo command line tool.\n",
    "\n",
    "Once we have defined the model, we can define the binary decision variable by using the [Var](https://pyomo.readthedocs.io/en/stable/library_reference/aml/index.html#pyomo.environ.Var) class. We define an object of type **Var** for each element of the range $I$, with the following command:"
   ]
  },
  {
   "cell_type": "code",
   "execution_count": null,
   "metadata": {},
   "outputs": [],
   "source": [
    "# Variables\n",
    "model.x = Var(I, within=Binary)"
   ]
  },
  {
   "cell_type": "markdown",
   "metadata": {},
   "source": [
    "The `Binary` keyword is part of the `pyomo.environ` setting, and it is used to specify the constraint $x_i \\in \\{0,1\\}$. Other possible values for the optional parameter `within` are: `NonNegativeReals`, `PositiveReals`, `PositiveIntegers`.\n",
    "\n",
    "Note the the choice of $x$ as a name of the variable is arbitrary. "
   ]
  },
  {
   "cell_type": "markdown",
   "metadata": {},
   "source": [
    "### 3.3.2 Objective Function\n",
    "The objective function is defined via the [Objective](https://pyomo.readthedocs.io/en/stable/library_reference/aml/index.html#pyomo.environ.Objective.construct) class, as follows:"
   ]
  },
  {
   "cell_type": "code",
   "execution_count": null,
   "metadata": {},
   "outputs": [],
   "source": [
    "# Objective Function: Maximize Profit\n",
    "model.obj = Objective(expr = sum(C[i]*model.x[i] for i in I),\n",
    "                      sense = maximize)"
   ]
  },
  {
   "cell_type": "markdown",
   "metadata": {},
   "source": [
    "Again, the `obj` name is arbitrary, and you can select the one you prefer. The parameter `epxr` is mandatory, and is used to define the objective function expression. In the following example, we are using the `list comprehension` syntax to define our linear objective $\\sum_{i \\in I} c_i x_i$. Note that the python notation is very similar to the mathematical notation.\n",
    "\n",
    "The parameter `sense` is optional, and it is used to define the type of objective function: `maximize` or `minimize`.\n",
    "\n",
    "With Pyomo, we are not directly restricted to use only linear objective functions. It is the type solver we use that limits that type of problem that we can solve. As long as we use the GLPK solver, we can only define linear objective function."
   ]
  },
  {
   "cell_type": "markdown",
   "metadata": {},
   "source": [
    "### 3.3.3 Constraints\n",
    "Finally, we need to define the budget constraint.\n",
    "The constraints are defined using the [Constraint](https://pyomo.readthedocs.io/en/stable/library_reference/aml/index.html#pyomo.environ.Constraint) class. The minimal use of this class requires to define the `expr` input parameter. In the knapsack problem we have to define the budget constraint $\\sum_{i \\in I} A_i x_i \\leq B$ as follows: "
   ]
  },
  {
   "cell_type": "code",
   "execution_count": null,
   "metadata": {},
   "outputs": [],
   "source": [
    "# Constraint\n",
    "model.capacity = Constraint(expr = sum(A[i]*model.x[i] for i in I) <= B)"
   ]
  },
  {
   "cell_type": "markdown",
   "metadata": {},
   "source": [
    "Also the constraints can be named, in this case, we named it `capacity`. The name of the constraint can be used to retrieve information about the status of the constraint in a solution, that is, given a solution $\\bar x$ to check whether $\\sum_{i \\in I} A_i \\bar x_i < B$ or $\\sum_{i \\in I} A_i \\bar x_i = B$."
   ]
  },
  {
   "cell_type": "markdown",
   "metadata": {},
   "source": [
    "### 3.3.4 Solving the Pyomo model\n",
    "The complete Pyomo model defined so far is as follows:"
   ]
  },
  {
   "cell_type": "code",
   "execution_count": null,
   "metadata": {},
   "outputs": [],
   "source": [
    "# Create concrete model\n",
    "model = ConcreteModel()\n",
    "# Variables\n",
    "model.x = Var(I, within=Binary)\n",
    "# Objective Function: Maximize Profit\n",
    "model.obj = Objective(expr = sum(C[i]*model.x[i] for i in I),\n",
    "                      sense = maximize)\n",
    "# Constraint\n",
    "model.capacity = Constraint(expr = sum(A[i]*model.x[i] for i in I) <= B)"
   ]
  },
  {
   "cell_type": "markdown",
   "metadata": {},
   "source": [
    "In order to solve this model, we need to use a **solver**, that is a software that binds the data to the model and solve the corresponding instance of the problem. In this notebook, we use the GLPK solver, using a `SolverFactory` as follows:"
   ]
  },
  {
   "cell_type": "code",
   "execution_count": null,
   "metadata": {},
   "outputs": [],
   "source": [
    "# Solve the model\n",
    "sol = SolverFactory('glpk').solve(model)"
   ]
  },
  {
   "cell_type": "code",
   "execution_count": null,
   "metadata": {},
   "outputs": [],
   "source": [
    "# Basic info about the solution process\n",
    "for info in sol['Solver']:\n",
    "    print(info)"
   ]
  },
  {
   "cell_type": "markdown",
   "metadata": {},
   "source": [
    "Finally, in order to check the values of the decision variables, we can query the solved model by using the variable, objective function, and constraints names:"
   ]
  },
  {
   "cell_type": "code",
   "execution_count": null,
   "metadata": {},
   "outputs": [],
   "source": [
    "# Report solution value\n",
    "print(\"Optimal solution value: z =\", model.obj())\n",
    "print(\"Decision variables:\")\n",
    "for i in I:\n",
    "    print(\"x_{} = {}\".format(i, model.x[i]()))\n",
    "print(\"Capacity left in the knapsack:\", B-model.capacity())"
   ]
  },
  {
   "cell_type": "markdown",
   "metadata": {},
   "source": [
    "In this case, we have found a solution with value equal to 9, given by selecting the three items $[0, 1, 3]$. We still had a unit of capacity left in the knapsack, but since no left items as a weight equal to 1, and we cannot take fractional items, that capacity stay unused."
   ]
  },
  {
   "cell_type": "markdown",
   "metadata": {},
   "source": [
    "## 3.4 Complete Python Script\n",
    "The whole Python script for solving the Knapsack problem is as follows:"
   ]
  },
  {
   "cell_type": "code",
   "execution_count": null,
   "metadata": {},
   "outputs": [],
   "source": [
    "# Import the libraries\n",
    "from pyomo.environ import ConcreteModel, Var, Objective, Constraint, SolverFactory\n",
    "from pyomo.environ import maximize, Binary\n",
    "\n",
    "# CONCRETE MODEL: Data First, then model\n",
    "I = range(5)        # Items\n",
    "C = [2, 3, 1, 4, 3] # Profits\n",
    "A = [3, 4, 2, 1, 6] # Weights\n",
    "B = 9               # Budget\n",
    "\n",
    "# Create concrete model\n",
    "model = ConcreteModel()\n",
    "\n",
    "# Variables\n",
    "model.x = Var(I, within=Binary)\n",
    "\n",
    "# Objective Function: Maximize Profit\n",
    "model.obj = Objective(expr = sum(C[i]*model.x[i] for i in I),\n",
    "                      sense = maximize)\n",
    "\n",
    "# Constraint\n",
    "model.capacity = Constraint(expr = sum(A[i]*model.x[i] for i in I) <= B)\n",
    "\n",
    "# Solve the model\n",
    "sol = SolverFactory('glpk').solve(model)\n",
    "\n",
    "# Basic info about the solution process\n",
    "for info in sol['Solver']:\n",
    "    print(info)\n",
    "    \n",
    "# Report solution value\n",
    "print(\"Optimal solution value: z =\", model.obj())\n",
    "print(\"Decision variables:\")\n",
    "for i in I:\n",
    "    print(\"x_{} = {}\".format(i, model.x[i]()))\n",
    "print(\"Capacity left in the knapsack:\", B-model.capacity())"
   ]
  }
 ],
 "metadata": {
  "kernelspec": {
   "display_name": "Python 3",
   "language": "python",
   "name": "python3"
  },
  "language_info": {
   "codemirror_mode": {
    "name": "ipython",
    "version": 3
   },
   "file_extension": ".py",
   "mimetype": "text/x-python",
   "name": "python",
   "nbconvert_exporter": "python",
   "pygments_lexer": "ipython3",
   "version": "3.7.4"
  },
  "latex_envs": {
   "LaTeX_envs_menu_present": true,
   "autoclose": false,
   "autocomplete": true,
   "bibliofile": "biblio.bib",
   "cite_by": "apalike",
   "current_citInitial": 1,
   "eqLabelWithNumbers": true,
   "eqNumInitial": 1,
   "hotkeys": {
    "equation": "Ctrl-E",
    "itemize": "Ctrl-I"
   },
   "labels_anchors": false,
   "latex_user_defs": false,
   "report_style_numbering": false,
   "user_envs_cfg": false
  }
 },
 "nbformat": 4,
 "nbformat_minor": 2
}

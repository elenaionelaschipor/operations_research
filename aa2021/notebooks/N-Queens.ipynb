{
 "cells": [
  {
   "cell_type": "markdown",
   "metadata": {},
   "source": [
    "<a rel=\"license\" href=\"http://creativecommons.org/licenses/by/4.0/\"><img alt=\"Creative Commons License\" style=\"border-width:0\" src=\"https://i.creativecommons.org/l/by/4.0/88x31.png\" /></a><br /><span xmlns:dct=\"http://purl.org/dc/terms/\" property=\"dct:title\"><b>The Knapsack Problem</b></span> by <a xmlns:cc=\"http://creativecommons.org/ns#\" href=\"http://mate.unipv.it/gualandi\" property=\"cc:attributionName\" rel=\"cc:attributionURL\">Stefano Gualandi</a> is licensed under a <a rel=\"license\" href=\"http://creativecommons.org/licenses/by/4.0/\">Creative Commons Attribution 4.0 International License</a>.<br />Based on a work at <a xmlns:dct=\"http://purl.org/dc/terms/\" href=\"https://github.com/mathcoding/opt4ds\" rel=\"dct:source\">https://github.com/mathcoding/opt4ds</a>."
   ]
  },
  {
   "cell_type": "markdown",
   "metadata": {},
   "source": [
    "**NOTE:** Run the following script whenever running this script on a Google Colab."
   ]
  },
  {
   "cell_type": "code",
   "execution_count": null,
   "metadata": {},
   "outputs": [],
   "source": [
    "import shutil\n",
    "import sys\n",
    "import os.path\n",
    "\n",
    "if not shutil.which(\"pyomo\"):\n",
    "    !pip install -q pyomo\n",
    "    assert(shutil.which(\"pyomo\"))\n",
    "\n",
    "if not (shutil.which(\"glpk\") or os.path.isfile(\"glpk\")):\n",
    "    if \"google.colab\" in sys.modules:\n",
    "        !apt-get install -y -qq glpk-utils\n",
    "    else:\n",
    "        try:\n",
    "            !conda install -c conda-forge glpk \n",
    "        except:\n",
    "            pass"
   ]
  },
  {
   "cell_type": "markdown",
   "metadata": {},
   "source": [
    "# $n$-Queens Problem\n",
    "The $n$-Queens puzzle is the problem of placing eight chess queens on an $n \\times n$ chessboard so that no two queens threaten each other; thus, a solution requires that no two queens share the same row, column, or diagonal (source: [wikipedia](https://en.wikipedia.org/wiki/Eight_queens_puzzle)). \n",
    "\n",
    "A solution exists for all natural numbers n with the exception of $n = 2$ and $n = 3$."
   ]
  },
  {
   "cell_type": "markdown",
   "metadata": {},
   "source": [
    " **Example:** For $n=8$, we have the following solution:\n",
    "\n",
    "```\n",
    "1 . . . . . Q . .\n",
    "2 . . . Q . . . . \n",
    "3 . . . . . . Q .\n",
    "4 Q . . . . . . .\n",
    "5 . . . . . . . Q\n",
    "6 . Q . . . . . .\n",
    "7 . . . . Q . . .\n",
    "8 . . Q . . . . .\n",
    "  a b c d e f g h \n",
    "```"
   ]
  },
  {
   "cell_type": "markdown",
   "metadata": {},
   "source": [
    "## Integer Linear Programming Model\n",
    "The $n$-Queens problem can be formalized with the following **ILP** model.\n",
    "\n",
    "**Data:** Size of the board $n\\times n$. Let $I=:\\{1,\\dots,n\\}$ a set of indices.\n",
    "\n",
    "**Decision Variables:** The variable $x_{ij} \\in \\{0,1\\}$ is equal to 1 if we place a queen in position $(i,j)$  on the chessboard.\n",
    "\n",
    "**Objective function:** Since the problem is a feasibility problem, we can set the objective function equal to any constant value.\n",
    "\n",
    "**Constraints:** We need the following linear constraints, which encode the puzzle rules:\n",
    "\n",
    "1. Each queen appears once per row:\n",
    "$$\n",
    "    \\sum_{j \\in I} x_{ij} = 1, \\forall i \\in I\n",
    "$$\n",
    "2. Each queen appears once per column:\n",
    "$$\n",
    "    \\sum_{i \\in I} x_{ij} = 1, \\forall j \\in I\n",
    "$$\n",
    "3. Each queen appears once per main diagonals:\n",
    "$$\n",
    "    \\sum_{(i,j) \\in D_k} x_{ij} \\leq 1, D_k \\mbox{ main diagonals}\n",
    "$$\n",
    "4. Each queen appears once per off-diagonals:\n",
    "$$\n",
    "    \\sum_{(i,j) \\in O_k} x_{ij} \\leq 1, O_k \\mbox{ off diagonals}\n",
    "$$"
   ]
  },
  {
   "cell_type": "markdown",
   "metadata": {},
   "source": [
    "### Main Diagonals $D_k$\n",
    "Since we need to specify the pairs of indices that define as a function of $n$, we first defined the following nested loop:"
   ]
  },
  {
   "cell_type": "code",
   "execution_count": null,
   "metadata": {},
   "outputs": [],
   "source": [
    "n = 5\n",
    "for j in range(-n+2,n-1):\n",
    "    for i in range(1, n+1):\n",
    "        if 0 < j+i <= n:\n",
    "            print(i, j+i, end='\\t')\n",
    "        else:\n",
    "            print('   ', end='\\t')\n",
    "    print()"
   ]
  },
  {
   "cell_type": "markdown",
   "metadata": {},
   "source": [
    "### Off Diagonals $_k$\n",
    "Similarly, we can define the off diagonals as follows:"
   ]
  },
  {
   "cell_type": "code",
   "execution_count": null,
   "metadata": {},
   "outputs": [],
   "source": [
    "for i in reversed(range(-n+3, n)):\n",
    "    for j in range(1, n):\n",
    "        if 0 < n - j+i <= n:\n",
    "            print(j, n-j+i, end='\\t')\n",
    "        else:\n",
    "            print('   ', end='\\t')\n",
    "    print()"
   ]
  },
  {
   "cell_type": "markdown",
   "metadata": {},
   "source": [
    "### Full Model defined in Pyomo\n",
    "If we put all the definitions together, we can solve the $n$-Queens problem with the script below.\n",
    "\n",
    "Please, note the following Pyomo syntax used to define variable $x_{ij}$ over the [RangeSet](https://pyomo.readthedocs.io/en/stable/library_reference/aml/index.html#pyomo.environ.RangeSet) $I$ and $J$:\n",
    "\n",
    "```\n",
    "model.I = RangeSet(1, n)\n",
    "model.J = RangeSet(1, n)\n",
    "model.x = Var(model.I, model.J, within=Binary)\n",
    "```\n",
    "\n",
    "Notice also the syntax used to define the row and column constraints, which uses `lambda` function to define constraint rules:\n",
    "\n",
    "```\n",
    "model.row = Constraint(model.I, \n",
    "                       rule = lambda mod, i: sum(mod.x[i,j] for j in mod.J) == 1)\n",
    "```\n",
    "\n",
    "Finally, to define the main and of diagonals, we use the [ConstraintList](https://pyomo.readthedocs.io/en/stable/working_models.html) class:\n",
    "\n",
    "```\n",
    "model.mainD = ConstraintList()\n",
    "#...\n",
    "   model.mainD.add( expr <= 1 )\n",
    "```\n",
    "\n",
    "The complete Pyomo script is as follows."
   ]
  },
  {
   "cell_type": "code",
   "execution_count": null,
   "metadata": {},
   "outputs": [],
   "source": [
    "# Import the libraries\n",
    "from pyomo.environ import ConcreteModel, Var, Objective, Constraint, SolverFactory\n",
    "from pyomo.environ import maximize, Binary, RangeSet, ConstraintList\n",
    "\n",
    "\n",
    "n = 8\n",
    "\n",
    "# Create concrete model\n",
    "model = ConcreteModel()\n",
    "\n",
    "model.I = RangeSet(1, n)\n",
    "model.J = RangeSet(1, n)\n",
    "\n",
    "# Variables\n",
    "model.x = Var(model.I, model.J, within=Binary)\n",
    "\n",
    "# Objective Function: Maximize Profit\n",
    "model.obj = Objective(expr = n, sense = maximize)\n",
    "\n",
    "# 1. Row constraints\n",
    "def VincoloRighe(mod, i):\n",
    "    return sum(mod.x[i,j] for j in mod.J) == 1\n",
    "\n",
    "model.row = Constraint(model.I, \n",
    "                       rule = VincoloRighe)\n",
    "\n",
    "# 2. Column constraints\n",
    "model.column = Constraint(model.J, \n",
    "                          rule = lambda mod, j: sum(mod.x[i,j] for i in mod.I) == 1)\n",
    "\n",
    "# 3. Main Diagonal constraints\n",
    "model.mainD = ConstraintList()\n",
    "# Build the list of possible pairs\n",
    "for j in range(-n+2,n-1):\n",
    "    expr = 0\n",
    "    for i in model.I:\n",
    "        if 0 < j+i <= n:\n",
    "            expr += model.x[i, j+i] \n",
    "    model.mainD.add( expr <= 1 )\n",
    "\n",
    "# 4. Off Diagonal constraints\n",
    "model.offD = ConstraintList()\n",
    "# Build the list of possible pairs\n",
    "for i in range(-n+3,n+1):\n",
    "    expr = 0\n",
    "    for j in model.J:\n",
    "        if 0 < n-j+i <= n:\n",
    "            expr += model.x[j, n-j+i] \n",
    "    model.offD.add( expr <= 1 )"
   ]
  },
  {
   "cell_type": "markdown",
   "metadata": {},
   "source": [
    "To solve the script, we use a solver factory, specifying the GLPK solver, and we inspect the Solver **status** (infeasible, unbounded, or optimal)."
   ]
  },
  {
   "cell_type": "code",
   "execution_count": null,
   "metadata": {},
   "outputs": [],
   "source": [
    "# Solve the model\n",
    "sol = SolverFactory('glpk').solve(model)\n",
    "\n",
    "# Basic info about the solution process\n",
    "for info in sol['Solver']:\n",
    "    print(info)"
   ]
  },
  {
   "cell_type": "markdown",
   "metadata": {},
   "source": [
    "We aspect the optimal decision variables (only the positive variables)."
   ]
  },
  {
   "cell_type": "code",
   "execution_count": null,
   "metadata": {},
   "outputs": [],
   "source": [
    "# Report solution value\n",
    "print(\"Optimal solution value: z =\", model.obj())\n",
    "print(\"Decision variables:\")\n",
    "for i in model.I:\n",
    "    for j in model.J:\n",
    "        if model.x[i,j]() > 0:\n",
    "            print(\"x({},{}) = {}\".format(i, j, model.x[i,j]()))"
   ]
  },
  {
   "cell_type": "markdown",
   "metadata": {},
   "source": [
    "And finally, we print a solution on a simplified chessboard $n\\times n$."
   ]
  },
  {
   "cell_type": "code",
   "execution_count": null,
   "metadata": {},
   "outputs": [],
   "source": [
    "print('\\nChessboard Solution:')\n",
    "for i in model.I:\n",
    "    for j in model.J:\n",
    "        if model.x[i,j]() > 0:\n",
    "            print('Q', end=' ')\n",
    "        else:\n",
    "            print('.', end=' ')\n",
    "    print()"
   ]
  },
  {
   "cell_type": "markdown",
   "metadata": {},
   "source": [
    "## Plotting a solution with a Chessboard"
   ]
  },
  {
   "cell_type": "code",
   "execution_count": null,
   "metadata": {},
   "outputs": [],
   "source": [
    "# CREDIT: Solution original appeared on Stackoverflow at:\n",
    "# https://stackoverflow.com/questions/60608055/insert-queen-on-a-chessboard-with-pyplot\n",
    "\n",
    "def PlotSolution(n, x, size=6):\n",
    "    import matplotlib.pyplot as plt\n",
    "    import numpy as np\n",
    "\n",
    "    chessboard = np.zeros((n, n))\n",
    "\n",
    "    chessboard[1::2,0::2] = 1\n",
    "    chessboard[0::2,1::2] = 1\n",
    "\n",
    "    plt.figure(figsize=(size, size))\n",
    "    plt.imshow(chessboard, cmap='binary')\n",
    "\n",
    "    for i, j in x:\n",
    "        if x[i,j]() > 0:\n",
    "            plt.text(i-1, j-1, '♕', color='darkorange',\n",
    "                     fontsize=56*size/n, fontweight='bold', ha='center', va='center')\n",
    "    plt.xticks([])\n",
    "    plt.yticks([])\n",
    "    plt.show()"
   ]
  },
  {
   "cell_type": "code",
   "execution_count": null,
   "metadata": {},
   "outputs": [],
   "source": [
    "PlotSolution(n, model.x)"
   ]
  },
  {
   "cell_type": "code",
   "execution_count": null,
   "metadata": {},
   "outputs": [],
   "source": []
  }
 ],
 "metadata": {
  "kernelspec": {
   "display_name": "Python 3",
   "language": "python",
   "name": "python3"
  },
  "language_info": {
   "codemirror_mode": {
    "name": "ipython",
    "version": 3
   },
   "file_extension": ".py",
   "mimetype": "text/x-python",
   "name": "python",
   "nbconvert_exporter": "python",
   "pygments_lexer": "ipython3",
   "version": "3.7.4"
  },
  "latex_envs": {
   "LaTeX_envs_menu_present": true,
   "autoclose": false,
   "autocomplete": true,
   "bibliofile": "biblio.bib",
   "cite_by": "apalike",
   "current_citInitial": 1,
   "eqLabelWithNumbers": true,
   "eqNumInitial": 1,
   "hotkeys": {
    "equation": "Ctrl-E",
    "itemize": "Ctrl-I"
   },
   "labels_anchors": false,
   "latex_user_defs": false,
   "report_style_numbering": false,
   "user_envs_cfg": false
  }
 },
 "nbformat": 4,
 "nbformat_minor": 2
}

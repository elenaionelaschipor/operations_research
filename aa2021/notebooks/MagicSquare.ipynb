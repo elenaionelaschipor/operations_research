{
 "cells": [
  {
   "cell_type": "markdown",
   "metadata": {},
   "source": [
    "<a rel=\"license\" href=\"http://creativecommons.org/licenses/by/4.0/\"><img alt=\"Creative Commons License\" style=\"border-width:0\" src=\"https://i.creativecommons.org/l/by/4.0/88x31.png\" /></a><br /><span xmlns:dct=\"http://purl.org/dc/terms/\" property=\"dct:title\"><b>A Magic Square Solver</b></span> by <a xmlns:cc=\"http://creativecommons.org/ns#\" href=\"http://mate.unipv.it/gualandi\" property=\"cc:attributionName\" rel=\"cc:attributionURL\">Stefano Gualandi</a> is licensed under a <a rel=\"license\" href=\"http://creativecommons.org/licenses/by/4.0/\">Creative Commons Attribution 4.0 International License</a>.<br />Based on a work at <a xmlns:dct=\"http://purl.org/dc/terms/\" href=\"https://github.com/mathcoding/opt4ds\" rel=\"dct:source\">https://github.com/mathcoding/opt4ds</a>."
   ]
  },
  {
   "cell_type": "markdown",
   "metadata": {},
   "source": [
    "**NOTE:** Run the following script whenever running this script on a Google Colab."
   ]
  },
  {
   "cell_type": "code",
   "execution_count": null,
   "metadata": {},
   "outputs": [],
   "source": [
    "import shutil\n",
    "import sys\n",
    "import os.path\n",
    "\n",
    "if not shutil.which(\"pyomo\"):\n",
    "    !pip install -q pyomo\n",
    "    assert(shutil.which(\"pyomo\"))\n",
    "\n",
    "if not (shutil.which(\"glpk\") or os.path.isfile(\"glpk\")):\n",
    "    if \"google.colab\" in sys.modules:\n",
    "        !apt-get install -y -qq glpk-utils\n",
    "    else:\n",
    "        try:\n",
    "            !conda install -c conda-forge glpk \n",
    "        except:\n",
    "            pass"
   ]
  },
  {
   "cell_type": "markdown",
   "metadata": {},
   "source": [
    "# Magic Square Solver\n",
    "In this notebook, we propose an ILP model to the [Magic Square](https://en.wikipedia.org/wiki/Magic_square) puzzle.\n",
    "\n",
    "The puzzle asks to place into a grid of size $n \\times n$ the digits from $1$ to $n^2$, in such a way that the sum of the digits in each row, the sum of digits in each column, and the sum of the digits on the two main diagonals, is equal to the same number."
   ]
  },
  {
   "cell_type": "markdown",
   "metadata": {},
   "source": [
    "## ILP Model\n",
    "The model we propose is as follows.\n",
    "\n",
    "**Decision Variables:** We use two type of variables:\n",
    "\n",
    "* We use the set $I,J:=\\{1,\\dots,n\\}$ and $K := \\{1,\\dots,n^2\\}$.\n",
    "* The variable $x_{ijk} \\in \\{0,1\\}$ is equal to 1 if the cell in position $(i,j)$, with  $(i,j)\\in I \\times J$, contains the digit $k \\in K$, and it is equal to 0 otherwise. \n",
    "* The variable $z\\in\\mathbb{Z}_+$ represents the magic number.\n",
    "\n",
    "**Objective function:** Since the problem is a feasibility problem, we can set the objective function equal to a constant value. Otherwise, we can add the sum of every variable, or we can just put the variable $z$. Having a non-empty objective function, we avoid a warning from the solver."
   ]
  },
  {
   "cell_type": "markdown",
   "metadata": {},
   "source": [
    "**Constraints:** We introduce the following linear constraints, which encode the puzzle rules:\n",
    "\n",
    "1. Every digit, we can be placed into a single position:\n",
    "$$\n",
    "    \\sum_{i \\in I}\\sum_{j \\in J} x_{ijk} = 1, \\;\\; \\forall k \\in K\n",
    "$$\n",
    "2. In every position, we can place a single digit:\n",
    "$$\n",
    "    \\sum_{k \\in K} x_{ijk} = 1, \\;\\; \\forall i \\in I, \\; \\forall j \\in J\n",
    "$$\n",
    "3. The sum of the digits in each row must be equal to $z$:\n",
    "$$\n",
    "    \\sum_{j \\in J}\\sum_{k \\in K} k x_{ijk} = z, \\;\\; \\forall i \\in I\n",
    "$$\n",
    "3. The sum of the digits in each column must be equal to $z$:\n",
    "$$\n",
    "    \\sum_{i \\in I}\\sum_{k \\in K} k x_{ijk} = z, \\;\\; \\forall j \\in J\n",
    "$$\n",
    "4. The sum of the digits over the two main diagonals is equal to $z$:\n",
    "$$\n",
    "    \\sum_{i \\in I} \\sum_{k \\in K} x_{iik} = z,\n",
    "$$\n",
    "$$\n",
    "    \\sum_{i \\in I} \\sum_{k \\in K} x_{i(n-i+1)k} = z,\n",
    "$$\n",
    "\n",
    "We show next how to implement this model in Pyomo."
   ]
  },
  {
   "cell_type": "markdown",
   "metadata": {},
   "source": [
    "## Pyomo implementation\n",
    "As a first step we import the Pyomo libraries."
   ]
  },
  {
   "cell_type": "code",
   "execution_count": null,
   "metadata": {},
   "outputs": [],
   "source": [
    "from pyomo.environ import ConcreteModel, Var, Objective, Constraint, SolverFactory\n",
    "from pyomo.environ import Binary, RangeSet, ConstraintList, PositiveIntegers"
   ]
  },
  {
   "cell_type": "markdown",
   "metadata": {},
   "source": [
    "We create an instance of the  class *ConcreteModel*, and we start to add the *RangeSet* and *Var* corresponding to the index sets and the variables of our model. We set also the objective function."
   ]
  },
  {
   "cell_type": "code",
   "execution_count": null,
   "metadata": {},
   "outputs": [],
   "source": [
    "# Create concrete model\n",
    "model = ConcreteModel()\n",
    "\n",
    "n = 5\n",
    "\n",
    "# Set of indices\n",
    "model.I = RangeSet(1, n)\n",
    "model.J = RangeSet(1, n)\n",
    "model.K = RangeSet(1, n*n)\n",
    "\n",
    "# Variables\n",
    "model.z = Var(within=PositiveIntegers)\n",
    "model.x = Var(model.I, model.J, model.K, within=Binary)\n",
    "\n",
    "# Objective Function\n",
    "model.obj = Objective(expr = model.z)"
   ]
  },
  {
   "cell_type": "markdown",
   "metadata": {},
   "source": [
    "Then, we encode all the constraints of our model using the Pyomo syntax."
   ]
  },
  {
   "cell_type": "code",
   "execution_count": null,
   "metadata": {},
   "outputs": [],
   "source": [
    "def Unique(model, k):\n",
    "    return sum(model.x[i,j,k] for j in model.J for i in model.I) == 1\n",
    "model.unique = Constraint(model.K, rule = Unique)\n",
    "\n",
    "def CellUnique(model, i, j):\n",
    "    return sum(model.x[i,j,k] for k in model.K) == 1\n",
    "model.cellUnique = Constraint(model.I, model.J, rule = CellUnique)\n",
    "\n",
    "def Row(model, i):\n",
    "    return sum(k*model.x[i,j,k] for j in model.J for k in model.K) == model.z\n",
    "model.row = Constraint(model.I, rule = Row)\n",
    "\n",
    "def Col(model, j):\n",
    "    return sum(k*model.x[i,j,k] for i in model.I for k in model.K) == model.z\n",
    "model.column = Constraint(model.J, rule = Col)\n",
    "\n",
    "model.diag1 = Constraint(\n",
    "    expr = sum(k*model.x[i,i,k] for i in model.I for k in model.K) == model.z)\n",
    "\n",
    "model.diag2 = Constraint(\n",
    "    expr = sum(k*model.x[i,n-i+1,k] for i in model.I for k in model.K) == model.z)"
   ]
  },
  {
   "cell_type": "markdown",
   "metadata": {},
   "source": [
    "Finally, we solve the model for a given $n$ and we check the solution status.\n",
    "\n",
    "**WARNING:** Using GLPK only very small magic squares are solved in reasonable time. For larger values of $n$, it is recommended to use the academic license of a commercial solver such as Gurobi, Cplex, or FICO."
   ]
  },
  {
   "cell_type": "code",
   "execution_count": null,
   "metadata": {},
   "outputs": [],
   "source": [
    "# Solve the model\n",
    "sol = SolverFactory('glpk').solve(model, tee=True)\n",
    "\n",
    "# IF YOU HAVE GUROBI INSTALLED:\n",
    "# sol = SolverFactory('gurobi').solve(model, tee=True)\n",
    "\n",
    "# CHECK SOLUTION STATUS\n",
    "\n",
    "# Get a JSON representation of the solution\n",
    "sol_json = sol.json_repn()\n",
    "# Check solution status\n",
    "if sol_json['Solver'][0]['Status'] != 'ok':\n",
    "    print(\"Problem unsolved\")\n",
    "if sol_json['Solver'][0]['Termination condition'] != 'optimal':\n",
    "    print(\"Problem unsolved\")"
   ]
  },
  {
   "cell_type": "markdown",
   "metadata": {},
   "source": [
    "If the problem is solved and a feasible solution is available, we write the solution into a colorful **magic square**."
   ]
  },
  {
   "cell_type": "code",
   "execution_count": null,
   "metadata": {},
   "outputs": [],
   "source": [
    "def PlotMagicSquare(x, n):\n",
    "    # Report solution value\n",
    "    import matplotlib.pyplot as plt\n",
    "    import numpy as np\n",
    "    import itertools\n",
    "    \n",
    "    sol = np.zeros((n,n), dtype=int)\n",
    "    \n",
    "    for i, j, k in x:\n",
    "        if x[i,j,k]() > 0.5:\n",
    "            sol[i-1,j-1] = k\n",
    "    \n",
    "    cmap = plt.get_cmap('Blues')\n",
    "    \n",
    "    plt.figure(figsize=(6,6))\n",
    "    plt.imshow(sol, interpolation='nearest', cmap=cmap)\n",
    "    plt.title(\"Magic Square, Size: {}\".format(n))\n",
    "    plt.axis('off')\n",
    "    \n",
    "    for i, j in itertools.product(range(n), range(n)):\n",
    "        plt.text(j, i, \"{:d}\".format(sol[i, j]), \n",
    "                 fontsize=24, ha='center', va='center')\n",
    "            \n",
    "    plt.tight_layout()\n",
    "    plt.show()\n",
    "    \n",
    "PlotMagicSquare(model.x, n)"
   ]
  },
  {
   "cell_type": "code",
   "execution_count": null,
   "metadata": {},
   "outputs": [],
   "source": []
  }
 ],
 "metadata": {
  "@webio": {
   "lastCommId": null,
   "lastKernelId": null
  },
  "kernelspec": {
   "display_name": "Python 3",
   "language": "python",
   "name": "python3"
  },
  "language_info": {
   "codemirror_mode": {
    "name": "ipython",
    "version": 3
   },
   "file_extension": ".py",
   "mimetype": "text/x-python",
   "name": "python",
   "nbconvert_exporter": "python",
   "pygments_lexer": "ipython3",
   "version": "3.6.5"
  },
  "latex_envs": {
   "LaTeX_envs_menu_present": true,
   "autoclose": false,
   "autocomplete": true,
   "bibliofile": "biblio.bib",
   "cite_by": "apalike",
   "current_citInitial": 1,
   "eqLabelWithNumbers": true,
   "eqNumInitial": 1,
   "hotkeys": {
    "equation": "Ctrl-E",
    "itemize": "Ctrl-I"
   },
   "labels_anchors": false,
   "latex_user_defs": false,
   "report_style_numbering": false,
   "user_envs_cfg": false
  }
 },
 "nbformat": 4,
 "nbformat_minor": 2
}

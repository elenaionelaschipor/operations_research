{
 "cells": [
  {
   "cell_type": "markdown",
   "metadata": {},
   "source": [
    "<a rel=\"license\" href=\"http://creativecommons.org/licenses/by/4.0/\"><img alt=\"Creative Commons License\" style=\"border-width:0\" src=\"https://i.creativecommons.org/l/by/4.0/88x31.png\" /></a><br /><span xmlns:dct=\"http://purl.org/dc/terms/\" property=\"dct:title\"><b>Capacitated Vehicle Routing Problem</b></span> by <a xmlns:cc=\"http://creativecommons.org/ns#\" href=\"http://mate.unipv.it/gualandi\" property=\"cc:attributionName\" rel=\"cc:attributionURL\">Stefano Gualandi</a> is licensed under a <a rel=\"license\" href=\"http://creativecommons.org/licenses/by/4.0/\">Creative Commons Attribution 4.0 International License</a>.<br />Based on a work at <a xmlns:dct=\"http://purl.org/dc/terms/\" href=\"https://github.com/mathcoding/opt4ds\" rel=\"dct:source\">https://github.com/mathcoding/opt4ds</a>."
   ]
  },
  {
   "cell_type": "markdown",
   "metadata": {},
   "source": [
    "**NOTE:** Run the following script whenever running this script on a Google Colab."
   ]
  },
  {
   "cell_type": "code",
   "execution_count": null,
   "metadata": {},
   "outputs": [],
   "source": [
    "import shutil\n",
    "import sys\n",
    "import os.path\n",
    "\n",
    "if not shutil.which(\"pyomo\"):\n",
    "    !pip install -q pyomo\n",
    "    assert(shutil.which(\"pyomo\"))\n",
    "\n",
    "if not (shutil.which(\"glpk\") or os.path.isfile(\"glpk\")):\n",
    "    if \"google.colab\" in sys.modules:\n",
    "        !apt-get install -y -qq glpk-utils\n",
    "    else:\n",
    "        try:\n",
    "            !conda install -c conda-forge glpk \n",
    "        except:\n",
    "            pass"
   ]
  },
  {
   "cell_type": "markdown",
   "metadata": {},
   "source": [
    "# Capacitated Vehicle Routing Problem\n",
    "In this lab session, you have to find a solution for the Capacitated Vehicle Routing Problem, likely, but not necessarily, by using an **Integer Linear Programming** model.\n",
    "\n",
    "The problem is defined as follows. You are given a set of $n$ customers, and each customer has a demand of $d_i$ unit of product. The position of each customer is given by a pair of coordinates: in this exercise, they are points in an Euclidean plane. The distance between any pair of customers is equal to the Euclidean distance between the corresponding pair of points. You are give also a set of $k$ vehicles with capacity $C$, such that, $d_i \\leq C, i=1,\\dots,n$. All the vehicles are located at the same depot.\n",
    "\n",
    "The problem is to find a routing of the vehicle that minimize the overall number of km travelled by the vehicles, while respecting the load capacity of each vehicle."
   ]
  },
  {
   "cell_type": "markdown",
   "metadata": {},
   "source": [
    "## Helper functions\n",
    "To facilitate the modeling activity, the following functions are provided with this notebook:\n",
    "\n",
    "1. A parse function to read an instance of CVRP with a fix format.\n",
    "\n",
    "2. A function to compute the distance between a pair of points.\n",
    "\n",
    "2. A function to plot a solution. You can use this function *manually* to try to see possible simple solutions. The `PlotSolution(Xs, Ws, Es)` takes in input a list of coordinates of the customers (the first point is always the depot), a list of demands, and a list of link connecting the points (the last list can be set manually).\n",
    "\n",
    "Those functions are given below."
   ]
  },
  {
   "cell_type": "code",
   "execution_count": null,
   "metadata": {},
   "outputs": [],
   "source": [
    "def ParseFile(filename):\n",
    "    doc = open(filename, 'r')\n",
    "    # Salta le prime 3 righe\n",
    "    for _ in range(3):\n",
    "        doc.readline()\n",
    "    # Leggi la dimensione\n",
    "    n = int(doc.readline().split(' ')[2])\n",
    "    # sala riga\n",
    "    doc.readline()\n",
    "    # Leggi la capacita\n",
    "    C = int(doc.readline().split(' ')[2])\n",
    "    # sala riga\n",
    "    doc.readline()\n",
    "    # Leggi posizioni\n",
    "    Ps = {}\n",
    "    for row in doc:\n",
    "        row = row.rstrip().split(' ')\n",
    "        if row[0] == 'DEMAND_SECTION':\n",
    "            break\n",
    "        row = list(map(lambda z: int(z), row))\n",
    "        Ps[row[0]] = (row[1], row[2])\n",
    "    # Leggi posizioni\n",
    "    Ds = {}\n",
    "    for row in doc:\n",
    "        row = row.rstrip().split(' ')\n",
    "        if row[0] == 'DEPOT_SECTION':\n",
    "            break\n",
    "        row = list(map(lambda z: int(z), row))\n",
    "        Ds[row[0]] = row[1]\n",
    "    d = int(next(doc).rstrip())\n",
    "\n",
    "    return n, C, Ps, Ds, d"
   ]
  },
  {
   "cell_type": "code",
   "execution_count": null,
   "metadata": {},
   "outputs": [],
   "source": [
    "def Distance(A, B):\n",
    "    return math.sqrt((A[0]-B[0])**2 + (A[1] - B[1])**2)"
   ]
  },
  {
   "cell_type": "code",
   "execution_count": null,
   "metadata": {},
   "outputs": [],
   "source": [
    "def DisegnaPunto(A):\n",
    "    \"\"\"\n",
    "    Disegna un punto nel piano\n",
    "    \"\"\"\n",
    "    plt.plot([A[0]], [A[1]], 'bo', alpha=0.5)\n",
    "    \n",
    "def DisegnaSegmento(A, B):\n",
    "    \"\"\" \n",
    "    Disegna un segmento nel piano dal punto A a al punto B\n",
    "    Vedi manuale a: http://matplotlib.org/api/pyplot_api.html\n",
    "    \"\"\"\n",
    "    # Disegna il segmento\n",
    "    plt.plot([A[0], B[0]], [A[1], B[1]], 'b', lw=0.75)\n",
    "    # Disegna gli estremi del segmento\n",
    "    DisegnaPunto(A)\n",
    "    DisegnaPunto(B)"
   ]
  },
  {
   "cell_type": "code",
   "execution_count": null,
   "metadata": {},
   "outputs": [],
   "source": [
    "import matplotlib.pyplot as plt\n",
    "\n",
    "def PlotSolution(Xs, Ws, Es):\n",
    "    plt.figure(figsize=(6,6))\n",
    "    for i,j in Es:\n",
    "        DisegnaSegmento(Ps[i], Ps[j])\n",
    "    plt.scatter([i for i,j in Xs[1:]], [j for i,j in Xs[1:]], \n",
    "                s=Ws[1:], alpha=0.3, cmap='viridis')\n",
    "    plt.plot([Xs[0][0]], [Xs[0][1]], marker='s', color='red', alpha=0.5)\n",
    "    plt.axis('square')\n",
    "    plt.axis('off')"
   ]
  },
  {
   "cell_type": "markdown",
   "metadata": {},
   "source": [
    "The following snippet use those functions to parse the file `E-n23-k3.vrp` and to plot the instance."
   ]
  },
  {
   "cell_type": "code",
   "execution_count": null,
   "metadata": {},
   "outputs": [],
   "source": [
    "!wget http://www-dimat.unipv.it/gualandi/opt4ds/E-n23-k3.vrp"
   ]
  },
  {
   "cell_type": "code",
   "execution_count": null,
   "metadata": {},
   "outputs": [],
   "source": [
    "n, C, Ps, Ds, d = ParseFile(\"../data/E-n23-k3.vrp\")\n",
    "\n",
    "Xs = [p for p in Ps.values()]\n",
    "Ws = [w for w in Ds.values()]\n",
    "\n",
    "PlotSolution(Xs, Ws, [(1,2),(2,3),(3,1), (1,10), (10,1)])\n",
    "print(d)"
   ]
  },
  {
   "cell_type": "code",
   "execution_count": null,
   "metadata": {},
   "outputs": [],
   "source": [
    "PlotSolution(Xs, Ws, [(1,10),(10,1), (1,2),(2,3),(3,1)])"
   ]
  },
  {
   "cell_type": "markdown",
   "metadata": {},
   "source": [
    "## Scaling up the size of the instances\n",
    "You can try your solution approach with the following instances taken from this website (http://vrp.galgos.inf.puc-rio.br/index.php/en/):\n",
    "\n",
    "1. E-n22-k4.vrp\n",
    "2. E-n23-k3.vrp\n",
    "3. E-n30-k3.vrp  \n",
    "4. E-n33-k4.vrp  \n",
    "5. E-n51-k5.vrp \n",
    "6. E-n101-k8.vrp   \n",
    "7. X-n101-k25.vrp\n",
    "\n",
    "**NOTE:** Start with the smaller instances, and when scaling to larger instances, fix a timeout."
   ]
  },
  {
   "cell_type": "markdown",
   "metadata": {},
   "source": [
    "### Computation Challenge\n",
    "If you are passionate about this type of computational challenges, you can try to participate to the:\n",
    "\n",
    "[12th DIMACS Implementation Challenge](http://dimacs.rutgers.edu/programs/challenge/vrp/)\n",
    "\n",
    "This is a possible project for the final exam of this course."
   ]
  },
  {
   "cell_type": "markdown",
   "metadata": {},
   "source": [
    "## [Optional] Capacitated VRP with Time Windows\n",
    "Once you have a satisfactory solution for the CVRP consider the following more realistic variant:\n",
    "\n",
    "Every customer can be visited only within a given time window $[e_i, l_i], i=2,\\dots,n$, and it has a service time $s_i$. A vehicle can arrive before time $e_i$, but the service will not start before $s_i$.\n",
    "\n",
    "Find the routing minimizing the overall time to serve all customers, while respecting the time windows constraints.\n",
    "In this case, the distance between a pair of customers is given in traveling time instead of km."
   ]
  }
 ],
 "metadata": {
  "@webio": {
   "lastCommId": null,
   "lastKernelId": null
  },
  "kernelspec": {
   "display_name": "Python 3",
   "language": "python",
   "name": "python3"
  },
  "language_info": {
   "codemirror_mode": {
    "name": "ipython",
    "version": 3
   },
   "file_extension": ".py",
   "mimetype": "text/x-python",
   "name": "python",
   "nbconvert_exporter": "python",
   "pygments_lexer": "ipython3",
   "version": "3.6.5"
  },
  "latex_envs": {
   "LaTeX_envs_menu_present": true,
   "autoclose": false,
   "autocomplete": true,
   "bibliofile": "biblio.bib",
   "cite_by": "apalike",
   "current_citInitial": 1,
   "eqLabelWithNumbers": true,
   "eqNumInitial": 1,
   "hotkeys": {
    "equation": "Ctrl-E",
    "itemize": "Ctrl-I"
   },
   "labels_anchors": false,
   "latex_user_defs": false,
   "report_style_numbering": false,
   "user_envs_cfg": false
  }
 },
 "nbformat": 4,
 "nbformat_minor": 2
}

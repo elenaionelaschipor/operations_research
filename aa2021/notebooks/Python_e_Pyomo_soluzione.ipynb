{
 "cells": [
  {
   "cell_type": "markdown",
   "id": "guided-ordinance",
   "metadata": {},
   "source": [
    "# Domande di Python, esempi di modelli in Pyomo"
   ]
  },
  {
   "cell_type": "markdown",
   "id": "latin-montgomery",
   "metadata": {},
   "source": [
    "## 1. Domande ricevute\n",
    "### Domanda 1: Il problema di *aliasing* nelle liste\n",
    "Le liste in Python sono delle strutture dati *mutable*, ovvero che possono essere modificate, a differenze delle tuple che sono una struttura dati *read only*, ovvero che una volta che sono inizializzate non possono essere più modificate.\n",
    "\n",
    "Quando si usano le liste, insieme all'operatore di assegnamento `=` (da non confondere con l'operatore logico di confronto `==`), quello che succedde è che non viene copiata la lista in una nuova variabile, ma viene creato un *handle* (un puntatore) alla stessa lista. Vediamo un esempio concreto di seguito."
   ]
  },
  {
   "cell_type": "code",
   "execution_count": null,
   "id": "forward-section",
   "metadata": {},
   "outputs": [],
   "source": [
    "As = [1, 2, 3, 4]\n",
    "Bs = As\n",
    "\n",
    "Bs.pop(2)\n",
    "\n",
    "print(\"As:\", As)\n",
    "print(\"Bs:\", Bs)"
   ]
  },
  {
   "cell_type": "markdown",
   "id": "coated-coffee",
   "metadata": {},
   "source": [
    "Si noti che a tutti gli effetti, `Bs` reindrezza l'operazione `pop` alla struttura dati a cui si riferesce `As`. Usando una notazione **box-and-pointer**, quello che succede dovrebbe essere subito chiaro.\n",
    "\n",
    "Per maggiori dettagli, si veda il paragrafo 4.4.1 del notebook seguente:\n",
    "[Link al corso di Python](http://www-dimat.unipv.it/gualandi/programming/notebooks/Lab11_TupleListeDizionari.html)"
   ]
  },
  {
   "cell_type": "markdown",
   "id": "alternate-blame",
   "metadata": {},
   "source": [
    "Se uno avesse veramente voluto creare una copia della lista `As` in `Bs`, avrebbe potuto usare il costruttore delle list, o semplicemente un operatore di slicing, come nell'esempio seguente."
   ]
  },
  {
   "cell_type": "code",
   "execution_count": null,
   "id": "partial-defendant",
   "metadata": {},
   "outputs": [],
   "source": [
    "As = [1, 2, 3, 4, 5]\n",
    "Bs = list(As)\n",
    "Cs = Bs[:]\n",
    "\n",
    "Bs.pop(2)\n",
    "Cs.pop(3)\n",
    "\n",
    "print(\"As:\", As)\n",
    "print(\"Bs:\", Bs)\n",
    "print(\"Cs:\", Cs)"
   ]
  },
  {
   "cell_type": "markdown",
   "id": "written-france",
   "metadata": {},
   "source": [
    "### Domanda 2: Differenza tra modello e programma\n",
    "Domanda ricevuta:\n",
    "\n",
    "> [...] l'idea che mi sono fatto è che, in questo caso, sia sbagliato il modello di partenza, l'idea con cui intendo risolvere il problema. Ma poi mi chiedo: siccome non è la prima volta che riscontro un problema di questo tipo con pyomo, io non posso in alcun modo definire nuove variabili a partire dal valore che altre variabili assumono? \n",
    "\n",
    "La difficoltà principale nell'esercitazione sul CVRP è riuscire a mettere a fuoco la differenza tra l'implementare un **algoritmo** che risolve un problema, e invece tra troverro un **modello di programmazione lineare intera** che formalizza un problema usando solo\n",
    "\n",
    "1. Variabili decisionali continue o intere\n",
    "2. Funzione obiettivo lineare\n",
    "3. Vincoli lineari\n",
    "\n",
    "In particolare, sulla parte di domanda:\n",
    "\n",
    "> non posso in alcun modo definire nuove variabili a partire dal valore che altre variabili assumono? \n",
    "\n",
    "La risposta è *yes, you can!*, ma devi riuscire a scrivere la relazione che vuoi esprimere tra le variabili in termini di vincoli lineari. Non devi implementare un algoritmo che calcola quella relazione.\n",
    "\n",
    "Una volta scritto il modello, sarà un risolutore generico di programmazione lineare intera ad eseguire i suoi algoritmi, per cercare di risolvere il problema, e dichiarare il problema come (e dovete controllare lo status):\n",
    "\n",
    "1. Non ammissibile\n",
    "2. Illimitato\n",
    "3. Risolto all'ottimo. \n",
    "4. Oppure: *raggiunto un time limit, o un raggiunto iteration limit, o esaurita le memoria...)"
   ]
  },
  {
   "cell_type": "markdown",
   "id": "quiet-literacy",
   "metadata": {},
   "source": [
    "### Domanda 3: Variabili, parametri, assegnamento iniziale\n",
    "Consideriamo il codice seguente:"
   ]
  },
  {
   "cell_type": "code",
   "execution_count": null,
   "id": "lesser-delicious",
   "metadata": {},
   "outputs": [],
   "source": [
    "# Dati letti dal file:\n",
    "Xs = [(266, 235), (295, 272), (301, 258), (309, 260), (217, 274), (218, 278), (282, 267), (242, 249), (230, 262), (249, 268), (256, 267), (265, 257), (267, 242), (259, 265), (315, 233), (329, 252), (318, 252), (329, 224), (267, 213), (275, 192), (303, 201), (208, 217), (326, 181)]\n",
    "Ws = [0, 125, 84, 60, 500, 300, 175, 350, 150, 1100, 4100, 225, 300, 250, 500, 150, 100, 250, 120, 600, 500, 175, 75]\n",
    "\n",
    "# Funzione distanza\n",
    "from math import sqrt\n",
    "def Distance(A, B):\n",
    "    return sqrt((A[0]-B[0])**2 + (A[1] - B[1])**2)"
   ]
  },
  {
   "cell_type": "code",
   "execution_count": null,
   "id": "extended-brook",
   "metadata": {},
   "outputs": [],
   "source": [
    "from pyomo.environ import ConcreteModel, Var, Objective, Constraint, SolverFactory, ConstraintList\n",
    "from pyomo.environ import Binary, RangeSet, NonNegativeReals, NonNegativeIntegers, Reals, Maximize\n",
    "\n",
    "model = ConcreteModel()\n",
    "\n",
    "model.I = RangeSet(len(Xs))\n",
    "model.J = RangeSet(len(Ws))\n",
    "  \n",
    "model.x = Var(model.I, model.J, within=Binary)\n",
    "model.c = Var(model.I, model.J, within=NonNegativeReals)\n",
    "for i in model.I:\n",
    "    for j in model.J:\n",
    "        if j is not i:\n",
    "            model.x[i,j]()==0\n",
    "            model.c[i,j]()==Distance(Xs[i],Xs[j]) "
   ]
  },
  {
   "cell_type": "markdown",
   "id": "opening-practice",
   "metadata": {},
   "source": [
    "## 2. Modelli in Pyomo\n",
    "Di seguito vediamo come sia possibile scrivere alcuni modelli visti a lezione in Pyomo."
   ]
  },
  {
   "cell_type": "markdown",
   "id": "negative-smart",
   "metadata": {},
   "source": [
    "### 2.1 Problema di programmazione lineare casuale\n",
    "Consideriamo la funzione seguente che crea un problema di Programmazione Lineare Intera (PLI) casuale.\n",
    "\n",
    "Un problema di PLI è definito dai due vettori $c$ e $b$ e dalla matrice $A$:\n",
    "\n",
    "$$\n",
    "    z = \\min \\,\\{ c x \\mid Ax \\geq b, x \\geq 0 \\,\\}\n",
    "$$\n",
    "\n",
    "Scriviamo prima una funzione per generare i dati in modo casuale."
   ]
  },
  {
   "cell_type": "code",
   "execution_count": null,
   "id": "ready-astronomy",
   "metadata": {},
   "outputs": [],
   "source": [
    "from numpy import random\n",
    "def RandomILP(n, m, seed=13):\n",
    "    random.seed(seed)\n",
    "    c = random.randint(1, 10, size=n)\n",
    "    b = random.random(m)\n",
    "    A = random.randint(1, 10, size=(m,n))\n",
    "    \n",
    "    return c, b, A\n",
    "    \n",
    "print(RandomILP(2,3))"
   ]
  },
  {
   "cell_type": "markdown",
   "id": "adequate-florist",
   "metadata": {},
   "source": [
    "Scriviamo ora una funzione che presi in input i dati di un'istanza, costruisce il modello, lo risolve, controlla lo status, e restituisce un eventuale soluzione."
   ]
  },
  {
   "cell_type": "code",
   "execution_count": null,
   "id": "impossible-macedonia",
   "metadata": {},
   "outputs": [],
   "source": [
    "def SolveILP(c, b, A):\n",
    "    m = len(b)\n",
    "    n = len(c)\n",
    "    \n",
    "    model = ConcreteModel()\n",
    "\n",
    "    model.I = RangeSet(n)\n",
    "    model.J = RangeSet(m)\n",
    "  \n",
    "    model.x = Var(model.I, within=NonNegativeIntegers)\n",
    "    \n",
    "    model.obj = Objective(expr = sum(c[i-1]*model.x[i] for i in model.I))\n",
    "    \n",
    "    model.vincoli = ConstraintList()\n",
    "    for j in model.J:\n",
    "        model.vincoli.add(expr = sum(A[j-1,i-1]*model.x[i] for i in model.I) >= b[j-1])\n",
    "        \n",
    "    sol = SolverFactory('glpk').solve(model, tee=False)\n",
    "    \n",
    "    for info in sol['Solver']:\n",
    "        print(info)\n",
    "        \n",
    "    xbar = [model.x[i]() for i in model.I]\n",
    "    \n",
    "    return 'optimal', model.obj(), xbar\n"
   ]
  },
  {
   "cell_type": "code",
   "execution_count": null,
   "id": "statutory-density",
   "metadata": {},
   "outputs": [],
   "source": [
    "c, b, A = RandomILP(2, 3, 1717)\n",
    "print(SolveILP(c, b, A))"
   ]
  },
  {
   "cell_type": "markdown",
   "id": "cubic-elimination",
   "metadata": {},
   "source": [
    "### 2.2 Turnistica infermieri\n",
    "Vediamo ora come possiamo scrivere il modello che rappresenta i turni settimanali degli infermieri del San Matteo di Pavia.\n",
    "\n",
    "Per la descrizione del modello si vedano le slides del corso.\n"
   ]
  },
  {
   "cell_type": "code",
   "execution_count": null,
   "id": "comfortable-prayer",
   "metadata": {},
   "outputs": [],
   "source": [
    "def StaffScheduling():\n",
    "    # Data\n",
    "    d = 7\n",
    "    w = 5\n",
    "    demand = [5, 6, 7, 3, 3, 2, 2]\n",
    "    \n",
    "    # Dati sui turni\n",
    "    A = np.zeros((7,7))\n",
    "    for i in range(7):\n",
    "        for j in range(5):\n",
    "            A[(j+i)%7, i] = 1\n",
    "            \n",
    "    # Model\n",
    "    model = ConcreteModel()\n",
    "\n",
    "    model.Day = RangeSet(d)\n",
    "    \n",
    "    model.x = Var(model.Day, within=NonNegativeIntegers)\n",
    "    \n",
    "    model.obj = Objective(expr = sum(model.x[i] for i in model.Day))\n",
    "    \n",
    "    model.cover = ConstraintList()\n",
    "    for day in model.Day:\n",
    "        model.cover.add(expr = sum(A[day-1, i-1]*model.x[i] for i in model.Day) >= demand[day-1])\n",
    "        \n",
    "    model.write(\"staff.lp\")\n",
    "    \n",
    "    sol = SolverFactory('glpk').solve(model, tee=True)\n",
    "    \n",
    "    for info in sol['Solver']:\n",
    "        print(info)\n",
    "        \n",
    "    xbar = [model.x[i]() for i in model.Day]\n",
    "    \n",
    "    return 'optimal', model.obj(), xbar\n",
    "    "
   ]
  },
  {
   "cell_type": "code",
   "execution_count": null,
   "id": "unlike-uzbekistan",
   "metadata": {},
   "outputs": [],
   "source": [
    "print(StaffScheduling())"
   ]
  },
  {
   "cell_type": "code",
   "execution_count": null,
   "id": "major-renewal",
   "metadata": {},
   "outputs": [],
   "source": [
    "A = np.zeros((7,7))\n",
    "for i in range(7):\n",
    "    for j in range(5):\n",
    "        A[(j+i)%7, i] = 1\n",
    "        \n",
    "A"
   ]
  },
  {
   "cell_type": "markdown",
   "id": "indie-conclusion",
   "metadata": {},
   "source": [
    "### 2.3 RNA folding\n",
    "Si consideri il modello visto a lezione nelle slides `RNA folding`, vediamo come implementare quel modello in Pyomo."
   ]
  },
  {
   "cell_type": "code",
   "execution_count": null,
   "id": "relative-relations",
   "metadata": {},
   "outputs": [],
   "source": [
    "from pyomo.environ import maximize\n",
    "\n",
    "def RNAfold(s):\n",
    "    C1 = ('A', 'U')\n",
    "    C2 = ('C', 'G')\n",
    "    \n",
    "    ns = len(s)\n",
    "    \n",
    "    E = []\n",
    "    for i in range(ns):\n",
    "        for j in range(ns):\n",
    "            if i < j:\n",
    "                E.append( (i,j) )\n",
    "                \n",
    "    n = len(E)\n",
    "    \n",
    "    # Model\n",
    "    model = ConcreteModel()\n",
    "    \n",
    "    model.P = RangeSet(n)\n",
    "    \n",
    "    model.x = Var(model.P, within=Binary)\n",
    "    \n",
    "    model.obj = Objective(expr = sum(model.x[p] for p in model.P),\n",
    "                          sense = maximize)\n",
    "    \n",
    "    # Set variable to zero\n",
    "    model.setzero = ConstraintList()\n",
    "    for p in model.P:\n",
    "        i,j = E[p-1]\n",
    "        if not ((s[i],s[j]) == C1 or (s[j],s[i]) == C1 \n",
    "                or (s[i],s[j]) == C2 or (s[j],s[i]) == C1):\n",
    "            model.setzero.add(expr = model.x[p] == 0)\n",
    "            \n",
    "    # At most a single pair\n",
    "    model.atmost = ConstraintList()\n",
    "    for j in range(ns):\n",
    "        L1 = []\n",
    "        L2 = []\n",
    "        for p in model.P:\n",
    "            v,w = E[p-1]\n",
    "            if j == w:\n",
    "                L1.append( p )\n",
    "            if j == v:\n",
    "                L2.append( p )\n",
    "        Ls = L1 + L2\n",
    "        model.atmost.add(expr = sum(model.x[p] for p in Ls) <= 1)\n",
    "        \n",
    "    # Conflicts\n",
    "    model.conf = ConstraintList()\n",
    "    for p in model.P:\n",
    "        i, j = E[p-1]\n",
    "        for q in model.P:\n",
    "            v, w = E[q-1]\n",
    "            if i < v < j < w:\n",
    "                model.conf.add(expr = model.x[p] + model.x[q] <= 1)\n",
    "                \n",
    "    sol = SolverFactory('glpk').solve(model, tee=True)\n",
    "    \n",
    "    for info in sol['Solver']:\n",
    "        print(info)\n",
    "        \n",
    "    xbar = [model.x[i]() for i in model.P]\n",
    "    \n",
    "    return 'optimal', model.obj(), xbar\n"
   ]
  },
  {
   "cell_type": "code",
   "execution_count": null,
   "id": "military-valuation",
   "metadata": {},
   "outputs": [],
   "source": [
    "s = 'ACGUGCCCGAU'\n",
    "print(RNAfold(s))"
   ]
  },
  {
   "cell_type": "code",
   "execution_count": null,
   "id": "narrow-textbook",
   "metadata": {},
   "outputs": [],
   "source": []
  },
  {
   "cell_type": "code",
   "execution_count": null,
   "id": "integrated-rover",
   "metadata": {},
   "outputs": [],
   "source": []
  }
 ],
 "metadata": {
  "@webio": {
   "lastCommId": null,
   "lastKernelId": null
  },
  "kernelspec": {
   "display_name": "Python 3",
   "language": "python",
   "name": "python3"
  },
  "language_info": {
   "codemirror_mode": {
    "name": "ipython",
    "version": 3
   },
   "file_extension": ".py",
   "mimetype": "text/x-python",
   "name": "python",
   "nbconvert_exporter": "python",
   "pygments_lexer": "ipython3",
   "version": "3.6.5"
  }
 },
 "nbformat": 4,
 "nbformat_minor": 5
}

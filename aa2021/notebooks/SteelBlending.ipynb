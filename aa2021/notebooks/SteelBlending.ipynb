{
 "cells": [
  {
   "cell_type": "markdown",
   "metadata": {},
   "source": [
    "<a rel=\\\"license\\\" href=\\\"http://creativecommons.org/licenses/by/4.0/\\\"><img alt=\\\"Creative Commons License\\\" style=\\\"border-width:0\\\" src=\\\"https://i.creativecommons.org/l/by/4.0/88x31.png\\\" /></a><br /><span xmlns:dct=\\\"http://purl.org/dc/terms/\\\" property=\\\"dct:title\\\"><b>Steel Recycling Blending Problem</b></span> by <a xmlns:cc=\\\"http://creativecommons.org/ns#\\\" href=\\\"http://mate.unipv.it/gualandi\\\" property=\\\"cc:attributionName\\\" rel=\\\"cc:attributionURL\\\">Stefano Gualandi</a> is licensed under a <a rel=\\\"license\\\" href=\\\"http://creativecommons.org/licenses/by/4.0/\\\">Creative Commons Attribution 4.0 International License</a>.<br />Based on a work at <a xmlns:dct=\\\"http://purl.org/dc/terms/\\\" href=\\\"https://github.com/mathcoding/opt4ds\\\" rel=\\\"dct:source\\\">https://github.com/mathcoding/opt4ds</a>."
   ]
  },
  {
   "cell_type": "markdown",
   "metadata": {},
   "source": [
    "**NOTE:** Run the following script whenever running this script on a Google Colab."
   ]
  },
  {
   "cell_type": "code",
   "execution_count": 2,
   "metadata": {},
   "outputs": [
    {
     "name": "stdout",
     "output_type": "stream",
     "text": [
      "Collecting package metadata (current_repodata.json): ...working... done\n",
      "Solving environment: ...working... done\n",
      "\n",
      "# All requested packages already installed.\n",
      "\n"
     ]
    }
   ],
   "source": [
    "import shutil\n",
    "import sys\n",
    "import os.path\n",
    "\n",
    "if not shutil.which(\"pyomo\"):\n",
    "    !pip install -q pyomo\n",
    "    assert(shutil.which(\"pyomo\"))\n",
    "\n",
    "if not (shutil.which(\"glpk\") or os.path.isfile(\"glpk\")):\n",
    "    if \"google.colab\" in sys.modules:\n",
    "        !apt-get install -y -qq glpk-utils\n",
    "    else:\n",
    "        try:\n",
    "            !conda install -c conda-forge glpk \n",
    "        except:\n",
    "            pass"
   ]
  },
  {
   "cell_type": "markdown",
   "metadata": {},
   "source": [
    "# Steel Recycle Blending Problem\n",
    "The industrial steel can be easily recycled, since it is possible to burn any\n",
    "scrap to get only liquid steel (without plastics, glasses, ...).\n",
    "However, it is hard to separate each single metal presents in the scrap,\n",
    "and as a consequence, beside iron, we can get also chromium, nichel, and\n",
    "other impurities in the liquid steel.\n",
    "\n",
    "Depending on the type of production, some metals are desiderable, while others\n",
    "are not. For example, the stainless steel 18/10 must have 18% of chromium and\n",
    "10% of nichel (consider that chromium and nichel are very expensive, much more \n",
    "than the steel itself). \n",
    "\n",
    "**Problem Statment:** Suppose that the Rossi's Steel company of Voghera can choose to buy some iron\n",
    "scrap block with different properties regarding the different metals contained in \n",
    "each block. The company want to produce at minimum cost 100 quintals of stainless \n",
    "steel 18/10, which must have at least 65% of iron and at most 1% of \n",
    "impurity materials. Which fraction of each block is going to buy?\n",
    "\n",
    "The data of the problem are given below."
   ]
  },
  {
   "cell_type": "code",
   "execution_count": 1,
   "metadata": {},
   "outputs": [],
   "source": [
    "# Data of the problem (in theory, read data from .csv or excel file)\n",
    "\n",
    "# Blocks you can byu\n",
    "Blocks = ['Block1','Block2','Block3','Block4','Block5','Block6']\n",
    "\n",
    "Weights = [30, 90, 50, 70, 60, 50]  # In quintal\n",
    "Costs = [50, 100, 80, 85, 92, 115]  # Thousand of euros\n",
    "\n",
    "# Componets of metal in each block (given in percetange)\n",
    "Cs = [[93, 76, 74, 65, 72, 68],  # Ferro\n",
    "      [5, 13, 11, 16, 6, 23],    # Cromo\n",
    "      [0, 11, 12, 14, 20, 8],    # Nichel\n",
    "      [2, 0, 3, 5, 2, 1]]        # Impurità"
   ]
  },
  {
   "cell_type": "markdown",
   "metadata": {},
   "source": [
    "**Exercise 1:** First, write on paper a LP model to solve the steel production problem for the Rossi's Steel company\n",
    "\n",
    "**Exercise 2:** Solve the LP computer using Pyomo and GLPK. "
   ]
  },
  {
   "cell_type": "code",
   "execution_count": null,
   "metadata": {},
   "outputs": [],
   "source": []
  }
 ],
 "metadata": {
  "kernelspec": {
   "display_name": "Python 3",
   "language": "python",
   "name": "python3"
  },
  "language_info": {
   "codemirror_mode": {
    "name": "ipython",
    "version": 3
   },
   "file_extension": ".py",
   "mimetype": "text/x-python",
   "name": "python",
   "nbconvert_exporter": "python",
   "pygments_lexer": "ipython3",
   "version": "3.8.5"
  }
 },
 "nbformat": 4,
 "nbformat_minor": 4
}

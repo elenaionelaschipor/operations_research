{
 "cells": [
  {
   "cell_type": "markdown",
   "metadata": {
    "id": "fXY5FGiTFv1o"
   },
   "source": [
    "<a rel=\"license\" href=\"http://creativecommons.org/licenses/by/4.0/\"><img alt=\"Creative Commons License\" style=\"border-width:0\" src=\"https://i.creativecommons.org/l/by/4.0/88x31.png\" /></a><br /><span xmlns:dct=\"http://purl.org/dc/terms/\" property=\"dct:title\"><b>Steel Production Planning via Gurobi</b></span> by <a xmlns:cc=\"http://creativecommons.org/ns#\" href=\"http://mate.unipv.it/gualandi\" property=\"cc:attributionName\" rel=\"cc:attributionURL\">Stefano Gualandi</a> is licensed under a <a rel=\"license\" href=\"http://creativecommons.org/licenses/by/4.0/\">Creative Commons Attribution 4.0 International License</a>. Based on a project at <a xmlns:dct=\"http://purl.org/dc/terms/\" href=\"https://github.com/mathcoding/opt4ds\" rel=\"dct:source\">https://github.com/mathcoding/opt4ds</a>.\n"
   ]
  },
  {
   "cell_type": "markdown",
   "metadata": {
    "id": "Vd4RI1kPF10v"
   },
   "source": [
    "## 2.1 Solving Steel Production Planning\n",
    "\n",
    "In this notebook, we explain how to solve the **Linear Programming** problem that we have written to solve the Steel Planning problem during the class (see the slides on KIRO). This problem is given as Exercise 1.1 in Chapter 1 of [Linear Programming, Foundations and Extensions](https://link.springer.com/book/10.1007/978-1-4614-7630-6) by [R.J. Vanderbei](https://vanderbei.princeton.edu/).\n",
    "\n",
    "We show below how to use [Gurobi](https://www.gurobi.com/academia/academic-program-and-licenses/) to define the **variables**, the **objective function**, and the **constraints**."
   ]
  },
  {
   "cell_type": "markdown",
   "metadata": {
    "id": "xgVUJbVKGNJQ"
   },
   "source": [
    "### 2.1.1 Software Installation\n",
    "First, we need to install the [Gurobi](http://www.gurobi.org/). If you are running this notebook in a Colab, you don't need to install anything else on your computer.\n",
    "\n",
    "The following line installs the free version of Gurobi in a Google Colab or on you computer."
   ]
  },
  {
   "cell_type": "code",
   "execution_count": null,
   "metadata": {
    "id": "0pJrVOxmGJew"
   },
   "outputs": [],
   "source": [
    "# Run if on Colab\n",
    "%pip install gurobipy"
   ]
  },
  {
   "cell_type": "markdown",
   "metadata": {},
   "source": [
    "To install an academic licence of Gurobi on your computer follow these [instructions](https://www.gurobi.com/features/academic-named-user-license/)."
   ]
  },
  {
   "cell_type": "markdown",
   "metadata": {
    "id": "f_xjhutGIAsY"
   },
   "source": [
    "### 2.1.2 Define the data\n",
    "Recall, that a possible model of the steel planning problem is as follows:\n",
    "\n",
    "$$\n",
    "\\begin{align}\n",
    "\\max \\quad & p_B x_B + p_C x_C  \\\\\n",
    " \\quad & \\frac{x_B}{r_B} + \\frac{x_C}{r_C} \\leq T \\\\\n",
    "& 0 \\leq x_B \\leq d_B\\\\\n",
    "& 0 \\leq x_C \\leq d_C\n",
    "\\end{align}\n",
    "$$\n",
    "\n",
    "Hence, first, we need to define the data of our instance:"
   ]
  },
  {
   "cell_type": "code",
   "execution_count": 1,
   "metadata": {
    "id": "8ZrGKfhhII5o"
   },
   "outputs": [],
   "source": [
    "# Data\n",
    "pB = 25     # Profit of band ($ profit per tons)\n",
    "pC = 30     # Profit of coil ($ profit per tonr)\n",
    "\n",
    "rB = 200    # Production rate of band (tons per hour)\n",
    "rC = 140    # Production rate of coil (tons per hour)\n",
    "\n",
    "dB = 6000   # Maximum demand for band (per tons)\n",
    "dC = 4000   # Maximum demand for coil (per tons)\n",
    "\n",
    "T = 40      # Total hours available (per week)"
   ]
  },
  {
   "cell_type": "markdown",
   "metadata": {
    "id": "pZ9IZrCeGcd-"
   },
   "source": [
    "### 2.1.3 Define the model entities\n",
    "To build the Linear Programming model with Gurobi, we need first to import the gurobi library:"
   ]
  },
  {
   "cell_type": "code",
   "execution_count": 2,
   "metadata": {
    "id": "gxEhdXqfGdj2"
   },
   "outputs": [],
   "source": [
    "from gurobipy import Model, GRB"
   ]
  },
  {
   "cell_type": "markdown",
   "metadata": {
    "id": "GNKUvEMsGhxe"
   },
   "source": [
    "At this point, we first declare a global object that refer to our model, creating an instance of the class [Model](https://docs.gurobi.com/projects/optimizer/en/current/reference/python/model.html#Model):"
   ]
  },
  {
   "cell_type": "code",
   "execution_count": 3,
   "metadata": {
    "id": "vgLprSX3GkL3"
   },
   "outputs": [
    {
     "name": "stdout",
     "output_type": "stream",
     "text": [
      "Set parameter Username\n",
      "Academic license - for non-commercial use only - expires 2025-01-16\n"
     ]
    }
   ],
   "source": [
    "model = Model()"
   ]
  },
  {
   "cell_type": "markdown",
   "metadata": {
    "id": "hLgR7y-sGq9v"
   },
   "source": [
    "Notice the `Model` is a python class, and we are initializing an object called `model` of type `Model`.\n",
    "\n",
    "Then, we declare the two nonnegative variables, along with their cost coefficients and type, using the [model.addVar](https://docs.gurobi.com/projects/optimizer/en/current/reference/python/model.html#Model.addVar) method:"
   ]
  },
  {
   "cell_type": "code",
   "execution_count": 4,
   "metadata": {
    "id": "SRgypxTdGmsm"
   },
   "outputs": [],
   "source": [
    "# Declare the decision variables\n",
    "xB = model.addVar(lb=0, ub=dB, obj=pB, vtype=GRB.CONTINUOUS, name='xB')\n",
    "xC = model.addVar(lb=0, ub=dC, obj=pC, vtype=GRB.CONTINUOUS, name='xC')"
   ]
  },
  {
   "cell_type": "markdown",
   "metadata": {
    "id": "u_M2RhtnGwYW"
   },
   "source": [
    "Here, we add variable `xB` and `xC` to the model. The two variables are of type `GRB.CONTINUOUS`, and, we are declaring the two variables $0 \\leq x_B \\leq U_B$, $0 \\leq x_C \\leq U_c$. The cost coefficients are `pB` and `pC`."
   ]
  },
  {
   "cell_type": "markdown",
   "metadata": {},
   "source": [
    "We need to specify a direction for the objective function: min or max"
   ]
  },
  {
   "cell_type": "code",
   "execution_count": 5,
   "metadata": {},
   "outputs": [],
   "source": [
    "model.ModelSense = GRB.MAXIMIZE"
   ]
  },
  {
   "cell_type": "markdown",
   "metadata": {
    "id": "EQjDJxpJHJTy"
   },
   "source": [
    "Next step is to introduce the linear constraint using the [model.addConstr](https://docs.gurobi.com/projects/optimizer/en/current/reference/python/model.html#Model.addConstr) method:"
   ]
  },
  {
   "cell_type": "code",
   "execution_count": 6,
   "metadata": {
    "id": "nAldRbEBHIZx"
   },
   "outputs": [
    {
     "data": {
      "text/plain": [
       "<gurobi.Constr *Awaiting Model Update*>"
      ]
     },
     "execution_count": 6,
     "metadata": {},
     "output_type": "execute_result"
    }
   ],
   "source": [
    "# Declare constraints\n",
    "model.addConstr(1/rB * xB + 1/rC * xC <= T)"
   ]
  },
  {
   "cell_type": "code",
   "execution_count": 7,
   "metadata": {},
   "outputs": [],
   "source": [
    "# To finalize the model call:\n",
    "model.update()"
   ]
  },
  {
   "cell_type": "markdown",
   "metadata": {
    "id": "U0fJL3NPHQ9-"
   },
   "source": [
    "Notice that we are **declaring** the model, without programming any algorithm to actually solve this model. To find the optimal solution of this LP."
   ]
  },
  {
   "cell_type": "markdown",
   "metadata": {
    "id": "fR9OySW6HUr_"
   },
   "source": [
    "### 2.1.4 Solve the model\n",
    "We have use the gurobi python library to *declare* our Linear Programming model. Next, we use the gurobi solver actually find the optimal values for the decision variables."
   ]
  },
  {
   "cell_type": "code",
   "execution_count": 8,
   "metadata": {
    "id": "wz51AiIhHYhp"
   },
   "outputs": [
    {
     "name": "stdout",
     "output_type": "stream",
     "text": [
      "Gurobi Optimizer version 10.0.3 build v10.0.3rc0 (mac64[arm])\n",
      "\n",
      "CPU model: Apple M2\n",
      "Thread count: 8 physical cores, 8 logical processors, using up to 8 threads\n",
      "\n",
      "Optimize a model with 1 rows, 2 columns and 2 nonzeros\n",
      "Model fingerprint: 0x9c2d724e\n",
      "Coefficient statistics:\n",
      "  Matrix range     [5e-03, 7e-03]\n",
      "  Objective range  [2e+01, 3e+01]\n",
      "  Bounds range     [4e+03, 6e+03]\n",
      "  RHS range        [4e+01, 4e+01]\n",
      "Presolve time: 0.00s\n",
      "Presolved: 1 rows, 2 columns, 2 nonzeros\n",
      "\n",
      "Iteration    Objective       Primal Inf.    Dual Inf.      Time\n",
      "       0    2.0000000e+05   1.250000e+02   0.000000e+00      0s\n",
      "       1    1.9200000e+05   0.000000e+00   0.000000e+00      0s\n",
      "\n",
      "Solved in 1 iterations and 0.01 seconds (0.00 work units)\n",
      "Optimal objective  1.920000000e+05\n"
     ]
    }
   ],
   "source": [
    "# Solver call\n",
    "model.optimize()"
   ]
  },
  {
   "cell_type": "markdown",
   "metadata": {
    "id": "PuQq9-VfHaPP"
   },
   "source": [
    "Every time we invoke a solver, it is very good practice to check the status of the solver, since it may have stop its execution for several different reasons:"
   ]
  },
  {
   "cell_type": "code",
   "execution_count": 9,
   "metadata": {
    "id": "zw9fQ0svHcQW"
   },
   "outputs": [
    {
     "name": "stdout",
     "output_type": "stream",
     "text": [
      "Status: 2, ObjVal: 192000.0\n"
     ]
    }
   ],
   "source": [
    "# Basic info about the solution process\n",
    "print(f\"Status: {model.Status}, ObjVal: {model.ObjVal}\")"
   ]
  },
  {
   "cell_type": "markdown",
   "metadata": {},
   "source": [
    "Be aware of the meaning of the different status code, by checking the [Optimization Status Code](https://docs.gurobi.com/projects/optimizer/en/current/reference/numericcodes/statuscodes.html#optimization-status-codes)."
   ]
  },
  {
   "cell_type": "markdown",
   "metadata": {
    "id": "XvFjqvAMHdon"
   },
   "source": [
    "Whenever the status of the solver is `2=OPTIMAL`, you can query the solver to get the values of the decision variables."
   ]
  },
  {
   "cell_type": "code",
   "execution_count": 10,
   "metadata": {
    "id": "8Vdz32nFHfr_"
   },
   "outputs": [
    {
     "name": "stdout",
     "output_type": "stream",
     "text": [
      "Decision variables:\n",
      "\tProduction of bands: 6000.0\n",
      "\tProduction of coils: 1400.0\n"
     ]
    }
   ],
   "source": [
    "# Report solution value\n",
    "print(\"Decision variables:\")\n",
    "print(\"\\tProduction of bands:\", xB.X)\n",
    "print(\"\\tProduction of coils:\", xC.X)"
   ]
  },
  {
   "cell_type": "markdown",
   "metadata": {},
   "source": [
    "**REMARK:** To check the problem actually solved by Gurobi the standard LP format, you can write the following command:"
   ]
  },
  {
   "cell_type": "code",
   "execution_count": null,
   "metadata": {},
   "outputs": [],
   "source": [
    "model.write('production.lp')"
   ]
  },
  {
   "cell_type": "markdown",
   "metadata": {},
   "source": [
    "To check where the file is written:"
   ]
  },
  {
   "cell_type": "code",
   "execution_count": null,
   "metadata": {},
   "outputs": [],
   "source": [
    "!ls"
   ]
  },
  {
   "cell_type": "markdown",
   "metadata": {
    "id": "_6cP1lB0Hkwu"
   },
   "source": [
    "### 2.1.5 Complete Script\n",
    "We report below the complete script."
   ]
  },
  {
   "cell_type": "code",
   "execution_count": 12,
   "metadata": {
    "id": "xGeEEk2eHikm"
   },
   "outputs": [
    {
     "name": "stdout",
     "output_type": "stream",
     "text": [
      "Gurobi Optimizer version 10.0.3 build v10.0.3rc0 (mac64[arm])\n",
      "\n",
      "CPU model: Apple M2\n",
      "Thread count: 8 physical cores, 8 logical processors, using up to 8 threads\n",
      "\n",
      "Optimize a model with 1 rows, 2 columns and 2 nonzeros\n",
      "Model fingerprint: 0xb536d1b6\n",
      "Coefficient statistics:\n",
      "  Matrix range     [5e-03, 7e-03]\n",
      "  Objective range  [2e+01, 3e+01]\n",
      "  Bounds range     [4e+03, 6e+03]\n",
      "  RHS range        [4e+01, 4e+01]\n",
      "Presolve removed 1 rows and 2 columns\n",
      "Presolve time: 0.00s\n",
      "Presolve: All rows and columns removed\n",
      "Iteration    Objective       Primal Inf.    Dual Inf.      Time\n",
      "       0    0.0000000e+00   0.000000e+00   0.000000e+00      0s\n",
      "\n",
      "Solved in 0 iterations and 0.00 seconds (0.00 work units)\n",
      "Optimal objective  0.000000000e+00\n",
      "Status: 2, ObjVal: 0.0\n",
      "Decision variables:\n",
      "\tProduction of bands: 0.0\n",
      "\tProduction of coils: 0.0\n"
     ]
    }
   ],
   "source": [
    "# Import the library\n",
    "from gurobipy import Model, GRB\n",
    "\n",
    "# Create an instance of the model object\n",
    "model = Model()\n",
    "\n",
    "# Declare the decision variables\n",
    "xB = model.addVar(lb=0, ub=dB, obj=pB, vtype=GRB.CONTINUOUS, name='xB')\n",
    "xC = model.addVar(lb=0, ub=dC, obj=pC, vtype=GRB.CONTINUOUS, name='xC')\n",
    "\n",
    "# Specify the objective function direction\n",
    "model.ModelSense = GRB.MINIMIZE\n",
    "\n",
    "# Declare the single linear constraint\n",
    "model.addConstr(1/rB * xB + 1/rC * xC <= T)\n",
    "\n",
    "# Solver call\n",
    "model.optimize()\n",
    "\n",
    "# Basic info about the solution process\n",
    "print(f\"Status: {model.Status}, ObjVal: {model.ObjVal}\")\n",
    "\n",
    "# Report value of the decision variables\n",
    "print(\"Decision variables:\")\n",
    "print(\"\\tProduction of bands:\", xB.X)\n",
    "print(\"\\tProduction of coils:\", xC.X)"
   ]
  },
  {
   "cell_type": "code",
   "execution_count": null,
   "metadata": {},
   "outputs": [],
   "source": []
  }
 ],
 "metadata": {
  "colab": {
   "name": "SteelPlanning.ipynb",
   "provenance": []
  },
  "kernelspec": {
   "display_name": "Python 3.11.2 64-bit",
   "language": "python",
   "name": "python3"
  },
  "language_info": {
   "codemirror_mode": {
    "name": "ipython",
    "version": 3
   },
   "file_extension": ".py",
   "mimetype": "text/x-python",
   "name": "python",
   "nbconvert_exporter": "python",
   "pygments_lexer": "ipython3",
   "version": "3.11.5"
  },
  "vscode": {
   "interpreter": {
    "hash": "b0fa6594d8f4cbf19f97940f81e996739fb7646882a419484c72d19e05852a7e"
   }
  }
 },
 "nbformat": 4,
 "nbformat_minor": 1
}

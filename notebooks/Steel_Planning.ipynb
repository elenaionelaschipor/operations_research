{
  "nbformat": 4,
  "nbformat_minor": 0,
  "metadata": {
    "colab": {
      "name": "SteelPlanning.ipynb",
      "provenance": []
    },
    "kernelspec": {
      "name": "python3",
      "display_name": "Python 3"
    },
    "language_info": {
      "name": "python"
    }
  },
  "cells": [
    {
      "cell_type": "markdown",
      "source": [
        "<a rel=\"license\" href=\"http://creativecommons.org/licenses/by/4.0/\"><img alt=\"Creative Commons License\" style=\"border-width:0\" src=\"https://i.creativecommons.org/l/by/4.0/88x31.png\" /></a><br /><span xmlns:dct=\"http://purl.org/dc/terms/\" property=\"dct:title\"><b>Solving the Lego Planning Problem with Pyomo and Glpk</b></span> by <a xmlns:cc=\"http://creativecommons.org/ns#\" href=\"http://mate.unipv.it/gualandi\" property=\"cc:attributionName\" rel=\"cc:attributionURL\">Stefano Gualandi</a> is licensed under a <a rel=\"license\" href=\"http://creativecommons.org/licenses/by/4.0/\">Creative Commons Attribution 4.0 International License</a>. Based on a project at <a xmlns:dct=\"http://purl.org/dc/terms/\" href=\"https://github.com/mathcoding/opt4ds\" rel=\"dct:source\">https://github.com/mathcoding/opt4ds</a>."
      ],
      "metadata": {
        "id": "fXY5FGiTFv1o"
      }
    },
    {
      "cell_type": "markdown",
      "source": [
        "# 3. Solving the Steel Production Planning Problem\n",
        "\n",
        "In this notebook, we explain how to solve **Linear Programming** problem that we have written to model the Steel Planning problem (see the slides on KIRO):\n",
        "\n",
        "$$\n",
        "\\begin{align}\n",
        "\\max \\quad & p_B x_B + p_C x_C  \\\\\n",
        "\\mbox{s.t. } \\quad & \\frac{x_B}{r_B} + \\frac{x_C}{r_C} \\leq T \\\\\n",
        "& x_B \\geq 0\\\\\n",
        "& x_C \\geq 0\n",
        "\\end{align}\n",
        "$$\n",
        "\n",
        "We show below how to use Pyomo to define the **variables**, the **objective function**, and the **constraints**.\n",
        "\n",
        "First, we need to install the [Pyomo](http://www.pyomo.org/) modeling language and the [GLPK](https://www.gnu.org/software/glpk/) open source solver, as explained in the following section."
      ],
      "metadata": {
        "id": "Vd4RI1kPF10v"
      }
    },
    {
      "cell_type": "markdown",
      "source": [
        "## 3.1 Software Installation\n",
        "If you are running this notebook in a Colab, you don't need to install anything else on your computer.\n",
        "\n",
        "Otherwise, if you have installed the recommended Anaconda Python distribution, you have to run the following two commands:\n",
        "\n",
        "1. To install the [Pyomo](http://www.pyomo.org/) optimization modeling language:\n",
        "\n",
        "```\n",
        "conda install -c conda-forge pyomo\n",
        "```\n",
        "\n",
        "2. To install the open source [GLPK](https://www.gnu.org/software/glpk/) solver:\n",
        "\n",
        "```\n",
        "conda install -c conda-forge glpk\n",
        "```\n",
        "\n",
        "3. (Optional) You can install some extra packages of Pyomo using the following command:\n",
        "\n",
        "```\n",
        "conda install -c conda-forge pyomo.extras\n",
        "```\n",
        "\n",
        "For details about the Pyomo installation, we refer to the official [Pyomo Documentation](https://pyomo.readthedocs.io/en/stable/)."
      ],
      "metadata": {
        "id": "xgVUJbVKGNJQ"
      }
    },
    {
      "cell_type": "markdown",
      "source": [
        "The following lines are for running this notebook in a Google Colab:"
      ],
      "metadata": {
        "id": "ZAMqGdVBGV2v"
      }
    },
    {
      "cell_type": "code",
      "source": [
        "import shutil\n",
        "import sys\n",
        "import os.path\n",
        "\n",
        "if not shutil.which(\"pyomo\"):\n",
        "    !pip install -q pyomo\n",
        "    assert(shutil.which(\"pyomo\"))\n",
        "\n",
        "if not (shutil.which(\"glpk\") or os.path.isfile(\"glpk\")):\n",
        "    if \"google.colab\" in sys.modules:\n",
        "        !apt-get install -y -qq glpk-utils\n",
        "    else:\n",
        "        try:\n",
        "            !conda install -c conda-forge glpk \n",
        "        except:\n",
        "            pass"
      ],
      "metadata": {
        "id": "0pJrVOxmGJew"
      },
      "execution_count": null,
      "outputs": []
    },
    {
      "cell_type": "markdown",
      "source": [
        "## 3.2 Define the data\n",
        "First, we need to define the data of our instance (this may change, but the model stay the same):"
      ],
      "metadata": {
        "id": "f_xjhutGIAsY"
      }
    },
    {
      "cell_type": "code",
      "source": [
        "# Data\n",
        "pB = 25\n",
        "pC = 30\n",
        "\n",
        "rB = 200\n",
        "rC = 140\n",
        "\n",
        "dB = 6000\n",
        "dC = 4000\n",
        "\n",
        "T = 40"
      ],
      "metadata": {
        "id": "8ZrGKfhhII5o"
      },
      "execution_count": null,
      "outputs": []
    },
    {
      "cell_type": "markdown",
      "source": [
        "## 3.3 Define the model entities\n",
        "To build the Linear Programming model with Pyomo, we need first to import the Pyomo library:"
      ],
      "metadata": {
        "id": "pZ9IZrCeGcd-"
      }
    },
    {
      "cell_type": "code",
      "source": [
        "from pyomo.environ import *"
      ],
      "metadata": {
        "id": "gxEhdXqfGdj2"
      },
      "execution_count": null,
      "outputs": []
    },
    {
      "cell_type": "markdown",
      "source": [
        "At this point, we first declare a global object that refer to our model:"
      ],
      "metadata": {
        "id": "GNKUvEMsGhxe"
      }
    },
    {
      "cell_type": "code",
      "source": [
        "model = ConcreteModel()"
      ],
      "metadata": {
        "id": "vgLprSX3GkL3"
      },
      "execution_count": null,
      "outputs": []
    },
    {
      "cell_type": "markdown",
      "source": [
        "Notice the `ConcreteModel` is a python class, and we are initializing an object called `model` of type `ConcreteModel`.\n",
        "\n",
        "Then we star by declaring the two non/negative variables:"
      ],
      "metadata": {
        "id": "hLgR7y-sGq9v"
      }
    },
    {
      "cell_type": "code",
      "source": [
        "# Declare decision variables\n",
        "model.xB = Var(domain=NonNegativeReals, bounds=(0,dB))\n",
        "model.xC = Var(domain=NonNegativeReals, bounds=(0,dC))"
      ],
      "metadata": {
        "id": "SRgypxTdGmsm"
      },
      "execution_count": null,
      "outputs": []
    },
    {
      "cell_type": "markdown",
      "source": [
        "Here, we add variable `xB` and `xC` to the model. The two variables are of type `Var`, and we are passing as input to the constructor the parameter `NonNegativeReals`. That is, we are declaring the two variables $x_B \\geq 0, x_C \\geq 0$."
      ],
      "metadata": {
        "id": "u_M2RhtnGwYW"
      }
    },
    {
      "cell_type": "markdown",
      "source": [
        "Next, we declare the objective function."
      ],
      "metadata": {
        "id": "tSwBLGUuG6bv"
      }
    },
    {
      "cell_type": "code",
      "source": [
        "# Declare objective\n",
        "model.cost = Objective(\n",
        "    expr = pB*model.xB + pC*model.xC,\n",
        "    sense = maximize)"
      ],
      "metadata": {
        "id": "dEGM4JJCG5Vu"
      },
      "execution_count": null,
      "outputs": []
    },
    {
      "cell_type": "markdown",
      "source": [
        "In this case, we are adding the variable `cost`  to our model, that is an instance of an object of type `Objective`. The constructor is called with a linear expression `pB*xB + pC*xC`, and we denote the sense of the objective function as `maximize`."
      ],
      "metadata": {
        "id": "xt3wAU9OG_CP"
      }
    },
    {
      "cell_type": "markdown",
      "source": [
        "Next step is to introduce the a linear constraint:"
      ],
      "metadata": {
        "id": "EQjDJxpJHJTy"
      }
    },
    {
      "cell_type": "code",
      "source": [
        "# Declare constraints\n",
        "model.cnstr1 = Constraint(expr = 1/rB*model.xB + 1/rC*model.xC <= T)"
      ],
      "metadata": {
        "id": "nAldRbEBHIZx"
      },
      "execution_count": null,
      "outputs": []
    },
    {
      "cell_type": "markdown",
      "source": [
        "We have used here a third type of objects, namely the `Constraint` class, giving in input the two linear relation.\n",
        "\n",
        "Notice that we are **declaring** the model, without programming any algorithm to actually solve this model. To find the optimal solution of this LP, we are going to use the Integer Linear Programming solver GLPK."
      ],
      "metadata": {
        "id": "U0fJL3NPHQ9-"
      }
    },
    {
      "cell_type": "markdown",
      "source": [
        "## 3.4 Solve the model\n",
        "We have use the type of objects of the Pyomo library to *declare* our Linear Programming model. Next, we have to use a solver to find the optima value for the decision variables.\n",
        "\n",
        "With Pyomo, we are not constrained to use a specific solver. In this notebook, for the sake of simplicity, we use the GLPK solver as follows, where we set the parameter `tee=True`, in order to see the logs produced by the solver."
      ],
      "metadata": {
        "id": "fR9OySW6HUr_"
      }
    },
    {
      "cell_type": "code",
      "source": [
        "# Solve the LP model\n",
        "sol = SolverFactory('glpk').solve(model, tee=True)"
      ],
      "metadata": {
        "id": "wz51AiIhHYhp"
      },
      "execution_count": null,
      "outputs": []
    },
    {
      "cell_type": "markdown",
      "source": [
        "Every time we invoke a solver, it is very good practice to check the status of the solver, since it may have stop its execution for several different reasons:"
      ],
      "metadata": {
        "id": "PuQq9-VfHaPP"
      }
    },
    {
      "cell_type": "code",
      "source": [
        "# Basic info about the solution process\n",
        "for info in sol['Solver']:\n",
        "    print(info)"
      ],
      "metadata": {
        "id": "zw9fQ0svHcQW"
      },
      "execution_count": null,
      "outputs": []
    },
    {
      "cell_type": "markdown",
      "source": [
        "Whenever the status of the solver is OK, we can query the solver to get the optimal value of the objective function and of the decision variables."
      ],
      "metadata": {
        "id": "XvFjqvAMHdon"
      }
    },
    {
      "cell_type": "code",
      "source": [
        "# Report solution value\n",
        "print(\"Optimal solution value: z =\", model.cost())\n",
        "print(\"Decision variables:\")\n",
        "print(\"\\tProduction of bands:\", model.xB())\n",
        "print(\"\\tProduction of coils:\", model.xC())"
      ],
      "metadata": {
        "id": "8Vdz32nFHfr_"
      },
      "execution_count": null,
      "outputs": []
    },
    {
      "cell_type": "markdown",
      "source": [
        "## 3.5 Complete Script\n",
        "We report below the complete script."
      ],
      "metadata": {
        "id": "_6cP1lB0Hkwu"
      }
    },
    {
      "cell_type": "code",
      "source": [
        "from pyomo.environ import ConcreteModel, Var, Objective, Constraint, SolverFactory, NonNegativeReals, maximize\n",
        "\n",
        "model = ConcreteModel()\n",
        "\n",
        "# Homework. Data\n",
        "pB = 25\n",
        "pC = 30\n",
        "\n",
        "rB = 200\n",
        "rC = 140\n",
        "\n",
        "dB = 6000\n",
        "dC = 4000\n",
        "\n",
        "T = 40\n",
        "\n",
        "# Declare decision variables\n",
        "model.xB = Var(domain=NonNegativeReals, bounds=(0,dB))\n",
        "model.xC = Var(domain=NonNegativeReals, bounds=(0,dC))\n",
        "\n",
        "# Declare objective\n",
        "model.cost = Objective(\n",
        "    expr = pB*model.xB + pC*model.xC,\n",
        "    sense = maximize)\n",
        "\n",
        "# Declare constraints\n",
        "model.cnstr1 = Constraint(expr = 1/rB*model.xB + 1/rC*model.xC <= T)\n",
        "\n",
        "# Solve\n",
        "sol = SolverFactory('glpk').solve(model, tee=True)\n",
        "\n",
        "# Basic info about the solution process\n",
        "for info in sol['Solver']:\n",
        "    print(info)\n",
        "    \n",
        "# Report solution value\n",
        "print(\"Optimal solution value: z =\", model.cost())\n",
        "print(\"Decision variables:\")\n",
        "print(\"\\tProduction of bands:\", model.xB())\n",
        "print(\"\\tProduction of coils:\", model.xC())\n"
      ],
      "metadata": {
        "id": "xGeEEk2eHikm"
      },
      "execution_count": null,
      "outputs": []
    }
  ]
}
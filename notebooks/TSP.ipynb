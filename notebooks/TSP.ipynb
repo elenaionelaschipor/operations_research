{
 "cells": [
  {
   "cell_type": "markdown",
   "metadata": {},
   "source": [
    "<a rel=\"license\" href=\"http://creativecommons.org/licenses/by/4.0/\"><img alt=\"Creative Commons License\" style=\"border-width:0\" src=\"https://i.creativecommons.org/l/by/4.0/88x31.png\" /></a><br /><span xmlns:dct=\"http://purl.org/dc/terms/\" property=\"dct:title\"><b>Traveling Student Problem</b></span> by <a xmlns:cc=\"http://creativecommons.org/ns#\" href=\"http://mate.unipv.it/gualandi\" property=\"cc:attributionName\" rel=\"cc:attributionURL\">Stefano Gualandi</a> is licensed under a <a rel=\"license\" href=\"http://creativecommons.org/licenses/by/4.0/\">Creative Commons Attribution 4.0 International License</a>.<br />Based on a work at <a xmlns:dct=\"http://purl.org/dc/terms/\" href=\"https://github.com/mathcoding/opt4ds\" rel=\"dct:source\">https://github.com/mathcoding/opt4ds</a>."
   ]
  },
  {
   "cell_type": "markdown",
   "metadata": {},
   "source": [
    "**NOTE:** Run the following script whenever running this script on a Google Colab."
   ]
  },
  {
   "cell_type": "code",
   "execution_count": null,
   "metadata": {},
   "outputs": [],
   "source": [
    "import shutil\n",
    "import sys\n",
    "import os.path\n",
    "\n",
    "if not shutil.which(\"pyomo\"):\n",
    "    !pip install -q pyomo\n",
    "    assert(shutil.which(\"pyomo\"))\n",
    "\n",
    "if not (shutil.which(\"glpk\") or os.path.isfile(\"glpk\")):\n",
    "    if \"google.colab\" in sys.modules:\n",
    "        !apt-get install -y -qq glpk-utils\n",
    "    else:\n",
    "        try:\n",
    "            !conda install -c conda-forge glpk \n",
    "        except:\n",
    "            pass"
   ]
  },
  {
   "cell_type": "markdown",
   "metadata": {},
   "source": [
    "# 8. The Traveling Student Problem\n",
    "In this lab session, you have to model and solve the **Traveling Student Problem (TSP)** by using **Integer Linear Programming**.\n",
    "\n",
    "The TSP problem is defined as follows. You are given a set of $n$ university residences where a *matricola* (freshman) must go to sell the tickets for her/his college spring-party. The position of each residence is given by the geographic coordinates: in this exercise, the coordinates are points in an Euclidean plane. The distance $d_{ij}$ between any pair of residence is equal to the Euclidean distance between the corresponding pair of points.\n",
    "\n",
    "The TSP problem is to find the shortest cycle among all the residences (starting from the student residence and ending in the same residence) that minimizes the overall travelled distance.\n",
    "\n",
    "**NOTE:** For a more formal definition of the **Travelling Salesman Problem** see the course slides, or visit [Bill's Cook homepage for Concorde](https://www.math.uwaterloo.ca/tsp/concorde.html). Or, even better, you can look at this two lectures:\n",
    "\n",
    "* [Math Encounters: \"Optimal Tours: The Traveling Salesman Problem\" with Bill Cook on August 4, 2021](https://www.youtube.com/watch?v=tChnXG6ulyE)\n",
    "* [The Traveling Salesman Problem: Postcards from the Edge of Impossibility](https://www.youtube.com/watch?v=5VjphFYQKj8)"
   ]
  },
  {
   "cell_type": "markdown",
   "metadata": {},
   "source": [
    "## 8.1 Helper functions\n",
    "To facilitate the modeling activity, the following functions are provided with this notebook:\n",
    "\n",
    "1. A function `BuildDiGraph` to compute the distance between a pair of points, return a distance matrix.\n",
    "\n",
    "2. Two parse functions `BuildDiGraph` and `BuildGraph` to build a graph from a matrix of distances. The first function build a directed graph, the second an undirected graph (for symmetric TSP). In general the instances of the TSP are given in the [TSPLIB format](https://www.math.uwaterloo.ca/tsp/concorde.html).\n",
    "\n",
    "\n",
    "3. A function to plot a solution. You can use this function *manually* to visualize possible simple solutions. The `PlotTour(Ps, Ls, values)` takes in input a list of coordinates `Ps` of the residences (the first point is always the depot), a list of arcs in the solution `Ls`, and a list of values for each possible arc `values` so that you can plot also fractional solutions.\n",
    "\n",
    "Those functions are written below."
   ]
  },
  {
   "cell_type": "code",
   "execution_count": null,
   "metadata": {},
   "outputs": [],
   "source": [
    "# Import the Numerical Python library\n",
    "import numpy as np\n",
    "from math import sqrt\n",
    "\n",
    "def CostMatrix(Ls):\n",
    "    n = len(Ls)\n",
    "    C = 100000*np.ones((n,n))\n",
    "    for i, (a,b) in enumerate(Ls):\n",
    "        for j, (c,d) in enumerate(Ls[i+1:]):\n",
    "            C[i, i+j+1] = sqrt((a-c)**2 + (b-d)**2)\n",
    "            C[i+j+1, i] = C[i, i+j+1]\n",
    "            \n",
    "    return C"
   ]
  },
  {
   "cell_type": "code",
   "execution_count": null,
   "metadata": {},
   "outputs": [],
   "source": [
    "# Import the NetworkX library\n",
    "import networkx as nx\n",
    "\n",
    "def BuildDiGraph(C):\n",
    "    # Build a directed graph out of the data\n",
    "    G = nx.DiGraph()\n",
    "    \n",
    "    n,n = C.shape\n",
    "    for i in range(n):\n",
    "        for j in range(n):\n",
    "            if i != j:\n",
    "                G.add_edge(i, j, weight=C[i,j])\n",
    "\n",
    "    return G\n",
    "\n",
    "def BuildGraph(C):\n",
    "    # Build an undirected graph out of the data\n",
    "    G = nx.Graph()\n",
    "    \n",
    "    n,n = C.shape\n",
    "    for i in range(n):\n",
    "        for j in range(n):\n",
    "            if i < j:\n",
    "                G.add_edge(i, j, weight=C[i,j])\n",
    "\n",
    "    return G"
   ]
  },
  {
   "cell_type": "code",
   "execution_count": null,
   "metadata": {},
   "outputs": [],
   "source": [
    "import pylab as pl\n",
    "from matplotlib import collections as mc\n",
    "\n",
    "def PlotTour(Ps, Ls, values):\n",
    "    lines = [[Ps[i], Ps[j]] for i,j in Ls]\n",
    "    fig, ax = pl.subplots()\n",
    "\n",
    "    lc = mc.LineCollection(lines, linewidths=[1.5 if x > 0.501 else 1 for x in values],\n",
    "                           colors=['blue' if x > 0.501 else 'orange' for x in values])\n",
    "    \n",
    "    ax.add_collection(lc)\n",
    "    ax.scatter([i for i,j in Ps], [j for i,j in Ps], \n",
    "                s=20, alpha=0.8, color='red')\n",
    "    \n",
    "    ax.autoscale()\n",
    "    ax.margins(0.1)\n",
    "    ax.axis('equal')\n",
    "    pl.show()\n"
   ]
  },
  {
   "cell_type": "markdown",
   "metadata": {},
   "source": [
    "Given the following list of university residences in Pavia, you can use the previous function in the following way."
   ]
  },
  {
   "cell_type": "code",
   "execution_count": null,
   "metadata": {},
   "outputs": [],
   "source": [
    "# Residenza Collegiali a Pavia\n",
    "Rs = [(45.1882789,9.1600456, 'Del Maino', 0),\n",
    "      (45.1961107,9.1395709, 'Golgi', 1), (45.1851618,9.1506323, 'Senatore', 2),\n",
    "      (45.1806049,9.1691651, 'Don Bosco', 3), (45.1857651,9.1473637, 'CSA', 4),\n",
    "      (45.1802511,9.1591663, 'Borromeo', 5), (45.1877192,9.1578934, 'Cairoli', 6),\n",
    "      (45.1870975,9.1588276, 'Castiglioni', 7), (45.1871301,9.1435067, 'Santa Caterina', 8),\n",
    "      (45.1863927,9.15947, 'Ghislieri', 9), (45.2007148,9.1325475, 'Nuovo', 10),\n",
    "      (45.1787292,9.1635482, 'Cardano', 11), (45.1864928,9.1560687, 'Fraccaro', 12),\n",
    "      (45.1989668,9.1775168, 'Griziotti', 13), (45.1838819,9.161318, 'Spallanzani', 14),\n",
    "      (45.1823523,9.1454315, 'Valla', 15), (45.2007816,9.1341354, 'Volta', 16),\n",
    "      (45.2070857,9.1382623, 'Residenza Biomedica', 17)]"
   ]
  },
  {
   "cell_type": "code",
   "execution_count": null,
   "metadata": {},
   "outputs": [],
   "source": [
    "Ps = [(x,y) for x,y,_ in Rs]\n",
    "C = CostMatrix(Ps)\n",
    "G = BuildDiGraph(C)\n",
    "\n",
    "# Build a \"drunk\"-random tour\n",
    "n = len(Ps)\n",
    "values = [1 for _ in range(n)]\n",
    "\n",
    "if True:\n",
    "    RandomTour = [(i, (i+1)%n) for i in range(n)]\n",
    "    PlotTour(Ps, RandomTour, values)\n",
    "else:\n",
    "    ManualTour = [(0,17), (17, 16), (16,10), (10, 15), (15, 0)]\n",
    "    PlotTour(Ps, ManualTour, values)"
   ]
  },
  {
   "cell_type": "markdown",
   "metadata": {},
   "source": [
    "## 8.2 Exercise: Design and solve your model\n",
    "First, try to solve the problem by *paper-and-pencil*, using the graphical tool.\n",
    "\n",
    "Second, write your model by deciding in order:\n",
    "\n",
    "1. The decision variables.\n",
    "2. The objective function.\n",
    "3. The constraints.\n",
    "\n",
    "Regarding the constraints, you could work **incrementally**, by starting with a subset of the constraints, and then by refining your model with additional constraints. "
   ]
  },
  {
   "cell_type": "code",
   "execution_count": null,
   "metadata": {},
   "outputs": [],
   "source": [
    "# Exercise: write a function to check the feasibility of your solution\n",
    "def CheckFeasibility(sol):\n",
    "    # TODO: complete this function\n",
    "    return True\n",
    "\n",
    "# TODO: complete the following script with your solution\n",
    "def SolveTSP(G, TIME_LIMIT=60):\n",
    "    # TODO: WRITE YOUR PYOMO MODEL\n",
    "    # ....\n",
    "    \n",
    "    \n",
    "    \n",
    "    # 5. Solution\n",
    "    # Solve the model\n",
    "    SOLVER_NAME = 'gurobi'\n",
    "    # SOLVER_NAME = 'glpk'\n",
    "    \n",
    "    solver = SolverFactory(SOLVER_NAME)\n",
    "    \n",
    "    if SOLVER_NAME == 'glpk':         \n",
    "        solver.options['tmlim'] = TIME_LIMIT\n",
    "    elif SOLVER_NAME == 'gurobi':           \n",
    "        solver.options['TimeLimit'] = TIME_LIMIT\n",
    "\n",
    "    # Plot partial solution\n",
    "    selected = []\n",
    "    values = []\n",
    "    for i,j in m.A:\n",
    "        if m.x[i,j]() > 0:\n",
    "            selected.append( (i-1, j-1) )\n",
    "            values.append(m.x[i,j]())\n",
    "    \n",
    "    PlotTour(Ls, selected, values) \n",
    "                        \n",
    "    # Return objective value and selected arcs\n",
    "    return m.obj(), selected"
   ]
  },
  {
   "cell_type": "markdown",
   "metadata": {},
   "source": [
    "To solve the spring-party problem, you can execute the following commands (after having written your full model)."
   ]
  },
  {
   "cell_type": "code",
   "execution_count": null,
   "metadata": {},
   "outputs": [],
   "source": [
    "Test = 2\n",
    "\n",
    "# Compute Cost Matrix\n",
    "Ls = [(b,a) for a,b,_ in Rs]\n",
    "\n",
    "# Compute cost matrix\n",
    "C = CostMatrix(Ls)\n",
    "\n",
    "G = BuildDiGraph(C)\n",
    "z_lp, tour = SolveTSP(G)"
   ]
  },
  {
   "cell_type": "markdown",
   "metadata": {},
   "source": [
    "## 7.3 Solving Ulysses and other instances\n",
    "You can try your model using other TSP instances:\n",
    "\n",
    "1. The Ulysses epic travel. Read about the mathematical implications [Groetschel's paper \"Optimized Odyssey\"](https://www.zib.de/groetschel/pubnew/paper/groetschelpadberg2001a.pdf).\n",
    "\n",
    "2. The October Fest from Monaco.\n",
    "\n",
    "3. A random (easy instance) of points in the plane.\n",
    "\n",
    "You find the data instance defined below as a list of points."
   ]
  },
  {
   "cell_type": "code",
   "execution_count": null,
   "metadata": {},
   "outputs": [],
   "source": [
    "# INSTANCES TAKE FROM THE TSPLIB:\n",
    "#   http://elib.zib.de/pub/mp-testdata/tsp/tsplib/tsp/\n",
    "\n",
    "ULYSSES = [(38.24, 20.42), (39.57, 26.15), (40.56, 25.32), (36.26, 23.12),\n",
    "           (33.48, 10.54), (37.56, 12.19), (38.42, 13.11), (37.52, 20.44),\n",
    "           (41.23, 9.10), (41.17, 13.05), (36.08, -5.21), (38.47, 15.13), \n",
    "           (38.15, 15.35), (37.51, 15.17), (35.49, 14.32), (39.36, 19.56)]\n",
    "     \n",
    "BAVIERA = [(1150.0,  1760.0), (630.0,  1660.0),  (40.0,  2090.0),    (750.0,  1100.0), \n",
    "  (1030.0,  2070.0), (1650.0,   650.0), (1490.0,  1630.0),  (790.0,  2260.0),\n",
    "  (710.0,  1310.0),  (840.0,   550.0),  (1170.0,  2300.0),  (970.0,  1340.0),\n",
    "  (510.0,   700.0),  (750.0,   900.0),  (1280.0,  1200.0),  (230.0,   590.0),\n",
    "  (460.0,   860.0),  (1040.0,   950.0), (590.0,  1390.0),   (830.0,  1770.0),\n",
    "  (490.0,   500.0),  (1840.0,  1240.0), (1260.0,  1500.0),  (1280.0,  790.0),\n",
    "  (490.0,  2130.0),  (1460.0,  1420.0), (1260.0,  1910.0),  (360.0,  1980.0),\n",
    "  (750.0,  2030.0)]   "
   ]
  },
  {
   "cell_type": "markdown",
   "metadata": {},
   "source": [
    "For random instances, you can run the following function:"
   ]
  },
  {
   "cell_type": "code",
   "execution_count": null,
   "metadata": {},
   "outputs": [],
   "source": [
    "def RandomTSP(n, _seed=13):\n",
    "    from numpy import random\n",
    "    random.seed(_seed)\n",
    "    return [(x,y) for x,y in zip(random.random(n), random.random(n))]"
   ]
  },
  {
   "cell_type": "markdown",
   "metadata": {},
   "source": [
    "Then, you only need to select the test."
   ]
  },
  {
   "cell_type": "code",
   "execution_count": null,
   "metadata": {},
   "outputs": [],
   "source": [
    "Test = 2\n",
    "\n",
    "# Compute Cost Matrix\n",
    "if Test == 0:\n",
    "    Ls = [(b,a) for a,b,_ in Rs]\n",
    "if Test == 1:\n",
    "    Ls = ULYSSES\n",
    "if Test == 2:\n",
    "    Ls = BAVIERA\n",
    "if Test == 3:\n",
    "    N = 100\n",
    "    Ls = RandomTSP(N)\n",
    "\n",
    "# Compute cost matrix\n",
    "C = CostMatrix(Ls)\n",
    "\n",
    "# Solve problem\n",
    "G = BuildDiGraph(C)\n",
    "z_lp, tour = SolveTSP(G)"
   ]
  },
  {
   "cell_type": "markdown",
   "metadata": {},
   "source": [
    "### 8.3.1 Research Open Question: Develop methods to design small hard instances\n",
    "\n",
    "As a research question, it is important to design small and hard TSP instances, with a large LP optimality gap. Having small instances is important to develop new efficient cutting planes algorithms.\n",
    "\n",
    "For an overview, you can check the preprint: [On the generation of Metric TSP instances with a large integrality gap by branch-and-cut](https://arxiv.org/abs/2109.02454). You can find some small hard instances on this repo [Hard-TSPLIB](https://drive.google.com/drive/folders/1m-8mIS%5C_vlxtqqzotafe6T5cj58s4s6L7?usp=sharing), in TSPLIB format."
   ]
  },
  {
   "cell_type": "markdown",
   "metadata": {},
   "source": [
    "## 8.4 Cutting Planes for Subtour Polytope\n",
    "Can you write a model with an exponential number of subtour elimination constraints which are **separated** dynamically, by solving an auxiliary optimization problem?"
   ]
  },
  {
   "cell_type": "code",
   "execution_count": null,
   "metadata": {},
   "outputs": [],
   "source": [
    "# Write the code for your cutting plane procedure"
   ]
  },
  {
   "cell_type": "markdown",
   "metadata": {},
   "source": [
    "## 8.5 Primal Heuristics\n",
    "\n",
    "To solve an instance to optimality, it is important to find tight lower bounds via strong LP relaxations, and good feasible primal solution to get strong upper bounds.\n",
    "\n",
    "Can you design a primal heuristic algorithm to find primal (feasible) solutions in polynomial time?"
   ]
  },
  {
   "cell_type": "code",
   "execution_count": null,
   "metadata": {},
   "outputs": [],
   "source": [
    "# Write the code for you primal heuristic"
   ]
  }
 ],
 "metadata": {
  "@webio": {
   "lastCommId": null,
   "lastKernelId": null
  },
  "kernelspec": {
   "display_name": "Python 3.11.2 64-bit",
   "language": "python",
   "name": "python3"
  },
  "language_info": {
   "codemirror_mode": {
    "name": "ipython",
    "version": 3
   },
   "file_extension": ".py",
   "mimetype": "text/x-python",
   "name": "python",
   "nbconvert_exporter": "python",
   "pygments_lexer": "ipython3",
   "version": "3.11.2"
  },
  "latex_envs": {
   "LaTeX_envs_menu_present": true,
   "autoclose": false,
   "autocomplete": true,
   "bibliofile": "biblio.bib",
   "cite_by": "apalike",
   "current_citInitial": 1,
   "eqLabelWithNumbers": true,
   "eqNumInitial": 1,
   "hotkeys": {
    "equation": "Ctrl-E",
    "itemize": "Ctrl-I"
   },
   "labels_anchors": false,
   "latex_user_defs": false,
   "report_style_numbering": false,
   "user_envs_cfg": false
  },
  "vscode": {
   "interpreter": {
    "hash": "b0fa6594d8f4cbf19f97940f81e996739fb7646882a419484c72d19e05852a7e"
   }
  }
 },
 "nbformat": 4,
 "nbformat_minor": 2
}

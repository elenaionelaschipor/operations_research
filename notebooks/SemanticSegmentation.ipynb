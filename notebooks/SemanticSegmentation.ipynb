{
 "cells": [
  {
   "cell_type": "markdown",
   "metadata": {},
   "source": [
    "<a rel=\"license\" href=\"http://creativecommons.org/licenses/by/4.0/\"><img alt=\"Creative Commons License\" style=\"border-width:0\" src=\"https://i.creativecommons.org/l/by/4.0/88x31.png\" /></a><br /><span xmlns:dct=\"http://purl.org/dc/terms/\" property=\"dct:title\"><b>Semantic Segmentation by Linear Programming</b></span> by <a xmlns:cc=\"http://creativecommons.org/ns#\" href=\"http://mate.unipv.it/gualandi\" property=\"cc:attributionName\" rel=\"cc:attributionURL\">Stefano Gualandi</a> is licensed under a <a rel=\"license\" href=\"http://creativecommons.org/licenses/by/4.0/\">Creative Commons Attribution 4.0 International License</a>.<br />Based on a work at <a xmlns:dct=\"http://purl.org/dc/terms/\" href=\"https://github.com/mathcoding/opt4ds\" rel=\"dct:source\">https://github.com/mathcoding/opt4ds</a>."
   ]
  },
  {
   "cell_type": "markdown",
   "metadata": {},
   "source": [
    "**NOTE:** Run the following script whenever running this script on a Google Colab."
   ]
  },
  {
   "cell_type": "code",
   "execution_count": null,
   "metadata": {},
   "outputs": [],
   "source": [
    "import shutil\n",
    "import sys\n",
    "import os.path\n",
    "\n",
    "if not shutil.which(\"pyomo\"):\n",
    "    !pip install -q pyomo\n",
    "    assert(shutil.which(\"pyomo\"))\n",
    "\n",
    "if not (shutil.which(\"glpk\") or os.path.isfile(\"glpk\")):\n",
    "    if \"google.colab\" in sys.modules:\n",
    "        !apt-get install -y -qq glpk-utils\n",
    "    else:\n",
    "        try:\n",
    "            !conda install -c conda-forge glpk \n",
    "        except:\n",
    "            pass"
   ]
  },
  {
   "cell_type": "markdown",
   "metadata": {},
   "source": [
    "**REMARK:** If working on your personal computer, you might want to install [Gurobi with an academic license](https://www.gurobi.com/academia/academic-program-and-licenses/). Gurobi is a commercial solver that is extremely fast in solving large ILP instances, much more faster than the free GLPK solver."
   ]
  },
  {
   "cell_type": "markdown",
   "metadata": {},
   "source": [
    "# 6. Semantic Segmentation by Integer Linear Programming\n",
    "Semantic segmentation is computer vision task that assign to each pixel of a given image a label, as for instance, a 0 or 1 value. While this is nowadays a task solved very well by modern neural networks architectures, it is possible to reason about basic models by using Integer Linear Programming. This type of approach will not likely scale to the size of the input, but it can help to reason about the semantic segmentation models."
   ]
  },
  {
   "cell_type": "markdown",
   "metadata": {},
   "source": [
    "## 6.1 Graph model of an image\n",
    "The first step in a segmentation task is to pass to a particular graph representation of an image.\n",
    "\n",
    "If the input image has dimension $n \\times m$, we build a graph $G=(V, E)$ with $n \\times m$ nodes.\n",
    "\n",
    "The number of edges depends on the type of model we want to use, but we can begin with considering a complete graph with $E = V \\times V \\setminus \\{i,i\\}$. Each edge $\\{i,j\\}$ of the graph has a weight $w_{ij} = || p_i - p_j ||$, where $p_i \\in \\mathbb{R}^2$ for black and white images, and $p_i \\in \\mathbb{R}^3$ for color images.\n",
    "\n",
    "Notice that the weight encode a measure of similuted between a pair of pixels."
   ]
  },
  {
   "cell_type": "markdown",
   "metadata": {},
   "source": [
    "Complete the following snippet:"
   ]
  },
  {
   "cell_type": "code",
   "execution_count": null,
   "metadata": {},
   "outputs": [],
   "source": [
    "import networkx as nx\n",
    "\n",
    "def FromImage2Graph(A):\n",
    "    w, h = A.shape\n",
    "\n",
    "    G = nx.Graph()\n",
    "\n",
    "    # Add nodes\n",
    "    for i in range(w):\n",
    "        for j in range(h):\n",
    "            G.add_node( (i,j) )\n",
    "\n",
    "    # Add edges\n",
    "    for i in range(w):\n",
    "        for j in range(h):\n",
    "            for a in range(w):\n",
    "                for b in range(h):\n",
    "                    if i <= a and j <= b:\n",
    "                        G.add_edge( (i,j), (a,b), weight=abs(A[i,j]-A[a,b]))\n",
    "    return G"
   ]
  },
  {
   "cell_type": "markdown",
   "metadata": {},
   "source": [
    "## 6.2 Graph cut\n",
    "Given the weighted graph model of an image, we want to partition the node of the graph into two disjoint clusters $S_1, S_2$ such that the sum of the distances among the nodes in the same cluster is minimal, that is\n",
    "\n",
    "$$\n",
    "    \\min_{S_1, S_2} \\sum_{i,j \\in S_1} w_{ij} + \\sum_{i,j \\in S_2} w_{ij} \n",
    "$$"
   ]
  },
  {
   "cell_type": "markdown",
   "metadata": {},
   "source": [
    "or equivalently, we want to maximize the weight of the edges going from $S_1$ to $S_2$"
   ]
  },
  {
   "cell_type": "markdown",
   "metadata": {},
   "source": [
    "$$\n",
    "\\max_{S_1, S_2} \\sum_{i \\in S_1, j \\in S_2} w_{ij}\n",
    "$$"
   ]
  },
  {
   "cell_type": "markdown",
   "metadata": {},
   "source": [
    "Note the $S_1 \\cup S_2 = N$ and $S_1 \\cap S_2 = \\emptyset$."
   ]
  },
  {
   "cell_type": "markdown",
   "metadata": {},
   "source": [
    "## 6.3 Downsampling a black and white image\n",
    "When working with images and protopying models, it is convient to downsample an image to a lower resolution.\n",
    "\n",
    "While you can find several python libraries, the downsampling of a white image should be a basic Python exercise."
   ]
  },
  {
   "cell_type": "code",
   "execution_count": null,
   "metadata": {},
   "outputs": [],
   "source": [
    "# TODO: complete the following downsampling function\n",
    "import numpy as np\n",
    "\n",
    "def Resample(A, n=16):\n",
    "    w, h, _ = A.shape\n",
    "\n",
    "    a = w // n\n",
    "    a2 = a*a \n",
    "\n",
    "    B = np.zeros( (n,n) )\n",
    "\n",
    "    for i in range(n):\n",
    "        for j in range(n):\n",
    "            B[j,i] = np.sum(A[i*a:(i+1)*a, j*a:(j+1)*a])/a2\n",
    "    return B"
   ]
  },
  {
   "cell_type": "markdown",
   "metadata": {},
   "source": [
    "## 6.4 Integer Linear Programming model\n",
    "\n",
    "**EXERCISE:** write an Integer Linear Programming (ILP) model with Pyomo that can partition an image into two clusters, that is, we must map each pixel of the input image either to value 0 or 1.\n"
   ]
  },
  {
   "cell_type": "code",
   "execution_count": null,
   "metadata": {},
   "outputs": [],
   "source": [
    "# TO COMPLETE WITH YUOR MODEL\n",
    "def Segmentation(G):\n",
    "\n",
    " \n",
    "    return C"
   ]
  },
  {
   "cell_type": "markdown",
   "metadata": {},
   "source": [
    "You can test you model using the following lines of code."
   ]
  },
  {
   "cell_type": "code",
   "execution_count": null,
   "metadata": {},
   "outputs": [],
   "source": [
    "!wget https://mate.unipv.it/gualandi/opt4ds/picture32_1007.png"
   ]
  },
  {
   "cell_type": "code",
   "execution_count": null,
   "metadata": {},
   "outputs": [],
   "source": [
    "!wget https://mate.unipv.it/gualandi/opt4ds/picture32_1009.png"
   ]
  },
  {
   "cell_type": "code",
   "execution_count": null,
   "metadata": {},
   "outputs": [],
   "source": [
    "    A = LoadImage('../data/picture32_1009.png')\n",
    "    print(A.shape)\n",
    "\n",
    "    B = Resample(A, 10)\n",
    "#    B = AddNoise(B, 0.1)\n",
    "#    G = FromImage2Graph(B)\n",
    "\n",
    "    ShowImages(A, B, A)\n",
    "    \n",
    "#    sol = Segmentation(G)\n",
    "\n",
    "    # Elaborate the solution into an image C\n",
    "    # ShowImages(A, B, C)"
   ]
  },
  {
   "cell_type": "markdown",
   "metadata": {},
   "source": [
    "## 6.5 Auxiliary functions\n",
    "The following functions might be useful to write your solution approach."
   ]
  },
  {
   "cell_type": "code",
   "execution_count": null,
   "metadata": {},
   "outputs": [],
   "source": [
    "# Load an image from file\n",
    "def LoadImage(filename):\n",
    "    A = plt.imread(filename).astype(np.float64)\n",
    "    return A"
   ]
  },
  {
   "cell_type": "code",
   "execution_count": null,
   "metadata": {},
   "outputs": [],
   "source": [
    "# Add a lognormal noise to the image (to be used as a stress test)\n",
    "def AddNoise(A, mu=0.2):\n",
    "    n,m = A.shape\n",
    "\n",
    "    for i in range(n):\n",
    "        for j in range(m):\n",
    "            A[i,j] = A[i,j] + np.random.lognormal(sigma=mu)\n",
    "\n",
    "    return A"
   ]
  },
  {
   "cell_type": "code",
   "execution_count": null,
   "metadata": {},
   "outputs": [],
   "source": [
    "import numpy as np\n",
    "import matplotlib.pyplot as plt\n",
    "\n",
    "# Show a single image\n",
    "def ShowImage(A):\n",
    "    fig, ax = plt.subplots()\n",
    "\n",
    "    plt.imshow(A)\n",
    "    ax.autoscale()\n",
    "    ax.set_aspect('equal', 'box')\n",
    "    plt.axis('off')\n",
    "    plt.show()"
   ]
  },
  {
   "cell_type": "code",
   "execution_count": null,
   "metadata": {},
   "outputs": [],
   "source": [
    "# Show three images in a row\n",
    "def ShowImages(A, B, C):\n",
    "    fig, ax = plt.subplots(1,3)\n",
    "\n",
    "    ax[0].imshow(A, cmap='binary')\n",
    "    ax[0].autoscale()\n",
    "    ax[0].set_aspect('equal', 'box')\n",
    "    ax[0].axis('off')\n",
    "\n",
    "    ax[1].imshow(B, cmap='binary')\n",
    "    ax[1].autoscale()\n",
    "    ax[1].set_aspect('equal', 'box')\n",
    "    ax[1].axis('off')\n",
    "\n",
    "    ax[2].imshow(C, cmap='binary')\n",
    "    ax[2].autoscale()\n",
    "    ax[2].set_aspect('equal', 'box')\n",
    "    ax[2].axis('off')\n",
    "\n",
    "    plt.show()"
   ]
  }
 ],
 "metadata": {
  "kernelspec": {
   "display_name": "Python 3.11.2 64-bit",
   "language": "python",
   "name": "python3"
  },
  "language_info": {
   "codemirror_mode": {
    "name": "ipython",
    "version": 3
   },
   "file_extension": ".py",
   "mimetype": "text/x-python",
   "name": "python",
   "nbconvert_exporter": "python",
   "pygments_lexer": "ipython3",
   "version": "3.11.2"
  },
  "orig_nbformat": 4,
  "vscode": {
   "interpreter": {
    "hash": "b0fa6594d8f4cbf19f97940f81e996739fb7646882a419484c72d19e05852a7e"
   }
  }
 },
 "nbformat": 4,
 "nbformat_minor": 2
}

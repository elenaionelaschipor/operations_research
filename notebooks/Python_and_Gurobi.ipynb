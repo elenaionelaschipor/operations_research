{
 "cells": [
  {
   "cell_type": "markdown",
   "id": "familiar-registration",
   "metadata": {},
   "source": [
    "<a rel=\"license\" href=\"http://creativecommons.org/licenses/by/4.0/\"><img alt=\"Creative Commons License\" style=\"border-width:0\" src=\"https://i.creativecommons.org/l/by/4.0/88x31.png\" /></a><br /><span xmlns:dct=\"http://purl.org/dc/terms/\" property=\"dct:title\"><b>Modeling with Gurobi: the basics</b></span> by <a xmlns:cc=\"http://creativecommons.org/ns#\" href=\"http://mate.unipv.it/gualandi\" property=\"cc:attributionName\" rel=\"cc:attributionURL\">Stefano Gualandi</a> is licensed under a <a rel=\"license\" href=\"http://creativecommons.org/licenses/by/4.0/\">Creative Commons Attribution 4.0 International License</a>.<br />Based on a work at <a xmlns:dct=\"http://purl.org/dc/terms/\" href=\"https://github.com/mathcoding/opt4ds\" rel=\"dct:source\">https://github.com/mathcoding/opt4ds</a>."
   ]
  },
  {
   "cell_type": "markdown",
   "id": "mental-hundred",
   "metadata": {},
   "source": [
    "**NOTE:** Execute the following command whenever running this script on a Google Colab."
   ]
  },
  {
   "cell_type": "code",
   "execution_count": 3,
   "id": "loving-spanking",
   "metadata": {},
   "outputs": [],
   "source": [
    "# Run if on Colab\n",
    "# %pip install gurobipy"
   ]
  },
  {
   "cell_type": "code",
   "execution_count": 4,
   "id": "5e83c9b5",
   "metadata": {},
   "outputs": [],
   "source": [
    "import gurobipy as grb\n",
    "import matplotlib.pyplot as plt"
   ]
  },
  {
   "cell_type": "markdown",
   "id": "opening-practice",
   "metadata": {},
   "source": [
    "# 2. Writing LP models with Gurobi\n",
    "In this notebook, we show how to use Gurobi to write general LPs problems."
   ]
  },
  {
   "cell_type": "markdown",
   "id": "ffa570d0",
   "metadata": {},
   "source": [
    "## 2.1 Steel Production Planning\n",
    "\n",
    "In this notebook, we explain how to solve the **Linear Programming** problem that we have written to solve the Steel Planning problem during the class (see the slides on KIRO). This problem is given as Exercise 1.1 in Chapter 1 of [Linear Programming, Foundations and Extensions](https://link.springer.com/book/10.1007/978-1-4614-7630-6) by [R.J. Vanderbei](https://vanderbei.princeton.edu/).\n",
    "\n",
    "We show below how to use [Gurobi](https://www.gurobi.com/academia/academic-program-and-licenses/) to define the **variables**, the **objective function**, and the **constraints**."
   ]
  },
  {
   "cell_type": "markdown",
   "id": "a8098b19",
   "metadata": {},
   "source": [
    "**CHECK THE NOTEBOOK FOR THIS EXERCISE TO GET THE BASICS OF THE GUROBI SYNTAX**"
   ]
  },
  {
   "cell_type": "markdown",
   "id": "18ec70d0",
   "metadata": {},
   "source": [
    "## 2.2 Lego Planning Problem\n",
    "As a first exercise, you have to solve the **Linear Programming (LP)** problem that we have written to model the Lego Planning problem (see the slides on KIRO):\n",
    "\n",
    "$$\n",
    "\\begin{align}\n",
    "\\max \\quad & 8 c + 11 t  \\\\\n",
    " \\quad & 2c + 2t \\leq 24 \\\\\n",
    "& c + 2 t \\leq 18\\\\\n",
    "& c \\geq 0\\\\\n",
    "& t \\geq 0\n",
    "\\end{align}\n",
    "$$\n",
    "\n",
    "You have to use Gurobi to define the **variables**, the **objective function**, and the **constraints**.\n",
    "\n",
    "**EXERCISE 1:** Using the template for the *Steel Production Planning Problem* solve the LEGO instance defined above."
   ]
  },
  {
   "cell_type": "code",
   "execution_count": 5,
   "id": "d513dae5",
   "metadata": {},
   "outputs": [
    {
     "name": "stdout",
     "output_type": "stream",
     "text": [
      "Set parameter Username\n",
      "Set parameter LicenseID to value 2587342\n",
      "Academic license - for non-commercial use only - expires 2025-11-19\n"
     ]
    }
   ],
   "source": [
    "# Write your own script\n",
    "from gurobipy import Model, GRB\n",
    "model = Model()\n",
    "\n",
    "p = [8,11] # price vector\n",
    "c = model.addVar(lb = 0, obj = p[0], vtype = GRB.INTEGER, name = \"c\")\n",
    "t = model.addVar(lb = 0, obj = p[1], vtype = GRB.INTEGER, name = \"t\")\n",
    "\n",
    "\n",
    "model.ModelSense = GRB.MAXIMIZE\n",
    "\n",
    "\n",
    "A = [[2,2],[1,2]]\n",
    "b = [24,18]\n",
    "\n",
    "# this is good...\n",
    "# model.addConstr(2*c+2*t <= 24)\n",
    "# model.addConstr(c+2*t <= 18)\n",
    "\n",
    "# this is better\n",
    "\n",
    "for Ai, bi in zip(A,b): # zip(A,b) returns list made by [(a1, b1), (a2, b2)...]\n",
    "  model.addConstr(Ai[0]*c+Ai[1]*t <= bi)\n",
    "\n",
    "model.update()\n",
    "model.write(\"lego.lp\")"
   ]
  },
  {
   "cell_type": "code",
   "execution_count": 6,
   "id": "c1ae1dba",
   "metadata": {},
   "outputs": [
    {
     "name": "stdout",
     "output_type": "stream",
     "text": [
      "Gurobi Optimizer version 12.0.0 build v12.0.0rc1 (win64 - Windows 11.0 (26100.2))\n",
      "\n",
      "CPU model: Intel(R) Core(TM) i3-1005G1 CPU @ 1.20GHz, instruction set [SSE2|AVX|AVX2|AVX512]\n",
      "Thread count: 2 physical cores, 4 logical processors, using up to 4 threads\n",
      "\n",
      "Optimize a model with 2 rows, 2 columns and 4 nonzeros\n",
      "Model fingerprint: 0x11438d89\n",
      "Variable types: 0 continuous, 2 integer (0 binary)\n",
      "Coefficient statistics:\n",
      "  Matrix range     [1e+00, 2e+00]\n",
      "  Objective range  [8e+00, 1e+01]\n",
      "  Bounds range     [0e+00, 0e+00]\n",
      "  RHS range        [2e+01, 2e+01]\n",
      "Found heuristic solution: objective 96.0000000\n",
      "Presolve time: 0.01s\n",
      "Presolved: 2 rows, 2 columns, 4 nonzeros\n",
      "Variable types: 0 continuous, 2 integer (0 binary)\n",
      "\n",
      "Root relaxation: objective 1.140000e+02, 2 iterations, 0.00 seconds (0.00 work units)\n",
      "\n",
      "    Nodes    |    Current Node    |     Objective Bounds      |     Work\n",
      " Expl Unexpl |  Obj  Depth IntInf | Incumbent    BestBd   Gap | It/Node Time\n",
      "\n",
      "*    0     0               0     114.0000000  114.00000  0.00%     -    0s\n",
      "\n",
      "Explored 1 nodes (2 simplex iterations) in 0.03 seconds (0.00 work units)\n",
      "Thread count was 4 (of 4 available processors)\n",
      "\n",
      "Solution count 2: 114 96 \n",
      "\n",
      "Optimal solution found (tolerance 1.00e-04)\n",
      "Best objective 1.140000000000e+02, best bound 1.140000000000e+02, gap 0.0000%\n"
     ]
    }
   ],
   "source": [
    "model.optimize()"
   ]
  },
  {
   "cell_type": "code",
   "execution_count": 7,
   "id": "190772b1",
   "metadata": {},
   "outputs": [
    {
     "name": "stdout",
     "output_type": "stream",
     "text": [
      "status:  2\n",
      "objective:  114.0\n",
      "Decision variables:\n",
      "\t c: 6.0\n",
      "\t t: 6.0\n"
     ]
    }
   ],
   "source": [
    "print(\"status: \", model.Status) # 2 is good\n",
    "print(\"objective: \", model.ObjVal)\n",
    "print(\"Decision variables:\")\n",
    "print(\"\\t c:\", c.X)\n",
    "print(\"\\t t:\", t.X)"
   ]
  },
  {
   "cell_type": "markdown",
   "id": "62e9ee7d",
   "metadata": {},
   "source": [
    "it's the solution we were looking for!!!"
   ]
  },
  {
   "cell_type": "markdown",
   "id": "26981cb0",
   "metadata": {},
   "source": [
    "**EXERCISE 2:** Modify the previous script to solve the second version of the Lego Planning problem:\n",
    "\n",
    "$$\n",
    "\\begin{align}\n",
    "\\max \\quad & 8 c + 11 t + 15 s \\\\\n",
    " \\quad & 2c + 2t +2s \\leq 24 \\\\\n",
    "& c + 2 t +3s \\leq 18\\\\\n",
    "& c \\geq 0\\\\\n",
    "& t \\geq 0\\\\\n",
    "& s \\geq 0\n",
    "\\end{align}\n",
    "$$\n",
    "\n",
    "You have to add a third variable to the model, to modify the objective function, and the two constraints. Later, you call the solver again, check the status of the solver, and the solution values."
   ]
  },
  {
   "cell_type": "code",
   "execution_count": 8,
   "id": "69099f2f",
   "metadata": {},
   "outputs": [],
   "source": [
    "# Write your own script\n",
    "from gurobipy import Model, GRB\n",
    "model = Model()\n",
    "p = [8,11,15]\n",
    "c = model.addVar(lb = 0, obj = p[0], vtype = GRB.CONTINUOUS, name = \"c\")\n",
    "t = model.addVar(lb = 0, obj = p[1], vtype = GRB.CONTINUOUS, name = \"t\")\n",
    "s = model.addVar(lb = 0, obj = p[2], vtype=GRB.CONTINUOUS, name = \"s\")\n",
    "\n",
    "model.ModelSense = GRB.MAXIMIZE\n",
    "\n",
    "A = [[2,2,2],[1,2,3]]\n",
    "b = [24,18]\n",
    "\n",
    "# this is good...\n",
    "# model.addConstr(2*c+2*t +2*s<= 24)\n",
    "# model.addConstr(c+2*t+3*s <= 18)\n",
    "\n",
    "# this is better\n",
    "\n",
    "for Ai, bi in zip(A,b): # zip(A,b) returns list made by [(a1, b1), (a2, b2)...]\n",
    "  model.addConstr(Ai[0]*c+Ai[1]*t+Ai[2]*s <= bi)\n",
    "\n",
    "\n",
    "model.update()\n",
    "model.write(\"lego_3var.lp\")"
   ]
  },
  {
   "cell_type": "code",
   "execution_count": 9,
   "id": "a4e49307",
   "metadata": {},
   "outputs": [
    {
     "name": "stdout",
     "output_type": "stream",
     "text": [
      "Gurobi Optimizer version 12.0.0 build v12.0.0rc1 (win64 - Windows 11.0 (26100.2))\n",
      "\n",
      "CPU model: Intel(R) Core(TM) i3-1005G1 CPU @ 1.20GHz, instruction set [SSE2|AVX|AVX2|AVX512]\n",
      "Thread count: 2 physical cores, 4 logical processors, using up to 4 threads\n",
      "\n",
      "Optimize a model with 2 rows, 3 columns and 6 nonzeros\n",
      "Model fingerprint: 0xf32b7170\n",
      "Coefficient statistics:\n",
      "  Matrix range     [1e+00, 3e+00]\n",
      "  Objective range  [8e+00, 2e+01]\n",
      "  Bounds range     [0e+00, 0e+00]\n",
      "  RHS range        [2e+01, 2e+01]\n",
      "Presolve time: 0.01s\n",
      "Presolved: 2 rows, 3 columns, 6 nonzeros\n",
      "\n",
      "Iteration    Objective       Primal Inf.    Dual Inf.      Time\n",
      "       0    3.4000000e+31   4.500000e+30   3.400000e+01      0s\n",
      "       2    1.1700000e+02   0.000000e+00   0.000000e+00      0s\n",
      "\n",
      "Solved in 2 iterations and 0.02 seconds (0.00 work units)\n",
      "Optimal objective  1.170000000e+02\n"
     ]
    }
   ],
   "source": [
    "model.optimize()"
   ]
  },
  {
   "cell_type": "code",
   "execution_count": 10,
   "id": "07caf1d8",
   "metadata": {},
   "outputs": [
    {
     "name": "stdout",
     "output_type": "stream",
     "text": [
      "status:  2\n",
      "objective:  117.0\n",
      "Decision variables:\n",
      "\t c: 9.0\n",
      "\t t: 0.0\n",
      "\t s: 3.0\n"
     ]
    }
   ],
   "source": [
    "print(\"status: \", model.Status) # 2 is good\n",
    "print(\"objective: \", model.ObjVal)\n",
    "print(\"Decision variables:\")\n",
    "print(\"\\t c:\", c.X)\n",
    "print(\"\\t t:\", t.X)\n",
    "print(\"\\t s:\", s.X)"
   ]
  },
  {
   "cell_type": "markdown",
   "id": "negative-smart",
   "metadata": {},
   "source": [
    "## 2.3 Random LPs\n",
    "Let consider the following python function that generates a random LP instance.\n",
    "\n",
    "Recall that an LP is completely defined by the cost vector $c \\in \\mathbb{R}^n$, the rhs vector $b \\in \\mathbb{R}^m$, and the coefficient matrix $A \\in \\mathbb{R}^{m \\times n}$:\n",
    "\n",
    "$$\n",
    "    z = \\min \\,\\{ c x \\mid Ax \\geq b, x \\geq 0 \\,\\}\n",
    "$$\n",
    "\n",
    "Look at the following function."
   ]
  },
  {
   "cell_type": "code",
   "execution_count": 11,
   "id": "ready-astronomy",
   "metadata": {},
   "outputs": [
    {
     "name": "stdout",
     "output_type": "stream",
     "text": [
      "(array([3, 1, 1]), array([7, 3, 5, 4]), array([[5, 3, 7],\n",
      "       [6, 5, 3],\n",
      "       [1, 4, 6],\n",
      "       [4, 7, 6]]))\n"
     ]
    }
   ],
   "source": [
    "from numpy import random\n",
    "\n",
    "def RandomLP(n, m, seed=13):\n",
    "    random.seed(seed)\n",
    "    c = random.randint(1, 10, size=n)\n",
    "    b = random.randint(1, 10, size=m)\n",
    "    A = random.randint(1, 10, size=(m,n))    \n",
    "    return c, b, A\n",
    "    \n",
    "print(RandomLP(3,4))"
   ]
  },
  {
   "cell_type": "markdown",
   "id": "adequate-florist",
   "metadata": {},
   "source": [
    "Next, we write another function that takes as input the data of an LP instance and builds the LP model using the Gurobi syntax, solves the instances, check the return status of the solver, and, if possible, print to screen an optimal solution."
   ]
  },
  {
   "cell_type": "code",
   "execution_count": 12,
   "id": "impossible-macedonia",
   "metadata": {},
   "outputs": [],
   "source": [
    "from gurobipy import Model, GRB, quicksum\n",
    "\n",
    "def SolveLP(c, b, A):\n",
    "    m = len(b)\n",
    "    n = len(c)\n",
    "\n",
    "    model = Model()\n",
    "\n",
    "    # Be careful: RangeSet starts at 1 and not a 0, as python list index\n",
    "    I = range(n)\n",
    "    J = range(m)\n",
    "\n",
    "    # we can do this in 42425 different ways, he used lists and zips but it's pretty much the same\n",
    "    x = []\n",
    "    for i, ci in enumerate(c):\n",
    "        x.append(model.addVar(obj=ci, name=\"x_{}\".format(i)))\n",
    "\n",
    "    for j in J:\n",
    "        model.addConstr(quicksum(A[j, i]*x[i] for i in I) >= b[j])\n",
    "\n",
    "    # Default: model.ModelSense = GRB.MINIMIZE\n",
    "\n",
    "    model.optimize()\n",
    "\n",
    "    # Basic info about the solution process\n",
    "    print(f\"Status: {model.Status}, ObjVal: {model.ObjVal}\")\n",
    "\n",
    "    xbar = [x[i].X for i in I]\n",
    "    model.write(\"general.lp\")\n",
    "    # Return objective value and decision variables\n",
    "    return model.ObjVal, xbar"
   ]
  },
  {
   "cell_type": "markdown",
   "id": "b8ad962e",
   "metadata": {},
   "source": [
    "Below we show an example of calling this function."
   ]
  },
  {
   "cell_type": "code",
   "execution_count": 13,
   "id": "statutory-density",
   "metadata": {},
   "outputs": [
    {
     "name": "stdout",
     "output_type": "stream",
     "text": [
      "[2 1] [4 9 8] [[9 2]\n",
      " [1 3]\n",
      " [9 9]]\n",
      "Gurobi Optimizer version 12.0.0 build v12.0.0rc1 (win64 - Windows 11.0 (26100.2))\n",
      "\n",
      "CPU model: Intel(R) Core(TM) i3-1005G1 CPU @ 1.20GHz, instruction set [SSE2|AVX|AVX2|AVX512]\n",
      "Thread count: 2 physical cores, 4 logical processors, using up to 4 threads\n",
      "\n",
      "Optimize a model with 3 rows, 2 columns and 6 nonzeros\n",
      "Model fingerprint: 0x89fb992c\n",
      "Coefficient statistics:\n",
      "  Matrix range     [1e+00, 9e+00]\n",
      "  Objective range  [1e+00, 2e+00]\n",
      "  Bounds range     [0e+00, 0e+00]\n",
      "  RHS range        [4e+00, 9e+00]\n",
      "Presolve time: 0.01s\n",
      "Presolved: 3 rows, 2 columns, 6 nonzeros\n",
      "\n",
      "Iteration    Objective       Primal Inf.    Dual Inf.      Time\n",
      "       0    0.0000000e+00   1.050000e+01   0.000000e+00      0s\n",
      "       1    3.0000000e+00   0.000000e+00   0.000000e+00      0s\n",
      "\n",
      "Solved in 1 iterations and 0.02 seconds (0.00 work units)\n",
      "Optimal objective  3.000000000e+00\n",
      "Status: 2, ObjVal: 3.0\n",
      "(3.0, [0.0, 3.0])\n"
     ]
    }
   ],
   "source": [
    "c, b, A = RandomLP(2, 3, 1717)\n",
    "print(c,b,A)\n",
    "print(SolveLP(c, b, A))"
   ]
  },
  {
   "cell_type": "markdown",
   "id": "cubic-elimination",
   "metadata": {},
   "source": [
    "### 2.4 Nurse Scheduling --------------------\n",
    "Consider the nurse scheduling problem on the lecture' slides.\n",
    "\n",
    "Let us write the same model, but in addition we use a cost larger than 1 for the Friday, Saturday, and Sunday nights.\n",
    "\n",
    "For the model description we refer to the slides used during the lecture."
   ]
  },
  {
   "cell_type": "code",
   "execution_count": null,
   "id": "comfortable-prayer",
   "metadata": {},
   "outputs": [],
   "source": [
    "# Import the numerical python library https://numpy.org/\n",
    "import numpy as np\n",
    "from gurobipy import Model, GRB, quicksum\n",
    "\n",
    "def StaffScheduling(demand, cost, w=5, margin = 1):\n",
    "    # Data\n",
    "    d = len(demand)\n",
    "    # demand = [5, 6, 7, 3, 3, 2, 2]\n",
    "    # cost = [10.0, 1.0, 1.0, 1.0, 1.5, 5, 1.5]\n",
    "\n",
    "    # Using the numpy library create a matrix of dimension \"d x d\"\n",
    "    A = np.zeros( (d,d) )\n",
    "    # Set the matrix coefficient to 1 using the patter of the slide\n",
    "    for i in range(d):\n",
    "        for j in range(w):\n",
    "            A[(i+j)%d, i] = 1\n",
    "\n",
    "    # Declare the model\n",
    "    \n",
    "    model = Model()\n",
    "    # nurses\n",
    "    x = []\n",
    "    # money\n",
    "    # m = model.addVar(obj = 0.2, name = \"m\", vtype=GRB.CONTINUOUS)\n",
    "    for i in range(d):\n",
    "        x.append(model.addVar(lb = 0, obj = 1, name=\"x_{}\".format(i+1), vtype=GRB.INTEGER)) \n",
    "    # i look for a min so se don't need to specify anything\n",
    "\n",
    "    # declare constraints\n",
    "    for j in range(d): \n",
    "        model.addConstr(quicksum(A[j, i]*x[i] for i in range(d)) >= demand[j])\n",
    "        # model.addConstr( m == cost[j]*quicksum(A[j, i]*x[i] for i in range(d)))\n",
    "    model.update()\n",
    "    model.optimize()\n",
    "    print(\"nurses optimization: done -----------------------------------------\")\n",
    "    \n",
    "    o = model.Objval \n",
    "    m = model.addVar(obj = 1, name = \"m\", vtype=GRB.CONTINUOUS)\n",
    "    \n",
    "    \n",
    "    a = 0\n",
    "    for j in range(d): \n",
    "        model.addConstr(quicksum(x) <= o + margin)\n",
    "        model.addConstr(quicksum(x) >= o - margin)\n",
    "        a += cost[j]*quicksum(A[j, i]*x[i] for i in range(d))\n",
    "    model.addConstr( m == a)    \n",
    "    \n",
    "    model.update()\n",
    "    model.optimize()\n",
    "    \n",
    "    model.write(\"nurses.lp\")\n",
    "    status = model.Status\n",
    "    if status == 2:\n",
    "        print(\"cost optimisation: done ---------------------------------------\")\n",
    "        objval = model.Objval\n",
    "        xbar = [x[i].X for i in range(d)]\n",
    "        mbar = m.X\n",
    "        nurses_count = o\n",
    "        return xbar,status,nurses_count, mbar\n",
    "    else:\n",
    "        return status"
   ]
  },
  {
   "cell_type": "code",
   "execution_count": 25,
   "id": "unlike-uzbekistan",
   "metadata": {},
   "outputs": [
    {
     "name": "stdout",
     "output_type": "stream",
     "text": [
      "Gurobi Optimizer version 12.0.0 build v12.0.0rc1 (win64 - Windows 11.0 (26100.2))\n",
      "\n",
      "CPU model: Intel(R) Core(TM) i3-1005G1 CPU @ 1.20GHz, instruction set [SSE2|AVX|AVX2|AVX512]\n",
      "Thread count: 2 physical cores, 4 logical processors, using up to 4 threads\n",
      "\n",
      "Optimize a model with 7 rows, 7 columns and 35 nonzeros\n",
      "Model fingerprint: 0xd00cdc7e\n",
      "Variable types: 0 continuous, 7 integer (0 binary)\n",
      "Coefficient statistics:\n",
      "  Matrix range     [1e+00, 1e+00]\n",
      "  Objective range  [1e+00, 1e+00]\n",
      "  Bounds range     [0e+00, 0e+00]\n",
      "  RHS range        [2e+00, 7e+00]\n",
      "Found heuristic solution: objective 10.0000000\n",
      "Presolve time: 0.00s\n",
      "Presolved: 7 rows, 7 columns, 35 nonzeros\n",
      "Variable types: 0 continuous, 7 integer (0 binary)\n",
      "\n",
      "Root relaxation: objective 7.000000e+00, 4 iterations, 0.00 seconds (0.00 work units)\n",
      "\n",
      "    Nodes    |    Current Node    |     Objective Bounds      |     Work\n",
      " Expl Unexpl |  Obj  Depth IntInf | Incumbent    BestBd   Gap | It/Node Time\n",
      "\n",
      "*    0     0               0       7.0000000    7.00000  0.00%     -    0s\n",
      "\n",
      "Explored 1 nodes (4 simplex iterations) in 0.03 seconds (0.00 work units)\n",
      "Thread count was 4 (of 4 available processors)\n",
      "\n",
      "Solution count 2: 7 10 \n",
      "\n",
      "Optimal solution found (tolerance 1.00e-04)\n",
      "Best objective 7.000000000000e+00, best bound 7.000000000000e+00, gap 0.0000%\n",
      "nurses optimization: done -----------------------------------------\n",
      "Gurobi Optimizer version 12.0.0 build v12.0.0rc1 (win64 - Windows 11.0 (26100.2))\n",
      "\n",
      "CPU model: Intel(R) Core(TM) i3-1005G1 CPU @ 1.20GHz, instruction set [SSE2|AVX|AVX2|AVX512]\n",
      "Thread count: 2 physical cores, 4 logical processors, using up to 4 threads\n",
      "\n",
      "Optimize a model with 22 rows, 8 columns and 141 nonzeros\n",
      "Model fingerprint: 0x984e7c6d\n",
      "Variable types: 1 continuous, 7 integer (0 binary)\n",
      "Coefficient statistics:\n",
      "  Matrix range     [1e+00, 7e+00]\n",
      "  Objective range  [1e+00, 1e+00]\n",
      "  Bounds range     [0e+00, 0e+00]\n",
      "  RHS range        [2e+00, 1e+01]\n",
      "\n",
      "MIP start from previous solve produced solution with objective 47 (0.02s)\n",
      "Loaded MIP start from previous solve with objective 47\n",
      "\n",
      "Presolve removed 14 rows and 1 columns\n",
      "Presolve time: 0.00s\n",
      "Presolved: 8 rows, 7 columns, 42 nonzeros\n",
      "Variable types: 0 continuous, 7 integer (0 binary)\n",
      "\n",
      "Root relaxation: objective 4.650000e+01, 3 iterations, 0.00 seconds (0.00 work units)\n",
      "\n",
      "    Nodes    |    Current Node    |     Objective Bounds      |     Work\n",
      " Expl Unexpl |  Obj  Depth IntInf | Incumbent    BestBd   Gap | It/Node Time\n",
      "\n",
      "*    0     0               0      46.5000000   46.50000  0.00%     -    0s\n",
      "\n",
      "Explored 1 nodes (3 simplex iterations) in 0.04 seconds (0.00 work units)\n",
      "Thread count was 4 (of 4 available processors)\n",
      "\n",
      "Solution count 2: 46.5 47 \n",
      "\n",
      "Optimal solution found (tolerance 1.00e-04)\n",
      "Best objective 4.650000000000e+01, best bound 4.650000000000e+01, gap 0.0000%\n",
      "cost optimisation: done ---------------------------------------\n"
     ]
    }
   ],
   "source": [
    "demand = [5, 6, 7, 3, 3, 2, 2]\n",
    "cost = [1.0, 1.0, 1.0, 1.0,1.5, 1.5, 1.5]\n",
    "x, status, nurses_count, mbar = StaffScheduling(demand, cost, margin =3)"
   ]
  },
  {
   "cell_type": "code",
   "execution_count": 23,
   "id": "4945c5a6",
   "metadata": {},
   "outputs": [
    {
     "name": "stdout",
     "output_type": "stream",
     "text": [
      "day: Monday \t Nurses:  3\n",
      "day: Tuesday \t Nurses:  2\n",
      "day: Wednesday \t Nurses:  0\n",
      "day: Thursday \t Nurses:  0\n",
      "day: Friday \t Nurses:  0\n",
      "day: Saturday \t Nurses:  0\n",
      "day: Sunday \t Nurses:  2\n"
     ]
    }
   ],
   "source": [
    "days = [\"Monday\", \"Tuesday\", \"Wednesday\", \"Thursday\", \"Friday\", \"Saturday\", \"Sunday\"] \n",
    "for i in range(7):\n",
    "    print(\"day:\", days[i], \"\\t Nurses: \", int(x[i]))\n",
    "    "
   ]
  },
  {
   "cell_type": "code",
   "execution_count": 19,
   "id": "264f65a9",
   "metadata": {},
   "outputs": [
    {
     "data": {
      "text/plain": [
       "233.0"
      ]
     },
     "execution_count": 19,
     "metadata": {},
     "output_type": "execute_result"
    }
   ],
   "source": [
    "mbar"
   ]
  },
  {
   "cell_type": "markdown",
   "id": "c48163d6",
   "metadata": {},
   "source": [
    "### READ FOR EXERCISE 2.5 Exercise: Steel Recycle Blending Problem\n",
    "The industrial steel can be easily recycled, since it is possible to burn any\n",
    "scrap to get only liquid steel (without plastics, glasses, ...).\n",
    "However, it is hard to separate each single metal presents in the scrap,\n",
    "and as a consequence, beside iron, we can get also chromium, nichel, and\n",
    "other impurities in the liquid steel.\n",
    "\n",
    "Depending on the type of production, some metals are desirable, while others\n",
    "are not. For example, the stainless steel 18/10 must have 18% of chromium and\n",
    "10% of nichel (consider that chromium and nichel are very expensive, much more\n",
    "than the steel itself).\n",
    "\n",
    "**Problem Statement:** Suppose that the Brambilla's Steel company of Voghera can choose to buy some iron\n",
    "scrap block with different properties regarding the different metals contained in\n",
    "each block. The company want to produce at minimum cost 100 quintals of stainless\n",
    "steel 18/10, which must have at least 65% of iron and at most 1% of\n",
    "impurity materials. Which fraction of each block is going to buy?\n",
    "\n",
    "The data of the problem are given below."
   ]
  },
  {
   "cell_type": "code",
   "execution_count": 34,
   "id": "f776d9a6",
   "metadata": {},
   "outputs": [],
   "source": [
    "import numpy as np\n",
    "\n",
    "# Data of the problem (in theory, read data from .csv or excel file)\n",
    "\n",
    "# Blocks you can buy\n",
    "Blocks = ['Block1','Block2','Block3','Block4','Block5','Block6']\n",
    "n = 6\n",
    "Weights = [30, 90, 50, 70, 60, 50]  # In quintals\n",
    "Costs = [50, 100, 80, 85, 92, 115]  # Thousand of euros\n",
    "\n",
    "# Components of metal in each block (given in percentage)\n",
    "Cs = np.matrix([[93, 76, 74, 65, 72, 68],  # Ferro\n",
    "                [5, 13, 11, 16, 6, 23],    # Cromo\n",
    "                [0, 11, 12, 14, 20, 8],    # Nichel\n",
    "                [2, 0, 3, 5, 2, 1]])       # Impurità"
   ]
  },
  {
   "cell_type": "code",
   "execution_count": 35,
   "id": "0ca8a24f",
   "metadata": {},
   "outputs": [],
   "source": [
    "from gurobipy import Model, GRB, quicksum"
   ]
  },
  {
   "cell_type": "markdown",
   "id": "59c8d488",
   "metadata": {},
   "source": [
    "Here the decision variables can be chosen in two ways:\n",
    "\n",
    "a) we can choose $b_i, i=1..6$ as the fraction of the $i$-th block;\n",
    "\n",
    "b) we can choose $x_i, i = 1..6$ as the weight of the piece of the block chosen (if $x_1 = 10$ we choose $10 q$ out of the $30$ available)\n",
    "\n",
    "by myself, done choice a). The teacher did b;"
   ]
  },
  {
   "cell_type": "markdown",
   "id": "db1c0913",
   "metadata": {},
   "source": [
    "\n",
    "The cost can be euro/quintal or euro/block... here we choose the second option"
   ]
  },
  {
   "cell_type": "code",
   "execution_count": 65,
   "id": "3ee05322",
   "metadata": {},
   "outputs": [
    {
     "name": "stdout",
     "output_type": "stream",
     "text": [
      "Warning for adding constraints: zero or small (< 1e-13) coefficients, ignored\n",
      "Gurobi Optimizer version 12.0.0 build v12.0.0rc1 (win64 - Windows 11.0 (26100.2))\n",
      "\n",
      "CPU model: Intel(R) Core(TM) i3-1005G1 CPU @ 1.20GHz, instruction set [SSE2|AVX|AVX2|AVX512]\n",
      "Thread count: 2 physical cores, 4 logical processors, using up to 4 threads\n",
      "\n",
      "Optimize a model with 5 rows, 6 columns and 28 nonzeros\n",
      "Model fingerprint: 0x305d14c5\n",
      "Coefficient statistics:\n",
      "  Matrix range     [3e-01, 9e+01]\n",
      "  Objective range  [2e+03, 9e+03]\n",
      "  Bounds range     [1e+00, 1e+00]\n",
      "  RHS range        [1e+02, 1e+02]\n",
      "Presolve removed 1 rows and 0 columns\n",
      "Presolve time: 0.01s\n",
      "Presolved: 4 rows, 6 columns, 23 nonzeros\n",
      "\n",
      "Iteration    Objective       Primal Inf.    Dual Inf.      Time\n",
      "       0    0.0000000e+00   1.250000e+01   0.000000e+00      0s\n",
      "       6    1.0567580e+04   0.000000e+00   0.000000e+00      0s\n",
      "\n",
      "Solved in 6 iterations and 0.02 seconds (0.00 work units)\n",
      "Optimal objective  1.056757991e+04\n"
     ]
    }
   ],
   "source": [
    "model = Model()\n",
    "b = []\n",
    "for i, ci in enumerate(Costs):       \n",
    "    b.append(model.addVar(lb = 0, ub = 1, obj=ci*Weights[i], name=\"b_{}\".format(i), vtype = GRB.CONTINUOUS))\n",
    "\n",
    "T = quicksum([quicksum([0.01*Cs[j, i]*Weights[i]*b[i] for i in range(n)]) for j in range(4)])\n",
    "Ch = quicksum([0.01*Cs[1, i]*Weights[i]*b[i] for i in range(n)])\n",
    "N = quicksum([0.01*Cs[2, i]*Weights[i]*b[i] for i in range(n)])\n",
    "Fe = quicksum([0.01*Cs[0, i]*Weights[i]*b[i] for i in range(n)])\n",
    "Imp = quicksum([0.01*Cs[3, i]*Weights[i]*b[i] for i in range(n)]) \n",
    "\n",
    "model.addConstr(T>= 100)\n",
    "model.addConstr( Ch == 0.18*T ) # CH\n",
    "model.addConstr( N == 0.10*T ) # NI\n",
    "model.addConstr(Fe >= 0.65*T ) # FE\n",
    "model.addConstr( Imp <= 0.01*T ) # IMP\n",
    "model.update()\n",
    "model.write(\"steel.lp\")\n",
    "model.optimize()\n"
   ]
  },
  {
   "cell_type": "markdown",
   "id": "5a2d0c94",
   "metadata": {},
   "source": [
    "solved in 5 iterations means that he did 5 iterations of the simplex algorithm (which is basically choosing a vertex of the polytope and going on)"
   ]
  },
  {
   "cell_type": "code",
   "execution_count": 63,
   "id": "f10aeffd",
   "metadata": {},
   "outputs": [
    {
     "name": "stdout",
     "output_type": "stream",
     "text": [
      "status: 2\n",
      "objective value 10567.579908675798\n",
      "[0.0, 0.44647387113140485, 0.0, 0.13698630136986276, 0.030441400304414463, 0.968036529680366]\n"
     ]
    }
   ],
   "source": [
    "b_ = [b[i].X for i in range(n)]\n",
    "\n",
    "print(\"status:\", model.Status)\n",
    "print(\"objective value\", model.ObjVal)\n",
    "print(b_)"
   ]
  },
  {
   "cell_type": "markdown",
   "id": "f435afd8",
   "metadata": {},
   "source": [
    "Version of the teacher: (see github in a couple days)"
   ]
  },
  {
   "cell_type": "code",
   "execution_count": null,
   "id": "890f8114",
   "metadata": {},
   "outputs": [
    {
     "name": "stdout",
     "output_type": "stream",
     "text": [
      "Gurobi Optimizer version 12.0.0 build v12.0.0rc1 (win64 - Windows 11.0 (26100.2))\n",
      "\n",
      "CPU model: Intel(R) Core(TM) i3-1005G1 CPU @ 1.20GHz, instruction set [SSE2|AVX|AVX2|AVX512]\n",
      "Thread count: 2 physical cores, 4 logical processors, using up to 4 threads\n",
      "\n",
      "Optimize a model with 5 rows, 6 columns and 28 nonzeros\n",
      "Model fingerprint: 0xa5935a04\n",
      "Coefficient statistics:\n",
      "  Matrix range     [1e-02, 1e+00]\n",
      "  Objective range  [5e+01, 1e+02]\n",
      "  Bounds range     [3e+01, 9e+01]\n",
      "  RHS range        [1e+00, 1e+02]\n",
      "Presolve time: 0.01s\n",
      "Presolved: 5 rows, 6 columns, 28 nonzeros\n",
      "\n",
      "Iteration    Objective       Primal Inf.    Dual Inf.      Time\n",
      "       0    4.6000000e+03   3.475000e+01   0.000000e+00      0s\n",
      "       4    1.0567580e+04   0.000000e+00   0.000000e+00      0s\n",
      "\n",
      "Solved in 4 iterations and 0.03 seconds (0.00 work units)\n",
      "Optimal objective  1.056757991e+04\n"
     ]
    }
   ],
   "source": [
    "model2 = Model()\n",
    "\n",
    "x = [model2.addVar(ub = Weights[i], obj = c) for i, c in enumerate(Costs)]\n",
    "model2.addConstr(quicksum(x[i] for i in range(len(x)))==100)\n",
    "# we assume the cost is by quintals... (in the other is cost by block)\n",
    "model2.addConstr(quicksum(Cs[0,i]/100*x[i] for i in range(len(x)))>= 65)\n",
    "model2.addConstr(quicksum(Cs[1,i]/100*x[i] for i in range(len(x)))== 18)\n",
    "model2.addConstr(quicksum(Cs[2,i]/100*x[i] for i in range(len(x)))== 10)\n",
    "model2.addConstr(quicksum(Cs[3,i]/100*x[i] for i in range(len(x)))<= 1)\n",
    "\n",
    "model2.optimize()"
   ]
  },
  {
   "cell_type": "code",
   "execution_count": 64,
   "id": "802e71ee",
   "metadata": {},
   "outputs": [
    {
     "name": "stdout",
     "output_type": "stream",
     "text": [
      "status: 2\n",
      "objective value 10567.5799086758\n",
      "[0.0, 39.583333333333336, 0.0, 7.291666666666682, 3.124999999999991, 50.0]\n"
     ]
    }
   ],
   "source": [
    "x_ = [x[i].X for i in range(n)]\n",
    "\n",
    "print(\"status:\", model2.Status)\n",
    "print(\"objective value\", model2.ObjVal)\n",
    "print(x_)"
   ]
  },
  {
   "cell_type": "markdown",
   "id": "4c7553d3",
   "metadata": {},
   "source": [
    "Now consider the case when we can buy only full blocks. What happens? When we use the second model, the thing is that when x (weight) is greater than 0, we need to buy the full block so the price is necessarily full.\n",
    "\n",
    "We add another binary variable z such that\n",
    "$$x > 0 \\implies z = 1$$\n",
    "AND $z$ is linked to the price!!!!"
   ]
  },
  {
   "cell_type": "markdown",
   "id": "7f404fe1",
   "metadata": {},
   "source": [
    "We linearize the logical implication as \n",
    "$$x \\leq Mz$$\n",
    "where M is a quantity bigger than any other possible value of x (I choose the sum of ALL weights as an upper bound but can be smaller I think, we can also have $x_i \\leq M*z_i$ with $M = w_i$"
   ]
  },
  {
   "cell_type": "code",
   "execution_count": 57,
   "id": "faa42587",
   "metadata": {},
   "outputs": [
    {
     "name": "stdout",
     "output_type": "stream",
     "text": [
      "Gurobi Optimizer version 12.0.0 build v12.0.0rc1 (win64 - Windows 11.0 (26100.2))\n",
      "\n",
      "CPU model: Intel(R) Core(TM) i3-1005G1 CPU @ 1.20GHz, instruction set [SSE2|AVX|AVX2|AVX512]\n",
      "Thread count: 2 physical cores, 4 logical processors, using up to 4 threads\n",
      "\n",
      "Optimize a model with 11 rows, 12 columns and 40 nonzeros\n",
      "Model fingerprint: 0xe3596b8b\n",
      "Variable types: 6 continuous, 6 integer (6 binary)\n",
      "Coefficient statistics:\n",
      "  Matrix range     [1e-02, 4e+02]\n",
      "  Objective range  [2e+03, 9e+03]\n",
      "  Bounds range     [1e+00, 9e+01]\n",
      "  RHS range        [1e+00, 1e+02]\n",
      "Presolve removed 3 rows and 2 columns\n",
      "Presolve time: 0.00s\n",
      "Presolved: 8 rows, 10 columns, 27 nonzeros\n",
      "Variable types: 6 continuous, 4 integer (4 binary)\n",
      "Found heuristic solution: objective 31720.000000\n",
      "Found heuristic solution: objective 27720.000000\n",
      "\n",
      "Root relaxation: objective 2.622000e+04, 4 iterations, 0.00 seconds (0.00 work units)\n",
      "\n",
      "    Nodes    |    Current Node    |     Objective Bounds      |     Work\n",
      " Expl Unexpl |  Obj  Depth IntInf | Incumbent    BestBd   Gap | It/Node Time\n",
      "\n",
      "*    0     0               0    26220.000000 26220.0000  0.00%     -    0s\n",
      "\n",
      "Explored 1 nodes (4 simplex iterations) in 0.04 seconds (0.00 work units)\n",
      "Thread count was 4 (of 4 available processors)\n",
      "\n",
      "Solution count 3: 26220 27720 31720 \n",
      "\n",
      "Optimal solution found (tolerance 1.00e-04)\n",
      "Best objective 2.622000000000e+04, best bound 2.622000000000e+04, gap 0.0000%\n"
     ]
    }
   ],
   "source": [
    "model3= Model()\n",
    "        # we change obj here, because the cost is not depending on the weights but on the z variable\n",
    "x = [model3.addVar(ub = Weights[i], obj = 0) for i, c in enumerate(Costs)]\n",
    "        # we assume cost by weight, so we need to multiply\n",
    "z = [model3.addVar(vtype = GRB.BINARY, obj = c*Weights[i]) for i, c in enumerate(Costs)]\n",
    "\n",
    "model3.addConstr(quicksum(x[i] for i in range(len(x)))==100)\n",
    "\n",
    "model3.addConstr(quicksum(Cs[0,i]/100*x[i] for i in range(len(x)))>= 65)\n",
    "model3.addConstr(quicksum(Cs[1,i]/100*x[i] for i in range(len(x)))== 18)\n",
    "model3.addConstr(quicksum(Cs[2,i]/100*x[i] for i in range(len(x)))== 10)\n",
    "model3.addConstr(quicksum(Cs[3,i]/100*x[i] for i in range(len(x)))<= 1)\n",
    "\n",
    "# linearised logical impli\n",
    "M = quicksum(Weights)\n",
    "for i in range(n):\n",
    "    model3.addConstr( x[i] <= M*z[i])\n",
    "\n",
    "model3.optimize()"
   ]
  },
  {
   "cell_type": "code",
   "execution_count": 58,
   "id": "8af1eaf0",
   "metadata": {},
   "outputs": [
    {
     "name": "stdout",
     "output_type": "stream",
     "text": [
      "status: 2\n",
      "objective value 26220.0\n",
      "weight vector [0.0, 39.583333333333336, 0.0, 7.291666666666682, 3.124999999999991, 50.0]\n",
      "price vector [-0.0, 1.0, -0.0, 1.0, 1.0, 1.0]\n"
     ]
    }
   ],
   "source": [
    "x_ = [x[i].X for i in range(n)]\n",
    "z_ = [z[i].X for i in range(n)]\n",
    "\n",
    "print(\"status:\", model3.Status)\n",
    "print(\"objective value\", model3.ObjVal)\n",
    "print(\"weight vector\", x_)\n",
    "print(\"price vector\", z_)"
   ]
  },
  {
   "cell_type": "markdown",
   "id": "6cee1a67",
   "metadata": {},
   "source": [
    "Last attempt: "
   ]
  },
  {
   "cell_type": "code",
   "execution_count": 74,
   "id": "5d7bbd98",
   "metadata": {},
   "outputs": [
    {
     "name": "stdout",
     "output_type": "stream",
     "text": [
      "Warning for adding constraints: zero or small (< 1e-13) coefficients, ignored\n",
      "Gurobi Optimizer version 12.0.0 build v12.0.0rc1 (win64 - Windows 11.0 (26100.2))\n",
      "\n",
      "CPU model: Intel(R) Core(TM) i3-1005G1 CPU @ 1.20GHz, instruction set [SSE2|AVX|AVX2|AVX512]\n",
      "Thread count: 2 physical cores, 4 logical processors, using up to 4 threads\n",
      "\n",
      "Optimize a model with 5 rows, 6 columns and 28 nonzeros\n",
      "Model fingerprint: 0x1e392dab\n",
      "Variable types: 0 continuous, 6 integer (6 binary)\n",
      "Coefficient statistics:\n",
      "  Matrix range     [3e-01, 9e+01]\n",
      "  Objective range  [2e+03, 9e+03]\n",
      "  Bounds range     [1e+00, 1e+00]\n",
      "  RHS range        [1e+02, 1e+02]\n",
      "Presolve removed 1 rows and 6 columns\n",
      "Presolve time: 0.00s\n",
      "\n",
      "Explored 0 nodes (0 simplex iterations) in 0.02 seconds (0.00 work units)\n",
      "Thread count was 1 (of 4 available processors)\n",
      "\n",
      "Solution count 0\n",
      "\n",
      "Model is infeasible\n",
      "Best objective -, best bound -, gap -\n"
     ]
    }
   ],
   "source": [
    "model4 = Model()\n",
    "b = []\n",
    "for i, ci in enumerate(Costs):       \n",
    "    b.append(model4.addVar(obj=ci*Weights[i], name=\"b_{}\".format(i), vtype = GRB.BINARY))\n",
    "\n",
    "T = quicksum([quicksum([0.01*Cs[j, i]*Weights[i]*b[i] for i in range(n)]) for j in range(4)])\n",
    "Ch = quicksum([0.01*Cs[1, i]*Weights[i]*b[i] for i in range(n)])\n",
    "N = quicksum([0.01*Cs[2, i]*Weights[i]*b[i] for i in range(n)])\n",
    "Fe = quicksum([0.01*Cs[0, i]*Weights[i]*b[i] for i in range(n)])\n",
    "Imp = quicksum([0.01*Cs[3, i]*Weights[i]*b[i] for i in range(n)]) \n",
    "\n",
    "model4.addConstr(T >= 100)\n",
    "model4.addConstr( Ch == 0.18*T ) # CH\n",
    "model4.addConstr( N == 0.10*T ) # NI\n",
    "model4.addConstr(Fe >= 0.65*T ) # FE\n",
    "model4.addConstr( Imp <= 0.01*T ) # IMP\n",
    "model4.update()\n",
    "# model4.write(\"steel.lp\")\n",
    "model4.optimize()\n"
   ]
  },
  {
   "cell_type": "code",
   "execution_count": null,
   "id": "a6e47cbc",
   "metadata": {},
   "outputs": [],
   "source": []
  },
  {
   "cell_type": "markdown",
   "id": "a29ca7d9",
   "metadata": {},
   "source": [
    "We see that the objective value increases (makes sense, since we are )"
   ]
  },
  {
   "cell_type": "markdown",
   "id": "e7ee7203",
   "metadata": {},
   "source": [
    "**EXERCISE 3:** First, write on paper a LP model to solve the steel production problem for the Rossi's Steel company\n",
    "\n",
    "**EXERCISE 4:** Solve the LP using Gurobi. "
   ]
  },
  {
   "cell_type": "markdown",
   "id": "01f88890",
   "metadata": {},
   "source": [
    "### Exercise 2.6: The Magic Square Puzzle\n",
    "The [Magic Square](https://en.wikipedia.org/wiki/Magic_square) puzzle asks to place into a grid of size $n \\times n$ the digits from $1$ to $n^2$, in such a way that the sum of the digits in each row, the sum of digits in each column, and the sum of the digits on the two main diagonals, is equal to the same number.\n",
    "\n",
    "You can play with a $4 \\times 4$ puzzle on Google Sheet online at [magic square link](https://docs.google.com/spreadsheets/d/1OcicQdKbZXpSV4ooXsbGC2OFR5cSgwgWgUimdwcT0qA/edit?usp=sharing).\n",
    "\n",
    "**EXERCISE 5:** Write an ILP model to solve the magic square puzzle of size $n$."
   ]
  },
  {
   "cell_type": "code",
   "execution_count": 18,
   "id": "11784c83",
   "metadata": {},
   "outputs": [],
   "source": [
    "# Write your model here"
   ]
  }
 ],
 "metadata": {
  "@webio": {
   "lastCommId": null,
   "lastKernelId": null
  },
  "kernelspec": {
   "display_name": "base",
   "language": "python",
   "name": "python3"
  },
  "language_info": {
   "codemirror_mode": {
    "name": "ipython",
    "version": 3
   },
   "file_extension": ".py",
   "mimetype": "text/x-python",
   "name": "python",
   "nbconvert_exporter": "python",
   "pygments_lexer": "ipython3",
   "version": "3.12.7"
  }
 },
 "nbformat": 4,
 "nbformat_minor": 5
}

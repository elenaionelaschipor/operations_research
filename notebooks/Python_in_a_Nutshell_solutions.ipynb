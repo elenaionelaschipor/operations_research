{
 "cells": [
  {
   "cell_type": "markdown",
   "metadata": {},
   "source": [
    "<a rel=\"license\" href=\"http://creativecommons.org/licenses/by/4.0/\"><img alt=\"Creative Commons License\" style=\"border-width:0\" src=\"https://i.creativecommons.org/l/by/4.0/88x31.png\" /></a><br /><span xmlns:dct=\"http://purl.org/dc/terms/\" property=\"dct:title\"><b>Python in a Nutshell (Solutions)</b></span> by <a xmlns:cc=\"http://creativecommons.org/ns#\" href=\"http://mate.unipv.it/gualandi\" property=\"cc:attributionName\" rel=\"cc:attributionURL\">Stefano Gualandi</a> is licensed under a <a rel=\"license\" href=\"http://creativecommons.org/licenses/by/4.0/\">Creative Commons Attribution 4.0 International License</a>.<br />Based on the lectures available at <a xmlns:dct=\"http://purl.org/dc/terms/\" href=\"https://github.com/mathcoding/opt4ds\" rel=\"dct:source\">https://github.com/mathcoding/opt4ds</a>."
   ]
  },
  {
   "cell_type": "markdown",
   "metadata": {},
   "source": [
    "# Solutions to Exercises in Notebook 1\n",
    "We report below the solution of the final exercise in Notebook 1 *Python in a nutshell*:\n",
    "\n",
    "1. Implement and test a class that implements a point $p \\in \\mathbb{R}^3$\n",
    "2. Implement and test a class that implements a discrete probability measures supported in $p \\in \\mathbb{R}^3$\n",
    "3. Plot two discrete probability measures using **mnatplotlib**"
   ]
  },
  {
   "cell_type": "markdown",
   "metadata": {},
   "source": [
    "## Exercise 1: Point 3D"
   ]
  },
  {
   "cell_type": "code",
   "execution_count": null,
   "metadata": {},
   "outputs": [],
   "source": [
    "class Point3D(object):\n",
    "  def __init__(self, x1=0, x2=0, x3=0):\n",
    "    self.x1 = x1\n",
    "    self.x2 = x2\n",
    "    self.x3 = x3\n",
    "\n",
    "  def __str__(self):\n",
    "    return \"(x1 = {:.3f}, x2 = {:.3f}, x3 = {:.3f})\".format(self.x1, self.x2, self.x3)\n",
    "    \n",
    "  def __repr__(self):\n",
    "    return self.__str__()"
   ]
  },
  {
   "cell_type": "markdown",
   "metadata": {},
   "source": [
    "We can test the class defining manually three points:"
   ]
  },
  {
   "cell_type": "code",
   "execution_count": null,
   "metadata": {},
   "outputs": [],
   "source": [
    "P1 = Point3D()\n",
    "P2 = Point3D(1, 1, 1)\n",
    "P3 = Point3D(x3 = -1)\n",
    "print(P1)\n",
    "print(P2)\n",
    "print(P3)"
   ]
  },
  {
   "cell_type": "markdown",
   "metadata": {},
   "source": [
    "We can also use the random library to create 10 random points."
   ]
  },
  {
   "cell_type": "code",
   "execution_count": null,
   "metadata": {},
   "outputs": [],
   "source": [
    "# Import functions fromt the \"random\" library\n",
    "from random import random, uniform, seed\n",
    "\n",
    "# Fix the seed for reproducibility\n",
    "seed(13)\n",
    "\n",
    "# Generate a list of 10 random points\n",
    "Xs = []\n",
    "for _ in range(10):\n",
    "  Xs.append(Point3D(random(), random(), random()))\n",
    "print(Xs)"
   ]
  },
  {
   "cell_type": "markdown",
   "metadata": {},
   "source": [
    "## Exercise 2: Discrete Probability Measure"
   ]
  },
  {
   "cell_type": "code",
   "execution_count": null,
   "metadata": {},
   "outputs": [],
   "source": [
    "class DiscreteMeasure(object):\n",
    "  def __init__(self, n, a=0, b=100):\n",
    "    # Sample n random points in R^3\n",
    "    self.Xs = [Point3D(uniform(a, b), uniform(a, b), uniform(a, b)) for _ in range(n)]\n",
    "    # Sample a random point of the simplex of dimension n\n",
    "    Ws = []\n",
    "    for _ in range(n):\n",
    "      Ws.append(random())\n",
    "    tot = sum(Ws)\n",
    "    for i, w in enumerate(Ws):\n",
    "      Ws[i] = w/tot\n",
    "    self.Ws = Ws\n",
    "\n",
    "  def __str__(self):\n",
    "    s = \"{\"\n",
    "    for i, (x, w) in enumerate(zip(self.Xs, self.Ws)):\n",
    "      s += \"[w_{} = {}, p_{} = {}],\\n\".format(i, str(w), i, str(x))\n",
    "    s += '}'\n",
    "    return s.replace(',\\n}','}')\n",
    "\n",
    "  def __repr__(self):\n",
    "    return self.__str__()"
   ]
  },
  {
   "cell_type": "markdown",
   "metadata": {},
   "source": [
    "We can create a measure supported on 5 points."
   ]
  },
  {
   "cell_type": "code",
   "execution_count": null,
   "metadata": {},
   "outputs": [],
   "source": [
    "delta = DiscreteMeasure(5)\n",
    "print(delta)"
   ]
  },
  {
   "cell_type": "markdown",
   "metadata": {},
   "source": [
    "## Exercise 3: Plot two discrete measures"
   ]
  },
  {
   "cell_type": "code",
   "execution_count": null,
   "metadata": {},
   "outputs": [],
   "source": [
    "# Two random discrete distributions\n",
    "mu = DiscreteMeasure(40, 10, 30)\n",
    "nu = DiscreteMeasure(100, 25, 50)\n",
    "\n",
    "# Import of plot libraries\n",
    "import matplotlib.pyplot as plt\n",
    "from mpl_toolkits.mplot3d import Axes3D\n",
    "\n",
    "# Create a figure\n",
    "fig = plt.figure(figsize=(8,6))\n",
    "ax = Axes3D(fig)\n",
    "\n",
    "# Scatter plot of first distribution\n",
    "ax.scatter([p.x1 for p in mu.Xs], \n",
    "           [p.x2 for p in mu.Xs],\n",
    "           [p.x3 for p in mu.Xs],\n",
    "           s=[(2000*w) for w in mu.Ws],  # Dot size linear with weights value\n",
    "           color='darkblue', alpha=0.3,  # Set color and transparency\n",
    "           marker='o')\n",
    "\n",
    "# Scatter plot of second distribution\n",
    "ax.scatter([p.x1 for p in nu.Xs], \n",
    "           [p.x2 for p in nu.Xs],\n",
    "           [p.x3 for p in nu.Xs], \n",
    "           s=[(2000*w) for w in nu.Ws],  # Dot size linear with weights value\n",
    "           color='red', alpha=0.3,       # Set color and transparency\n",
    "           marker='o')\n",
    "\n",
    "# Labels for axis\n",
    "ax.set_xlabel('X')\n",
    "ax.set_ylabel('Y')\n",
    "ax.set_zlabel('Z')\n",
    "# Visualize the plot\n",
    "plt.show()"
   ]
  }
 ],
 "metadata": {
  "kernelspec": {
   "display_name": "Python 3.11.2 64-bit",
   "language": "python",
   "name": "python3"
  },
  "language_info": {
   "codemirror_mode": {
    "name": "ipython",
    "version": 3
   },
   "file_extension": ".py",
   "mimetype": "text/x-python",
   "name": "python",
   "nbconvert_exporter": "python",
   "pygments_lexer": "ipython3",
   "version": "3.11.2"
  },
  "orig_nbformat": 4,
  "vscode": {
   "interpreter": {
    "hash": "b0fa6594d8f4cbf19f97940f81e996739fb7646882a419484c72d19e05852a7e"
   }
  }
 },
 "nbformat": 4,
 "nbformat_minor": 2
}

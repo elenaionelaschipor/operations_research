{
 "cells": [
  {
   "cell_type": "markdown",
   "id": "specified-functionality",
   "metadata": {},
   "source": [
    "<a rel=\"license\" href=\"http://creativecommons.org/licenses/by/4.0/\"><img alt=\"Creative Commons License\" style=\"border-width:0\" src=\"https://i.creativecommons.org/l/by/4.0/88x31.png\" /></a><br /><span xmlns:dct=\"http://purl.org/dc/terms/\" property=\"dct:title\"><b>Solving the Lego Planning Problem with Pyomo and Glpk</b></span> by <a xmlns:cc=\"http://creativecommons.org/ns#\" href=\"http://mate.unipv.it/gualandi\" property=\"cc:attributionName\" rel=\"cc:attributionURL\">Stefano Gualandi</a> is licensed under a <a rel=\"license\" href=\"http://creativecommons.org/licenses/by/4.0/\">Creative Commons Attribution 4.0 International License</a>. Based on a project at <a xmlns:dct=\"http://purl.org/dc/terms/\" href=\"https://github.com/mathcoding/opt4ds\" rel=\"dct:source\">https://github.com/mathcoding/opt4ds</a>."
   ]
  },
  {
   "cell_type": "markdown",
   "id": "synthetic-hollow",
   "metadata": {},
   "source": [
    "# 2.2 Solving the Lego Planning Problem\n",
    "\n",
    "In this notebook, we show how to write the following **Linear Programming** model to solve the Lego Planning problem (see the slides on KIRO):\n",
    "\n",
    "$$\n",
    "\\begin{align}\n",
    "\\max \\quad & 8 c + 11 t  \\\\\n",
    " \\quad & 2c + 2t \\leq 24 \\\\\n",
    "& c + 2 t \\leq 18\\\\\n",
    "& c \\geq 0\\\\\n",
    "& t \\geq 0\n",
    "\\end{align}\n",
    "$$\n",
    "\n",
    "\n",
    "First, we need to install the [Gurobi](http://www.gurobi.org/). If you are running this notebook in a Colab, you don't need to install anything else on your computer.\n",
    "\n",
    "The following line installs the free version of Gurobi in a Google Colab or on you computer."
   ]
  },
  {
   "cell_type": "code",
   "execution_count": null,
   "id": "22927bb8",
   "metadata": {},
   "outputs": [],
   "source": [
    "# Run if on Colab\n",
    "# %pip install gurobipy"
   ]
  },
  {
   "cell_type": "markdown",
   "id": "junior-excellence",
   "metadata": {},
   "source": [
    "### 2.2.1 Define the model entities\n",
    "To build the Linear Programming model with Gurobi, we need first to import the Gurobi python library:"
   ]
  },
  {
   "cell_type": "code",
   "execution_count": 1,
   "id": "better-affect",
   "metadata": {},
   "outputs": [],
   "source": [
    "from gurobipy import Model, GRB"
   ]
  },
  {
   "cell_type": "markdown",
   "id": "progressive-shepherd",
   "metadata": {},
   "source": [
    "At this point, we first declare a global object that refer to our model:"
   ]
  },
  {
   "cell_type": "code",
   "execution_count": 16,
   "id": "imperial-taylor",
   "metadata": {},
   "outputs": [],
   "source": [
    "model = Model()"
   ]
  },
  {
   "cell_type": "markdown",
   "id": "suburban-denial",
   "metadata": {},
   "source": [
    "Then we star by declaring the two non/negative variables:"
   ]
  },
  {
   "cell_type": "code",
   "execution_count": 17,
   "id": "hearing-sapphire",
   "metadata": {},
   "outputs": [],
   "source": [
    "# declare decision variables (todo: read the docunmentation \n",
    "#   to understand the default values of parameters)\n",
    "c = model.addVar(obj=8, name='x_c')\n",
    "t = model.addVar(obj=11, name='x_t')"
   ]
  },
  {
   "cell_type": "markdown",
   "id": "opening-lender",
   "metadata": {},
   "source": [
    "Here, we add variable `c` and `t` to the model. Notice that we are declaring the two variables $c \\geq 0, t \\geq 0$ (because of the default values of `addVar`)."
   ]
  },
  {
   "cell_type": "markdown",
   "id": "d46a2d63",
   "metadata": {},
   "source": [
    "We need to specify a direction for the objective function: min or max"
   ]
  },
  {
   "cell_type": "code",
   "execution_count": 18,
   "id": "8ed99fdf",
   "metadata": {},
   "outputs": [],
   "source": [
    "model.ModelSense = GRB.MAXIMIZE"
   ]
  },
  {
   "cell_type": "markdown",
   "id": "marked-prerequisite",
   "metadata": {},
   "source": [
    "Next step is to introduce the two linear constraints:"
   ]
  },
  {
   "cell_type": "code",
   "execution_count": 19,
   "id": "gothic-advisory",
   "metadata": {},
   "outputs": [],
   "source": [
    "# Declare constraints\n",
    "smallPieces = model.addConstr(2*c + 2*t <= 24)\n",
    "largePieces = model.addConstr(1*c + 2*t <= 18)"
   ]
  },
  {
   "cell_type": "markdown",
   "id": "central-current",
   "metadata": {},
   "source": [
    "Notice that we are **declaring** the model, without programming any algorithm to actually solve this model. To find the optimal solution of this LP, we are going to use the Integer Linear Programming solver implemented in Gurobi."
   ]
  },
  {
   "cell_type": "markdown",
   "id": "dcce8593",
   "metadata": {},
   "source": [
    "Before we update our model (todo: check the documentation for [model.update]())"
   ]
  },
  {
   "cell_type": "code",
   "execution_count": 20,
   "id": "ea1d7614",
   "metadata": {},
   "outputs": [],
   "source": [
    "model.update()"
   ]
  },
  {
   "cell_type": "markdown",
   "id": "cross-bowling",
   "metadata": {},
   "source": [
    "### 2.2.2 Solve the model\n",
    "We have use the type of objects of the Gurobi library to *declare* our Linear Programming model. Next, we have to use a solver to find the optimal values for the two decision variables.\n",
    "\n",
    "**REMARK:** It is very important to learn to read the logs."
   ]
  },
  {
   "cell_type": "code",
   "execution_count": 21,
   "id": "light-parks",
   "metadata": {},
   "outputs": [
    {
     "name": "stdout",
     "output_type": "stream",
     "text": [
      "Gurobi Optimizer version 10.0.3 build v10.0.3rc0 (mac64[arm])\n",
      "\n",
      "CPU model: Apple M2\n",
      "Thread count: 8 physical cores, 8 logical processors, using up to 8 threads\n",
      "\n",
      "Optimize a model with 2 rows, 2 columns and 4 nonzeros\n",
      "Model fingerprint: 0x1140d349\n",
      "Coefficient statistics:\n",
      "  Matrix range     [1e+00, 2e+00]\n",
      "  Objective range  [8e+00, 1e+01]\n",
      "  Bounds range     [0e+00, 0e+00]\n",
      "  RHS range        [2e+01, 2e+01]\n",
      "Presolve time: 0.00s\n",
      "Presolved: 2 rows, 2 columns, 4 nonzeros\n",
      "\n",
      "Iteration    Objective       Primal Inf.    Dual Inf.      Time\n",
      "       0    1.9000000e+31   3.500000e+30   1.900000e+01      0s\n",
      "       2    1.1400000e+02   0.000000e+00   0.000000e+00      0s\n",
      "\n",
      "Solved in 2 iterations and 0.00 seconds (0.00 work units)\n",
      "Optimal objective  1.140000000e+02\n"
     ]
    }
   ],
   "source": [
    "model.optimize()"
   ]
  },
  {
   "cell_type": "markdown",
   "id": "original-cleaner",
   "metadata": {},
   "source": [
    "Every time we invoke a solver, it is very good practice to check the status of the solver, since it may have stop its execution for several different reasons:"
   ]
  },
  {
   "cell_type": "code",
   "execution_count": 22,
   "id": "bound-ending",
   "metadata": {},
   "outputs": [
    {
     "name": "stdout",
     "output_type": "stream",
     "text": [
      "Status: 2, ObjVal: 114.0\n"
     ]
    }
   ],
   "source": [
    "# Basic info about the solution process\n",
    "print(f\"Status: {model.Status}, ObjVal: {model.ObjVal}\")"
   ]
  },
  {
   "cell_type": "markdown",
   "id": "adjustable-gospel",
   "metadata": {},
   "source": [
    "Whenever the status of the solver is 2 (=OK), we can query the solver to get the optimal value of the objective function and of the decision variables."
   ]
  },
  {
   "cell_type": "code",
   "execution_count": 23,
   "id": "material-commerce",
   "metadata": {},
   "outputs": [
    {
     "name": "stdout",
     "output_type": "stream",
     "text": [
      "Optimal solution value: z = 114.0\n",
      "Decision variables:\n",
      "\tProduction of chairs: 6.0\n",
      "\tProduction of tables: 6.0\n"
     ]
    }
   ],
   "source": [
    "# Report solution value\n",
    "print(\"Optimal solution value: z =\", model.ObjVal)\n",
    "print(\"Decision variables:\")\n",
    "print(\"\\tProduction of chairs:\", c.X)\n",
    "print(\"\\tProduction of tables:\", t.X)"
   ]
  },
  {
   "cell_type": "markdown",
   "id": "certain-timing",
   "metadata": {},
   "source": [
    "As we found manually during the *Active Learning* session, the optimal production plan is to build 6 chairs and 6 tables, to get a profit of 114 kroner."
   ]
  },
  {
   "cell_type": "markdown",
   "id": "metric-insured",
   "metadata": {},
   "source": [
    "It is also possible to check the model passed to the solver with the following command:"
   ]
  },
  {
   "cell_type": "code",
   "execution_count": 10,
   "id": "renewable-literature",
   "metadata": {},
   "outputs": [
    {
     "data": {
      "text/plain": [
       "('lego1.lp', 4882522192)"
      ]
     },
     "execution_count": 10,
     "metadata": {},
     "output_type": "execute_result"
    }
   ],
   "source": [
    "# model.write('lego1.lp')"
   ]
  },
  {
   "cell_type": "markdown",
   "id": "greek-miracle",
   "metadata": {},
   "source": [
    "### 2.2.3 Complete Script\n",
    "We report below the complete script."
   ]
  },
  {
   "cell_type": "code",
   "execution_count": 24,
   "id": "judicial-michigan",
   "metadata": {},
   "outputs": [
    {
     "name": "stdout",
     "output_type": "stream",
     "text": [
      "Gurobi Optimizer version 10.0.3 build v10.0.3rc0 (mac64[arm])\n",
      "\n",
      "CPU model: Apple M2\n",
      "Thread count: 8 physical cores, 8 logical processors, using up to 8 threads\n",
      "\n",
      "Optimize a model with 2 rows, 2 columns and 4 nonzeros\n",
      "Model fingerprint: 0x1140d349\n",
      "Coefficient statistics:\n",
      "  Matrix range     [1e+00, 2e+00]\n",
      "  Objective range  [8e+00, 1e+01]\n",
      "  Bounds range     [0e+00, 0e+00]\n",
      "  RHS range        [2e+01, 2e+01]\n",
      "Presolve time: 0.00s\n",
      "Presolved: 2 rows, 2 columns, 4 nonzeros\n",
      "\n",
      "Iteration    Objective       Primal Inf.    Dual Inf.      Time\n",
      "       0    1.9000000e+31   3.500000e+30   1.900000e+01      0s\n",
      "       2    1.1400000e+02   0.000000e+00   0.000000e+00      0s\n",
      "\n",
      "Solved in 2 iterations and 0.01 seconds (0.00 work units)\n",
      "Optimal objective  1.140000000e+02\n",
      "Optimal solution value: z = 114.0\n",
      "Decision variables:\n",
      "\tProduction of chairs: 6.0\n",
      "\tProduction of tables: 6.0\n",
      "Status: 2, ObjVal: 114.0\n"
     ]
    }
   ],
   "source": [
    "from gurobipy import Model, GRB\n",
    "\n",
    "model = Model()\n",
    "\n",
    "# declare decision variables (todo: read the docunmentation \n",
    "#   to understand the default values of parameters)\n",
    "c = model.addVar(obj=8, name='x_c')\n",
    "t = model.addVar(obj=11, name='x_t')\n",
    "\n",
    "model.ModelSense = GRB.MAXIMIZE\n",
    "\n",
    "# Declare constraints\n",
    "smallPieces = model.addConstr(2*c + 2*t <= 24)\n",
    "largePieces = model.addConstr(1*c + 2*t <= 18)\n",
    "\n",
    "model.optimize()\n",
    "\n",
    "# Basic info about the solution process\n",
    "print(f\"Status: {model.Status}, ObjVal: {model.ObjVal}\")\n",
    "\n",
    "# Report solution value\n",
    "print(\"Optimal solution value: z =\", model.ObjVal)\n",
    "print(\"Decision variables:\")\n",
    "print(\"\\tProduction of chairs:\", c.X)\n",
    "print(\"\\tProduction of tables:\", t.X)\n",
    "\n",
    "# Basic info about the solution process\n",
    "print(f\"Status: {model.Status}, ObjVal: {model.ObjVal}\")"
   ]
  },
  {
   "cell_type": "markdown",
   "id": "threaded-draft",
   "metadata": {},
   "source": [
    "## 2.2.4 Exercise: three variables\n",
    "As an exercise, you have to modify the previous script to solve the second version of the Lego Planning problem, with a second type of danisk table:\n",
    "\n",
    "$$\n",
    "\\begin{align}\n",
    "\\max \\quad & 8 c + 11 t + 15 s \\\\\n",
    " \\quad & 2c + 2t +2s \\leq 24 \\\\\n",
    "& c + 2 t +3s \\leq 18\\\\\n",
    "& c \\geq 0\\\\\n",
    "& t \\geq 0\\\\\n",
    "& s \\geq 0\n",
    "\\end{align}\n",
    "$$\n",
    "\n",
    "Basically, you have to add a third variable to the model, to modify the objective function, and the two constraints. Later, you call the solver again."
   ]
  },
  {
   "cell_type": "code",
   "execution_count": null,
   "id": "taken-february",
   "metadata": {},
   "outputs": [],
   "source": [
    "# TO BE COMPLETED ..."
   ]
  }
 ],
 "metadata": {
  "@webio": {
   "lastCommId": null,
   "lastKernelId": null
  },
  "kernelspec": {
   "display_name": "Python 3.11.2 64-bit",
   "language": "python",
   "name": "python3"
  },
  "language_info": {
   "codemirror_mode": {
    "name": "ipython",
    "version": 3
   },
   "file_extension": ".py",
   "mimetype": "text/x-python",
   "name": "python",
   "nbconvert_exporter": "python",
   "pygments_lexer": "ipython3",
   "version": "3.11.5"
  },
  "vscode": {
   "interpreter": {
    "hash": "b0fa6594d8f4cbf19f97940f81e996739fb7646882a419484c72d19e05852a7e"
   }
  }
 },
 "nbformat": 4,
 "nbformat_minor": 5
}

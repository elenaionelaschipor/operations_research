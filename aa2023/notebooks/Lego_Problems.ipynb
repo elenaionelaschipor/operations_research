{
 "cells": [
  {
   "cell_type": "markdown",
   "id": "specified-functionality",
   "metadata": {},
   "source": [
    "<a rel=\"license\" href=\"http://creativecommons.org/licenses/by/4.0/\"><img alt=\"Creative Commons License\" style=\"border-width:0\" src=\"https://i.creativecommons.org/l/by/4.0/88x31.png\" /></a><br /><span xmlns:dct=\"http://purl.org/dc/terms/\" property=\"dct:title\"><b>Solving the Lego Planning Problem with Pyomo and Glpk</b></span> by <a xmlns:cc=\"http://creativecommons.org/ns#\" href=\"http://mate.unipv.it/gualandi\" property=\"cc:attributionName\" rel=\"cc:attributionURL\">Stefano Gualandi</a> is licensed under a <a rel=\"license\" href=\"http://creativecommons.org/licenses/by/4.0/\">Creative Commons Attribution 4.0 International License</a>. Based on a project at <a xmlns:dct=\"http://purl.org/dc/terms/\" href=\"https://github.com/mathcoding/opt4ds\" rel=\"dct:source\">https://github.com/mathcoding/opt4ds</a>."
   ]
  },
  {
   "cell_type": "markdown",
   "id": "synthetic-hollow",
   "metadata": {},
   "source": [
    "# 2. Solving the Lego Planning Problem\n",
    "\n",
    "In this notebook, we explain how to solve **Linear Programming** problem that we have written to model the Lego Planning problem (see the slides on KIRO):\n",
    "\n",
    "$$\n",
    "\\begin{align}\n",
    "\\max \\quad & 8 c + 11 t  \\\\\n",
    " \\quad & 2c + 2t \\leq 24 \\\\\n",
    "& c + 2 t \\leq 18\\\\\n",
    "& c \\geq 0\\\\\n",
    "& t \\geq 0\n",
    "\\end{align}\n",
    "$$\n",
    "\n",
    "We show below how to use Pyomo to define the **variables**, the **objective function**, and the **constraints**.\n",
    "\n",
    "First, we need to install the [Pyomo](http://www.pyomo.org/) modeling language and the [GLPK](https://www.gnu.org/software/glpk/) open source solver, as explained in the following section."
   ]
  },
  {
   "cell_type": "markdown",
   "id": "military-showcase",
   "metadata": {},
   "source": [
    "## 2.1 Software Installation\n",
    "If you are running this notebook in a Colab, you don't need to install anything else on your computer.\n",
    "\n",
    "Otherwise, if you have installed the recommended Anaconda Python distribution, you have to run the following two commands:\n",
    "\n",
    "1. To install the [Pyomo](http://www.pyomo.org/) optimization modeling language:\n",
    "\n",
    "```\n",
    "conda install -c conda-forge pyomo\n",
    "```\n",
    "\n",
    "2. To install the open source [GLPK](https://www.gnu.org/software/glpk/) solver:\n",
    "\n",
    "```\n",
    "conda install -c conda-forge glpk\n",
    "```\n",
    "\n",
    "3. (Optional) You can install some extra packages of Pyomo using the following command:\n",
    "\n",
    "```\n",
    "conda install -c conda-forge pyomo.extras\n",
    "```\n",
    "\n",
    "For details about the Pyomo installation, we refer to the official [Pyomo Documentation](https://pyomo.readthedocs.io/en/stable/)."
   ]
  },
  {
   "cell_type": "markdown",
   "id": "injured-immunology",
   "metadata": {},
   "source": [
    "The following lines are for running this notebook in a Google Colab:"
   ]
  },
  {
   "cell_type": "code",
   "execution_count": null,
   "id": "concrete-digest",
   "metadata": {},
   "outputs": [],
   "source": [
    "import shutil\n",
    "import sys\n",
    "import os.path\n",
    "\n",
    "if not shutil.which(\"pyomo\"):\n",
    "    !pip install -q pyomo\n",
    "    assert(shutil.which(\"pyomo\"))\n",
    "\n",
    "if not (shutil.which(\"glpk\") or os.path.isfile(\"glpk\")):\n",
    "    if \"google.colab\" in sys.modules:\n",
    "        !apt-get install -y -qq glpk-utils\n",
    "    else:\n",
    "        try:\n",
    "            !conda install -c conda-forge glpk \n",
    "        except:\n",
    "            pass"
   ]
  },
  {
   "cell_type": "markdown",
   "id": "junior-excellence",
   "metadata": {},
   "source": [
    "## 2.2 Define the model entities\n",
    "To build the Linear Programming model with Pyomo, we need first to import the Pyomo library:"
   ]
  },
  {
   "cell_type": "code",
   "execution_count": 1,
   "id": "better-affect",
   "metadata": {},
   "outputs": [],
   "source": [
    "from pyomo.environ import *"
   ]
  },
  {
   "cell_type": "markdown",
   "id": "progressive-shepherd",
   "metadata": {},
   "source": [
    "At this point, we first declare a global object that refer to our model:"
   ]
  },
  {
   "cell_type": "code",
   "execution_count": 2,
   "id": "imperial-taylor",
   "metadata": {},
   "outputs": [],
   "source": [
    "model = ConcreteModel()"
   ]
  },
  {
   "cell_type": "markdown",
   "id": "suburban-denial",
   "metadata": {},
   "source": [
    "Notice the `ConcreteModel` is a python class, and we are initializing an object called `model` of type `ConcreteModel`.\n",
    "\n",
    "Then we star by declaring the two non/negative variables:"
   ]
  },
  {
   "cell_type": "code",
   "execution_count": 3,
   "id": "hearing-sapphire",
   "metadata": {},
   "outputs": [],
   "source": [
    "# declare decision variables\n",
    "model.c = Var(domain=NonNegativeReals)\n",
    "model.t = Var(domain=NonNegativeReals)"
   ]
  },
  {
   "cell_type": "markdown",
   "id": "opening-lender",
   "metadata": {},
   "source": [
    "Here, we add variable `c` and `t` to the model. The two variables are of type `Var`, and we are passing as input to the constructor the parameter `NonNegativeReals`. That is, we are declaring the two variables $c \\geq 0, t \\geq 0$."
   ]
  },
  {
   "cell_type": "markdown",
   "id": "brave-starter",
   "metadata": {},
   "source": [
    "Next, we declare the objective function."
   ]
  },
  {
   "cell_type": "code",
   "execution_count": 4,
   "id": "atomic-enterprise",
   "metadata": {},
   "outputs": [],
   "source": [
    "# Declare objective\n",
    "model.cost = Objective(\n",
    "    expr =  8*model.c + 11*model.t,\n",
    "    sense = maximize)"
   ]
  },
  {
   "cell_type": "markdown",
   "id": "wanted-consequence",
   "metadata": {},
   "source": [
    "In this case, we are adding the variable `cost`  to our model, that is an instance of an object of type `Objective`. The constructor is called with a linear expression `8*model.c + 11*model.t`, and we denote the sense of the objective function as `maximize`."
   ]
  },
  {
   "cell_type": "markdown",
   "id": "marked-prerequisite",
   "metadata": {},
   "source": [
    "Next step is to introduce the two linear constraints:"
   ]
  },
  {
   "cell_type": "code",
   "execution_count": 5,
   "id": "gothic-advisory",
   "metadata": {},
   "outputs": [],
   "source": [
    "# Declare constraints\n",
    "model.cnstr1 = Constraint(expr = 2*model.c + 2*model.t <= 24)\n",
    "model.cnstr2 = Constraint(expr = 1*model.c + 2*model.t <= 18)"
   ]
  },
  {
   "cell_type": "markdown",
   "id": "central-current",
   "metadata": {},
   "source": [
    "We have used here a third type of objects, namely the `Constraint` class, giving in input the two linear relation.\n",
    "\n",
    "Notice that we are **declaring** the model, without programming any algorithm to actually solve this model. To find the optimal solution of this LP, we are going to use the Integer Linear Programming solver GLPK."
   ]
  },
  {
   "cell_type": "markdown",
   "id": "cross-bowling",
   "metadata": {},
   "source": [
    "## 2.3 Solve the model\n",
    "We have use the type of objects of the Pyomo library to *declare* our Linear Programming model. Next, we have to use a solver to find the optima value for the decision variables.\n",
    "\n",
    "With Pyomo, we are not constrained to use a specific solver. In this notebook, for the sake of simplicity, we use the GLPK solver as follows, where we set the parameter `tee=True`, in order to see the logs produced by the solver."
   ]
  },
  {
   "cell_type": "code",
   "execution_count": 7,
   "id": "light-parks",
   "metadata": {},
   "outputs": [
    {
     "name": "stdout",
     "output_type": "stream",
     "text": [
      "GLPSOL--GLPK LP/MIP Solver 5.0\n",
      "Parameter(s) specified in the command line:\n",
      " --write /var/folders/8l/pw0xts197510cxsrqkcgdqdh0000gn/T/tmpjba2qr23.glpk.raw\n",
      " --wglp /var/folders/8l/pw0xts197510cxsrqkcgdqdh0000gn/T/tmpc85s2k1d.glpk.glp\n",
      " --cpxlp /var/folders/8l/pw0xts197510cxsrqkcgdqdh0000gn/T/tmpwo9316l8.pyomo.lp\n",
      "Reading problem data from '/var/folders/8l/pw0xts197510cxsrqkcgdqdh0000gn/T/tmpwo9316l8.pyomo.lp'...\n",
      "3 rows, 3 columns, 5 non-zeros\n",
      "26 lines were read\n",
      "Writing problem data to '/var/folders/8l/pw0xts197510cxsrqkcgdqdh0000gn/T/tmpc85s2k1d.glpk.glp'...\n",
      "19 lines were written\n",
      "GLPK Simplex Optimizer 5.0\n",
      "3 rows, 3 columns, 5 non-zeros\n",
      "Preprocessing...\n",
      "2 rows, 2 columns, 4 non-zeros\n",
      "Scaling...\n",
      " A: min|aij| =  1.000e+00  max|aij| =  2.000e+00  ratio =  2.000e+00\n",
      "Problem data seem to be well scaled\n",
      "Constructing initial basis...\n",
      "Size of triangular part is 2\n",
      "*     0: obj =  -0.000000000e+00 inf =   0.000e+00 (2)\n",
      "*     2: obj =   1.140000000e+02 inf =   0.000e+00 (0)\n",
      "OPTIMAL LP SOLUTION FOUND\n",
      "Time used:   0.0 secs\n",
      "Memory used: 0.0 Mb (40412 bytes)\n",
      "Writing basic solution to '/var/folders/8l/pw0xts197510cxsrqkcgdqdh0000gn/T/tmpjba2qr23.glpk.raw'...\n",
      "15 lines were written\n"
     ]
    }
   ],
   "source": [
    "# Solver path\n",
    "solvername='glpk'\n",
    "# WARNING: The following path depends on your file system (windows, unix, mac)\n",
    "# On Colab you can omit the executable paramater\n",
    "solverpath_folder='/Users/gualandi/solvers/glpk/bin/' \n",
    "solverpath_exe=solverpath_folder+'glpsol'\n",
    "\n",
    "# Solve the LP model\n",
    "#sol = SolverFactory('glpk').solve(model, tee=True)\n",
    "\n",
    "sol = SolverFactory(solvername, executable=solverpath_exe).solve(model, tee=True)"
   ]
  },
  {
   "cell_type": "markdown",
   "id": "original-cleaner",
   "metadata": {},
   "source": [
    "Every time we invoke a solver, it is very good practice to check the status of the solver, since it may have stop its execution for several different reasons:"
   ]
  },
  {
   "cell_type": "code",
   "execution_count": 8,
   "id": "bound-ending",
   "metadata": {},
   "outputs": [
    {
     "name": "stdout",
     "output_type": "stream",
     "text": [
      "\n",
      "Status: ok\n",
      "Termination condition: optimal\n",
      "Statistics: \n",
      "  Branch and bound: \n",
      "    Number of bounded subproblems: 0\n",
      "    Number of created subproblems: 0\n",
      "Error rc: 0\n",
      "Time: 0.004017829895019531\n",
      "\n"
     ]
    }
   ],
   "source": [
    "# Basic info about the solution process\n",
    "for info in sol['Solver']:\n",
    "    print(info)"
   ]
  },
  {
   "cell_type": "markdown",
   "id": "adjustable-gospel",
   "metadata": {},
   "source": [
    "Whenever the status of the solver is OK, we can query the solver to get the optimal value of the objective function and of the decision variables."
   ]
  },
  {
   "cell_type": "code",
   "execution_count": 9,
   "id": "material-commerce",
   "metadata": {},
   "outputs": [
    {
     "name": "stdout",
     "output_type": "stream",
     "text": [
      "Optimal solution value: z = 114.0\n",
      "Decision variables:\n",
      "\tProduction of chairs: 6.0\n",
      "\tProduction of tables: 6.0\n"
     ]
    }
   ],
   "source": [
    "# Report solution value\n",
    "print(\"Optimal solution value: z =\", model.cost())\n",
    "print(\"Decision variables:\")\n",
    "print(\"\\tProduction of chairs:\", model.c())\n",
    "print(\"\\tProduction of tables:\", model.t())"
   ]
  },
  {
   "cell_type": "markdown",
   "id": "certain-timing",
   "metadata": {},
   "source": [
    "As we found manually during the *Active Learning* session, the optimal production plan is to build 6 chairs and 6 tables, to get a profit of 114 kroner."
   ]
  },
  {
   "cell_type": "markdown",
   "id": "metric-insured",
   "metadata": {},
   "source": [
    "It is also possible to check the file temporary file produced by Pyomo and passed as input to the Glpk solver, with the following command:"
   ]
  },
  {
   "cell_type": "code",
   "execution_count": 10,
   "id": "renewable-literature",
   "metadata": {},
   "outputs": [
    {
     "data": {
      "text/plain": [
       "('lego1.lp', 4882522192)"
      ]
     },
     "execution_count": 10,
     "metadata": {},
     "output_type": "execute_result"
    }
   ],
   "source": [
    "model.write('lego1.lp')"
   ]
  },
  {
   "cell_type": "markdown",
   "id": "greek-miracle",
   "metadata": {},
   "source": [
    "## 2.4 Complete Script\n",
    "We report below the complete script."
   ]
  },
  {
   "cell_type": "code",
   "execution_count": null,
   "id": "judicial-michigan",
   "metadata": {},
   "outputs": [],
   "source": [
    "# Main model object\n",
    "model = ConcreteModel()\n",
    "\n",
    "# Declare decision variables\n",
    "model.c = Var(domain=NonNegativeReals)\n",
    "model.t = Var(domain=NonNegativeReals)\n",
    "\n",
    "# Declare objective\n",
    "model.cost = Objective(\n",
    "    expr =  8*model.c + 11*model.t,\n",
    "    sense = maximize)\n",
    "\n",
    "# Declare constraints\n",
    "model.cnstr1 = Constraint(expr = 2*model.c + 2*model.t <= 24)\n",
    "model.cnstr2 = Constraint(expr = 1*model.c + 2*model.t <= 18)\n",
    "\n",
    "# Solve the LP model\n",
    "sol = SolverFactory('glpk').solve(model, tee=True)\n",
    "\n",
    "# Basic info about the solution process\n",
    "for info in sol['Solver']:\n",
    "    print(info)\n",
    "    \n",
    "# Report solution value\n",
    "print(\"Optimal solution value: z =\", model.cost())\n",
    "print(\"Decision variables:\")\n",
    "print(\"\\tProduction of chairs:\", model.c())\n",
    "print(\"\\tProduction of tables:\", model.t())"
   ]
  },
  {
   "cell_type": "markdown",
   "id": "threaded-draft",
   "metadata": {},
   "source": [
    "## 2.5 Exercise: three variables\n",
    "As an exercise, you can try to modify the previous script to solve the second version of the Lego Planning problem:\n",
    "\n",
    "$$\n",
    "\\begin{align}\n",
    "\\max \\quad & 8 c + 11 t + 15 s \\\\\n",
    " \\quad & 2c + 2t +2s \\leq 24 \\\\\n",
    "& c + 2 t +3s \\leq 18\\\\\n",
    "& c \\geq 0\\\\\n",
    "& t \\geq 0\\\\\n",
    "& s \\geq 0\n",
    "\\end{align}\n",
    "$$\n",
    "\n",
    "Basically, you have to add a third variable to the model, to modify the objective function, and the two constraints. Later, you call the solver again."
   ]
  },
  {
   "cell_type": "code",
   "execution_count": null,
   "id": "taken-february",
   "metadata": {},
   "outputs": [],
   "source": [
    "# TO BE COMPLETED ..."
   ]
  }
 ],
 "metadata": {
  "@webio": {
   "lastCommId": null,
   "lastKernelId": null
  },
  "kernelspec": {
   "display_name": "Python 3.11.2 64-bit",
   "language": "python",
   "name": "python3"
  },
  "language_info": {
   "codemirror_mode": {
    "name": "ipython",
    "version": 3
   },
   "file_extension": ".py",
   "mimetype": "text/x-python",
   "name": "python",
   "nbconvert_exporter": "python",
   "pygments_lexer": "ipython3",
   "version": "3.11.2"
  },
  "vscode": {
   "interpreter": {
    "hash": "b0fa6594d8f4cbf19f97940f81e996739fb7646882a419484c72d19e05852a7e"
   }
  }
 },
 "nbformat": 4,
 "nbformat_minor": 5
}

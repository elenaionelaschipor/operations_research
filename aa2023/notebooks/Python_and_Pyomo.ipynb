{
 "cells": [
  {
   "cell_type": "markdown",
   "id": "familiar-registration",
   "metadata": {},
   "source": [
    "<a rel=\"license\" href=\"http://creativecommons.org/licenses/by/4.0/\"><img alt=\"Creative Commons License\" style=\"border-width:0\" src=\"https://i.creativecommons.org/l/by/4.0/88x31.png\" /></a><br /><span xmlns:dct=\"http://purl.org/dc/terms/\" property=\"dct:title\"><b>Misc exercises</b></span> by <a xmlns:cc=\"http://creativecommons.org/ns#\" href=\"http://mate.unipv.it/gualandi\" property=\"cc:attributionName\" rel=\"cc:attributionURL\">Stefano Gualandi</a> is licensed under a <a rel=\"license\" href=\"http://creativecommons.org/licenses/by/4.0/\">Creative Commons Attribution 4.0 International License</a>.<br />Based on a work at <a xmlns:dct=\"http://purl.org/dc/terms/\" href=\"https://github.com/mathcoding/opt4ds\" rel=\"dct:source\">https://github.com/mathcoding/opt4ds</a>."
   ]
  },
  {
   "cell_type": "markdown",
   "id": "mental-hundred",
   "metadata": {},
   "source": [
    "**NOTE:** Execute the following script whenever running this script on a Google Colab."
   ]
  },
  {
   "cell_type": "code",
   "execution_count": null,
   "id": "loving-spanking",
   "metadata": {},
   "outputs": [],
   "source": [
    "import shutil\n",
    "import sys\n",
    "import os.path\n",
    "\n",
    "if not shutil.which(\"pyomo\"):\n",
    "    !pip install -q pyomo\n",
    "    assert(shutil.which(\"pyomo\"))\n",
    "\n",
    "if not (shutil.which(\"glpk\") or os.path.isfile(\"glpk\")):\n",
    "    if \"google.colab\" in sys.modules:\n",
    "        !apt-get install -y -qq glpk-utils\n",
    "    else:\n",
    "        try:\n",
    "            !conda install -c conda-forge glpk \n",
    "        except:\n",
    "            pass"
   ]
  },
  {
   "cell_type": "markdown",
   "id": "opening-practice",
   "metadata": {},
   "source": [
    "## 3. Writing ILP Models with Pyomo\n",
    "In this notebook, we show how to use Pyomo to write general LPs problems.\n",
    "\n",
    "### 3.1 Solving the Lego Planning Problem\n",
    "As a first exercise, you have to solve the **Linear Programming (LP)** problem that we have written to model the Lego Planning problem (see the slides on KIRO):\n",
    "\n",
    "$$\n",
    "\\begin{align}\n",
    "\\max \\quad & 8 c + 11 t  \\\\\n",
    " \\quad & 2c + 2t \\leq 24 \\\\\n",
    "& c + 2 t \\leq 18\\\\\n",
    "& c \\geq 0\\\\\n",
    "& t \\geq 0\n",
    "\\end{align}\n",
    "$$\n",
    "\n",
    "You have to use Pyomo to define the **variables**, the **objective function**, and the **constraints**.\n",
    "\n",
    "**EXERCISE 1:** Using the template for the *Steel Production Planning Problem* solve the LEGO instance defined above."
   ]
  },
  {
   "cell_type": "code",
   "execution_count": null,
   "id": "d513dae5",
   "metadata": {},
   "outputs": [],
   "source": [
    "# Write your own script"
   ]
  },
  {
   "cell_type": "markdown",
   "id": "26981cb0",
   "metadata": {},
   "source": [
    "**EXERCISE 2:** Modify the previous script to solve the second version of the Lego Planning problem:\n",
    "\n",
    "$$\n",
    "\\begin{align}\n",
    "\\max \\quad & 8 c + 11 t + 15 s \\\\\n",
    " \\quad & 2c + 2t +2s \\leq 24 \\\\\n",
    "& c + 2 t +3s \\leq 18\\\\\n",
    "& c \\geq 0\\\\\n",
    "& t \\geq 0\\\\\n",
    "& s \\geq 0\n",
    "\\end{align}\n",
    "$$\n",
    "\n",
    "Basically, you have to add a third variable to the model, to modify the objective function, and the two constraints. Later, you call the solver again, check the status of the solver, and the solution values."
   ]
  },
  {
   "cell_type": "code",
   "execution_count": null,
   "id": "69099f2f",
   "metadata": {},
   "outputs": [],
   "source": [
    "# Write your own script"
   ]
  },
  {
   "cell_type": "markdown",
   "id": "negative-smart",
   "metadata": {},
   "source": [
    "### 3.2 Random LPs\n",
    "Let consider the following python function that generates a random LP instance.\n",
    "\n",
    "Recall that an LP is completely defined by the cost vector $c$, the rhs vector $b$, and the coefficient matrix $A$:\n",
    "\n",
    "$$\n",
    "    z = \\min \\,\\{ c x \\mid Ax \\geq b, x \\geq 0 \\,\\}\n",
    "$$\n",
    "\n",
    "Look at the following function."
   ]
  },
  {
   "cell_type": "code",
   "execution_count": null,
   "id": "ready-astronomy",
   "metadata": {},
   "outputs": [],
   "source": [
    "from numpy import random\n",
    "def RandomILP(n, m, seed=13):\n",
    "    random.seed(seed)\n",
    "    c = random.randint(1, 10, size=n)\n",
    "    b = random.randint(1, 10, size=m)\n",
    "    A = random.randint(1, 10, size=(m,n))\n",
    "    \n",
    "    return c, b, A\n",
    "    \n",
    "print(RandomILP(2,3))"
   ]
  },
  {
   "cell_type": "markdown",
   "id": "adequate-florist",
   "metadata": {},
   "source": [
    "Next, we write another function that takes as input the data of an LP instance, and it builds the LP model using the Pyomo syntax, solves the instances, check the return status of the solver, and if possible print to video an optimal solution."
   ]
  },
  {
   "cell_type": "code",
   "execution_count": null,
   "id": "impossible-macedonia",
   "metadata": {},
   "outputs": [],
   "source": [
    "from pyomo.environ import *\n",
    "\n",
    "def SolveILP(c, b, A):\n",
    "    m = len(b)\n",
    "    n = len(c)\n",
    "    \n",
    "    model = ConcreteModel()\n",
    "    \n",
    "    # Be careful: RangeSet starts at 1 and not a 0, as python list index\n",
    "    model.I = RangeSet(n)\n",
    "    model.J = RangeSet(m)\n",
    "    \n",
    "    model.x = Var(model.I, within=NonNegativeIntegers)\n",
    "    \n",
    "    model.obj = Objective(expr = sum(c[i-1]*model.x[i] for i in model.I))\n",
    "#                          sense = maximize)\n",
    "    \n",
    "    model.vincoli = ConstraintList()\n",
    "    for j in model.J:\n",
    "        model.vincoli.add(expr = sum(A[j-1, i-1]*model.x[i] for i in model.I) >= b[j-1])\n",
    "    \n",
    "    # Solver path\n",
    "    solvername='glpk'\n",
    "    # WARNING: The following path depends on your file system (windows, unix, mac)\n",
    "    #          On Colab you can omit the executable paramater\n",
    "    solverpath_folder='/Users/gualandi/solvers/glpk/bin/' \n",
    "    solverpath_exe=solverpath_folder+'glpsol'\n",
    "\n",
    "    sol = SolverFactory(solvername).solve(model, tee=True)\n",
    "    #sol = SolverFactory(solvername, executable=solverpath_exe).solve(model, tee=False)\n",
    "    \n",
    "    for info in sol['Solver']:\n",
    "        print(info)\n",
    "        \n",
    "    xbar = [model.x[i]() for i in model.I]\n",
    "    \n",
    "    return 'optimal', model.obj(), xbar"
   ]
  },
  {
   "cell_type": "markdown",
   "id": "b8ad962e",
   "metadata": {},
   "source": [
    "Below we show an example of calling this function."
   ]
  },
  {
   "cell_type": "code",
   "execution_count": null,
   "id": "statutory-density",
   "metadata": {},
   "outputs": [],
   "source": [
    "c, b, A = RandomILP(2, 3, 1717)\n",
    "print(c,b,A)\n",
    "print(SolveILP(c, b, A))"
   ]
  },
  {
   "cell_type": "markdown",
   "id": "cubic-elimination",
   "metadata": {},
   "source": [
    "### 3.3 Nurse Scheduling\n",
    "Consider the nurse scheduling problem on the lecture' slides.\n",
    "\n",
    "Let us write the same model, but in addition we use a cost larger than 1 for the Friday, Saturday, and Sunday nights.\n",
    "\n",
    "For the model description we refer to the slides used during the lecture."
   ]
  },
  {
   "cell_type": "code",
   "execution_count": null,
   "id": "comfortable-prayer",
   "metadata": {},
   "outputs": [],
   "source": [
    "# Import the numerical python library https://numpy.org/\n",
    "import numpy as np\n",
    "\n",
    "def StaffScheduling():\n",
    "    # Data\n",
    "    d = 7\n",
    "    w = 5\n",
    "    demand = [5,6,7,3,3,2,2]\n",
    "    cost = [1.0, 1.0, 1.01, 1.02, 1.03, 1.07, 1.05]\n",
    "\n",
    "    # Using the numpy library create a matrix of dimension \"d x d\"\n",
    "    A = np.zeros( (d,d) )\n",
    "    # Set the matrix coefficient to 1 using the patter of the slide\n",
    "    for i in range(d):\n",
    "        for j in range(w):\n",
    "            A[(i+j)%d, i] = 1\n",
    "    \n",
    "    # Declare the model\n",
    "    model = ConcreteModel()\n",
    "    \n",
    "    model.Day = RangeSet(d)\n",
    "    \n",
    "    model.x = Var(model.Day, within = NonNegativeIntegers)\n",
    "    \n",
    "    model.obj = Objective(expr=sum(cost[i-1]*model.x[i] for i in model.Day))\n",
    "    \n",
    "    model.cover = ConstraintList()\n",
    "    for day in model.Day:\n",
    "        model.cover.add(expr=sum(A[day-1, i-1]*model.x[i] for i in model.Day) >= demand[day-1])\n",
    "    \n",
    "    # Let us inspect (debug) the intermediate LP file\n",
    "    model.write(\"staff.lp\")\n",
    "   \n",
    "    # Solver path\n",
    "    solvername='glpk'\n",
    "    # WARNING: The following path depends on your file system (windows, unix, mac)\n",
    "    # On Colab you can omit the executable paramater\n",
    "    solverpath_folder='/Users/gualandi/solvers/glpk/bin/' \n",
    "    solverpath_exe=solverpath_folder+'glpsol'\n",
    "\n",
    "    # Solve the LP model\n",
    "    sol = SolverFactory(solvername).solve(model, tee=True)\n",
    "    #sol = SolverFactory(solvername, executable=solverpath_exe).solve(model, tee=True)\n",
    "    \n",
    "    # Check the status\n",
    "    for info in sol['Solver']:\n",
    "        print(info)\n",
    "        \n",
    "        \n",
    "    # Look at the solution\n",
    "    xbar = [model.x[i]() for i in model.Day]\n",
    "    \n",
    "    return 'optimal', model.obj(), xbar\n",
    " "
   ]
  },
  {
   "cell_type": "code",
   "execution_count": null,
   "id": "unlike-uzbekistan",
   "metadata": {},
   "outputs": [],
   "source": [
    "print(StaffScheduling())"
   ]
  },
  {
   "cell_type": "code",
   "execution_count": null,
   "id": "17053663",
   "metadata": {},
   "outputs": [],
   "source": [
    "!more staff.lp"
   ]
  },
  {
   "cell_type": "markdown",
   "id": "b242e578",
   "metadata": {},
   "source": [
    "### 3.4 Exercise: Steel Recycle Blending Problem\n",
    "The industrial steel can be easily recycled, since it is possible to burn any\n",
    "scrap to get only liquid steel (without plastics, glasses, ...).\n",
    "However, it is hard to separate each single metal presents in the scrap,\n",
    "and as a consequence, beside iron, we can get also chromium, nichel, and\n",
    "other impurities in the liquid steel.\n",
    "\n",
    "Depending on the type of production, some metals are desirable, while others\n",
    "are not. For example, the stainless steel 18/10 must have 18% of chromium and\n",
    "10% of nichel (consider that chromium and nichel are very expensive, much more \n",
    "than the steel itself). \n",
    "\n",
    "**Problem Statement:** Suppose that the Rossi's Steel company of Voghera can choose to buy some iron\n",
    "scrap block with different properties regarding the different metals contained in \n",
    "each block. The company want to produce at minimum cost 100 quintals of stainless \n",
    "steel 18/10, which must have at least 65% of iron and at most 1% of \n",
    "impurity materials. Which fraction of each block is going to buy?\n",
    "\n",
    "The data of the problem are given below."
   ]
  },
  {
   "cell_type": "code",
   "execution_count": null,
   "id": "f776d9a6",
   "metadata": {},
   "outputs": [],
   "source": [
    "# Data of the problem (in theory, read data from .csv or excel file)\n",
    "\n",
    "# Blocks you can buy\n",
    "Blocks = ['Block1','Block2','Block3','Block4','Block5','Block6']\n",
    "\n",
    "Weights = [30, 90, 50, 70, 60, 50]  # In quintals\n",
    "Costs = [50, 100, 80, 85, 92, 115]  # Thousand of euros\n",
    "\n",
    "# Components of metal in each block (given in percentage)\n",
    "Cs = [[93, 76, 74, 65, 72, 68],  # Ferro\n",
    "      [5, 13, 11, 16, 6, 23],    # Cromo\n",
    "      [0, 11, 12, 14, 20, 8],    # Nichel\n",
    "      [2, 0, 3, 5, 2, 1]]        # Impurità"
   ]
  },
  {
   "cell_type": "markdown",
   "id": "e7ee7203",
   "metadata": {},
   "source": [
    "**EXERCISE 3:** First, write on paper a LP model to solve the steel production problem for the Rossi's Steel company\n",
    "\n",
    "**EXERCISE 4:** Solve the LP using Pyomo and GLPK. "
   ]
  },
  {
   "cell_type": "markdown",
   "id": "01f88890",
   "metadata": {},
   "source": [
    "### Exercise 3.5: The Magic Square Puzzle\n",
    "The [Magic Square](https://en.wikipedia.org/wiki/Magic_square) puzzle asks to place into a grid of size $n \\times n$ the digits from $1$ to $n^2$, in such a way that the sum of the digits in each row, the sum of digits in each column, and the sum of the digits on the two main diagonals, is equal to the same number.\n",
    "\n",
    "You can play with a $4 \\times 4$ puzzle on Google Sheet online at [magic square link](https://docs.google.com/spreadsheets/d/1OcicQdKbZXpSV4ooXsbGC2OFR5cSgwgWgUimdwcT0qA/edit?usp=sharing).\n",
    "\n",
    "**EXERCISE 5:** Write an ILP model to solve the magic square puzzle of size $n$."
   ]
  },
  {
   "cell_type": "code",
   "execution_count": null,
   "id": "11784c83",
   "metadata": {},
   "outputs": [],
   "source": [
    "# Write your model here"
   ]
  }
 ],
 "metadata": {
  "@webio": {
   "lastCommId": null,
   "lastKernelId": null
  },
  "kernelspec": {
   "display_name": "Python 3.11.2 64-bit",
   "language": "python",
   "name": "python3"
  },
  "language_info": {
   "codemirror_mode": {
    "name": "ipython",
    "version": 3
   },
   "file_extension": ".py",
   "mimetype": "text/x-python",
   "name": "python",
   "nbconvert_exporter": "python",
   "pygments_lexer": "ipython3",
   "version": "3.11.2"
  },
  "vscode": {
   "interpreter": {
    "hash": "b0fa6594d8f4cbf19f97940f81e996739fb7646882a419484c72d19e05852a7e"
   }
  }
 },
 "nbformat": 4,
 "nbformat_minor": 5
}
